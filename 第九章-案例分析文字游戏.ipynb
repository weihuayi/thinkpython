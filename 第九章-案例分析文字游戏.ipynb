{
 "cells": [
  {
   "cell_type": "markdown",
   "id": "e857dbc3",
   "metadata": {},
   "source": [
    "本章介绍第二个案例分析，讲述通过搜索具有某种特性的单词来解决单词谜面这一话题。"
   ]
  },
  {
   "cell_type": "markdown",
   "id": "53149dd6",
   "metadata": {},
   "source": [
    "## 读取单词列表"
   ]
  },
  {
   "cell_type": "markdown",
   "id": "0980943d",
   "metadata": {},
   "source": [
    "对于 `txt` 文件，我们可以使用 Python 读入它。内置函数 `open` 接收文件名作为参数，并返回一个**文件对象**，可以用来读取文件"
   ]
  },
  {
   "cell_type": "code",
   "execution_count": 8,
   "id": "9c322817",
   "metadata": {},
   "outputs": [],
   "source": [
    "fin = open('words.txt')"
   ]
  },
  {
   "cell_type": "markdown",
   "id": "77ac8f06",
   "metadata": {},
   "source": [
    "`fin` 是用来表示文件对象作为输入源时常用的名称。文件对象提供了几个方法用于读取内容，例如 `readline`，它会从文件里读入字符，直到获得换行符为止，并将读入的结果作为一个字符串返回:"
   ]
  },
  {
   "cell_type": "code",
   "execution_count": 9,
   "id": "fed12479",
   "metadata": {},
   "outputs": [
    {
     "data": {
      "text/plain": [
       "'aa\\n'"
      ]
     },
     "execution_count": 9,
     "metadata": {},
     "output_type": "execute_result"
    }
   ],
   "source": [
    "fin.readline()"
   ]
  },
  {
   "cell_type": "markdown",
   "id": "61369008",
   "metadata": {},
   "source": [
    "其中 `\\n` 是一个空白字符，表示换行。"
   ]
  },
  {
   "cell_type": "markdown",
   "id": "6d82be73",
   "metadata": {},
   "source": [
    "文件对象会记录它读到文件的哪个位置，因此再次调用 `readline`，会得到下一个单词:"
   ]
  },
  {
   "cell_type": "code",
   "execution_count": 10,
   "id": "13b1db61",
   "metadata": {},
   "outputs": [
    {
     "data": {
      "text/plain": [
       "'aah\\n'"
      ]
     },
     "execution_count": 10,
     "metadata": {},
     "output_type": "execute_result"
    }
   ],
   "source": [
    "fin.readline()"
   ]
  },
  {
   "cell_type": "markdown",
   "id": "924eb606",
   "metadata": {},
   "source": [
    "可以使用字符串方法 `strip` 去掉空白字符"
   ]
  },
  {
   "cell_type": "code",
   "execution_count": 11,
   "id": "6ce25894",
   "metadata": {},
   "outputs": [
    {
     "data": {
      "text/plain": [
       "'aahed'"
      ]
     },
     "execution_count": 11,
     "metadata": {},
     "output_type": "execute_result"
    }
   ],
   "source": [
    "line = fin.readline()\n",
    "word = line.strip()\n",
    "word"
   ]
  },
  {
   "cell_type": "markdown",
   "id": "0a324566",
   "metadata": {},
   "source": [
    "还可以在 `for` 循环中使用文件对象。例如下面的代码读入 `words.txt`并每行打印出一个单词"
   ]
  },
  {
   "cell_type": "markdown",
   "id": "260c5a6c",
   "metadata": {},
   "source": [
    "```python\n",
    "fin = open(words.txt)\n",
    "for line in fin:\n",
    "    word = line.strip()\n",
    "    print(word)\n",
    "```"
   ]
  },
  {
   "cell_type": "markdown",
   "id": "262f2c1e",
   "metadata": {},
   "source": [
    "## 搜索"
   ]
  },
  {
   "cell_type": "markdown",
   "id": "841ed3e2",
   "metadata": {},
   "source": [
    "给出**练习9-2** 的一个示例:"
   ]
  },
  {
   "cell_type": "code",
   "execution_count": 13,
   "id": "f21ae927",
   "metadata": {},
   "outputs": [],
   "source": [
    "def has_no_e(word):\n",
    "    for letter in word:\n",
    "        if letter == 'e':\n",
    "            return False\n",
    "        return True"
   ]
  },
  {
   "cell_type": "markdown",
   "id": "3c008e90",
   "metadata": {},
   "source": [
    "`for` 循环便利循环单词 `word` 中的字符。如果我们找到字母 `\"e\"`，则可以立刻返回 `False`，否则只能继续下一个字母。如果正常退出了循环，则说明我们没有找到 `\"e\"`，所以返回 `True`。"
   ]
  },
  {
   "cell_type": "markdown",
   "id": "826d0261",
   "metadata": {},
   "source": [
    "再给出**练习9-3**的示例:"
   ]
  },
  {
   "cell_type": "code",
   "execution_count": 14,
   "id": "6a53dbe7",
   "metadata": {},
   "outputs": [],
   "source": [
    "def avoids(words,forbidden):\n",
    "    for letter in word:\n",
    "        if letter in forbidden:\n",
    "            return False\n",
    "        return True"
   ]
  },
  {
   "cell_type": "markdown",
   "id": "25a25d54",
   "metadata": {},
   "source": [
    "一旦发现一个禁止的字母，可以立刻返回 `False`;如果运行到循环结束，则返回 `True`。"
   ]
  },
  {
   "cell_type": "markdown",
   "id": "5ab62f1e",
   "metadata": {},
   "source": [
    "**练习9-4**的 `uses_only` 函数也类似，不过它条件判断的意思是相反的:"
   ]
  },
  {
   "cell_type": "code",
   "execution_count": 16,
   "id": "cfacc864",
   "metadata": {},
   "outputs": [],
   "source": [
    "def use_only(word,available):\n",
    "    for letter in word:\n",
    "        if letter not in available:\n",
    "            return False\n",
    "        return True"
   ]
  },
  {
   "cell_type": "markdown",
   "id": "41374ca3",
   "metadata": {},
   "source": [
    "它接收的参数并不是一个禁止字母列表，而是一个可用字母列表 `available`。如果我们发现单词中遇到了并不属于 `available` 的字母，则可以返回`False`。"
   ]
  },
  {
   "cell_type": "markdown",
   "id": "f4282923",
   "metadata": {},
   "source": [
    "**练习9-5** 的 `uses_all` 函数也类似，但单词和字母列表的角色相反。"
   ]
  },
  {
   "cell_type": "code",
   "execution_count": 17,
   "id": "55ba084d",
   "metadata": {},
   "outputs": [],
   "source": [
    "def uses_all(word,required):\n",
    "    for letter in required:\n",
    "        if letter not in word:\n",
    "            return False\n",
    "        return True"
   ]
  },
  {
   "cell_type": "markdown",
   "id": "fb971aff",
   "metadata": {},
   "source": [
    "我们不再遍历单词 `word` 中的字母，而是循环遍历所需的单词列表 `required`。如果单词列表中又任意字母没有出现在单词中，则可以返回 `False`。"
   ]
  },
  {
   "cell_type": "markdown",
   "id": "3d8f08fa",
   "metadata": {},
   "source": [
    "像计算机科学家那样思考，可以发现 `uses_all` 是已经解决的问题的一个特例，可以像下面这么写:"
   ]
  },
  {
   "cell_type": "code",
   "execution_count": 19,
   "id": "67d81f7e",
   "metadata": {},
   "outputs": [],
   "source": [
    "def uses_all(word,required):\n",
    "    return uses_only(required,word)"
   ]
  },
  {
   "cell_type": "markdown",
   "id": "1b8b8e1b",
   "metadata": {},
   "source": [
    "这是被称为 **将问题回归到已解决问题** 的程序开发计划的一个例子。意即你需要识别出的当前问题是一个已经解决的问题的特例，从而可以直接利用现有的解决方案。"
   ]
  },
  {
   "cell_type": "markdown",
   "id": "513495c2",
   "metadata": {},
   "source": [
    "## 使用下标循环"
   ]
  },
  {
   "cell_type": "markdown",
   "id": "55b70f7c",
   "metadata": {},
   "source": [
    "在上面的例子中，我们使用 `for` 循环进行遍历，因为只需要字符串中的字符，而不需要下标。"
   ]
  },
  {
   "cell_type": "markdown",
   "id": "bbea459e",
   "metadata": {},
   "source": [
    "但对于 **练习9-6** 中的`is_abecedarian` 函数来说，我们需要比较相邻的字符，因此要引入下标来进行循环。"
   ]
  },
  {
   "cell_type": "code",
   "execution_count": 20,
   "id": "08e18ba9",
   "metadata": {},
   "outputs": [],
   "source": [
    "def is_abecedarian(word):\n",
    "    previous = word[0]\n",
    "    for c in word:\n",
    "        if c < previous:\n",
    "            return False\n",
    "        previous = c\n",
    "    return True"
   ]
  },
  {
   "cell_type": "markdown",
   "id": "9b58d6c3",
   "metadata": {},
   "source": [
    "或者可以使用递归:"
   ]
  },
  {
   "cell_type": "code",
   "execution_count": 21,
   "id": "165e0761",
   "metadata": {},
   "outputs": [],
   "source": [
    "def is_abecedarian(word):\n",
    "    if len(word) <= 1:\n",
    "        return True\n",
    "    if word[0] > word[1]:\n",
    "        return False\n",
    "    return is_abecedarian(word[1:])"
   ]
  },
  {
   "cell_type": "markdown",
   "id": "881dcfa0",
   "metadata": {},
   "source": [
    "或者可以使用 `while` 循环:"
   ]
  },
  {
   "cell_type": "code",
   "execution_count": 22,
   "id": "5e79cf68",
   "metadata": {},
   "outputs": [],
   "source": [
    "def is_abecadarian(word):\n",
    "    i = 0\n",
    "    while i<len(word)-1:\n",
    "        if word[i+1] < word[i]:\n",
    "            return False\n",
    "        i = i+1\n",
    "    return True"
   ]
  },
  {
   "cell_type": "markdown",
   "id": "2fcaaf72",
   "metadata": {},
   "source": [
    "给出**练习6-3**的 `is_palindrome` 函数的一个示例，该函数的作用是判断一个单词是不是回文，若是回文则返回 `True`，否则返回 `False`。"
   ]
  },
  {
   "cell_type": "code",
   "execution_count": 23,
   "id": "30504ef3",
   "metadata": {},
   "outputs": [],
   "source": [
    "def is_palindrome(word):\n",
    "    i = 0\n",
    "    j = len(word)-1\n",
    "    \n",
    "    while i<j:\n",
    "        if word[i] !=word[j]:\n",
    "            return False\n",
    "        i = i+1\n",
    "        j = j-1\n",
    "        \n",
    "    return True"
   ]
  },
  {
   "cell_type": "markdown",
   "id": "ab1b5fac",
   "metadata": {},
   "source": [
    "或者可以将其回归到已经解决的问题，使用练习 8-2 中的 `is_reverse` 可以这样写:"
   ]
  },
  {
   "cell_type": "code",
   "execution_count": 24,
   "id": "4230acf3",
   "metadata": {},
   "outputs": [],
   "source": [
    "def is_palindrome(word):\n",
    "    return is_reverse(word,word)"
   ]
  },
  {
   "cell_type": "markdown",
   "id": "5e1781c7",
   "metadata": {},
   "source": [
    "## 调试"
   ]
  },
  {
   "cell_type": "markdown",
   "id": "01e9179f",
   "metadata": {},
   "source": [
    "测试程序并不容易，你需要考虑每一种可能的情况。本章中的函数相对容易测试，因为可以简单地手动验证结果。不过即便如此，要选择一组可以测试到所有可能的错误的单词，也是不容易的，甚至是不可能的。"
   ]
  },
  {
   "cell_type": "markdown",
   "id": "501d63be",
   "metadata": {},
   "source": [
    "以 `has_no_e` 为例，有两个很明显的用例可以检测:包括 `\"e\"` 的单词应该返回 `False`，不包含 `\"e\"` 的应当返回 `True`。"
   ]
  },
  {
   "cell_type": "markdown",
   "id": "cc6c48fd",
   "metadata": {},
   "source": [
    "但对每一种情况来说，也存在一些不那么明显的具体情况。在所有包含 `\"e\"` 的单词中，你应当测试以 `\"e\"` 开头的单词，也应当测试以 `\"e\"` 结尾和 `\"e\"` 在中部的情况。也应该测试长单词、短单词和非常短的单词，如空字符串。空字符串是**特殊情形**的一个例子。特殊情形往往不那么明显，但又常常隐藏着错误。"
   ]
  },
  {
   "cell_type": "markdown",
   "id": "5229fa7a",
   "metadata": {},
   "source": [
    "除了自己生成的测试用例之外，还可以使用类似 `words.txt` 这样的单词表来测试程序。通过扫描输出，可能会发现错误，但请注意:你可能会发现一种类型的错误(不应该被包含但却被包含的单词)，但对另一种类型的则不能发现(应该被包含，但却没有出现的单词)。"
   ]
  },
  {
   "cell_type": "markdown",
   "id": "1b9ed100",
   "metadata": {},
   "source": [
    "总之，测试可以帮你发现 `bug`，但生成一组号的测试用例并不容易。而且，即使有好的测试用例，也无法确认程序是完全正确的。"
   ]
  }
 ],
 "metadata": {
  "kernelspec": {
   "display_name": "Python 3",
   "language": "python",
   "name": "python3"
  },
  "language_info": {
   "codemirror_mode": {
    "name": "ipython",
    "version": 3
   },
   "file_extension": ".py",
   "mimetype": "text/x-python",
   "name": "python",
   "nbconvert_exporter": "python",
   "pygments_lexer": "ipython3",
   "version": "3.8.10"
  }
 },
 "nbformat": 4,
 "nbformat_minor": 5
}
