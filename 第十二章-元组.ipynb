{
 "cells": [
  {
   "cell_type": "markdown",
   "id": "baef7e3b",
   "metadata": {},
   "source": [
    "本章介绍一种内置类型——元组，并展示列表,字典和元组三者如何一起工作。"
   ]
  },
  {
   "cell_type": "markdown",
   "id": "34a6565a",
   "metadata": {},
   "source": [
    "## 元组是不可变的"
   ]
  },
  {
   "cell_type": "markdown",
   "id": "f1cc924a",
   "metadata": {},
   "source": [
    "元组是值的一个序列。其中的值可以是任何类型，并且按照整数下标索引，所以从这方面看，元组和列表很像。但元组和列表之间存在一个很重要的区别，就是元组是不可变的。"
   ]
  },
  {
   "cell_type": "markdown",
   "id": "7727c8d3",
   "metadata": {},
   "source": [
    "语法上，元组是用逗号分隔的一列值:"
   ]
  },
  {
   "cell_type": "code",
   "execution_count": 1,
   "id": "292f3a54",
   "metadata": {},
   "outputs": [],
   "source": [
    "t = 'a','b','c','d','e'"
   ]
  },
  {
   "cell_type": "markdown",
   "id": "852b33e2",
   "metadata": {},
   "source": [
    "但我们表示元组时，一般是用括号括起来:"
   ]
  },
  {
   "cell_type": "code",
   "execution_count": 2,
   "id": "e7471b3a",
   "metadata": {},
   "outputs": [],
   "source": [
    "t = ('a','b','c','d','e')"
   ]
  },
  {
   "cell_type": "markdown",
   "id": "f95e189b",
   "metadata": {},
   "source": [
    "若要新建只包含一个元素的元组，则需要在后面添加一个逗号:"
   ]
  },
  {
   "cell_type": "code",
   "execution_count": 3,
   "id": "6fc2df1f",
   "metadata": {},
   "outputs": [
    {
     "name": "stdout",
     "output_type": "stream",
     "text": [
      "<class 'tuple'>\n"
     ]
    }
   ],
   "source": [
    "t1 = 'a',\n",
    "print(type(t1))"
   ]
  },
  {
   "cell_type": "markdown",
   "id": "9e4a2618",
   "metadata": {},
   "source": [
    "但用括号括起来的单独的值并不是元组:"
   ]
  },
  {
   "cell_type": "code",
   "execution_count": 4,
   "id": "fe87cd52",
   "metadata": {},
   "outputs": [
    {
     "name": "stdout",
     "output_type": "stream",
     "text": [
      "<class 'str'>\n"
     ]
    }
   ],
   "source": [
    "t2 = ('a')\n",
    "print(type(t2))"
   ]
  },
  {
   "cell_type": "markdown",
   "id": "07271302",
   "metadata": {},
   "source": [
    "新建元组的另一种形式是使用内置函数`tuple`。不带参数时，它会新建一个空元组:"
   ]
  },
  {
   "cell_type": "code",
   "execution_count": 5,
   "id": "d7df440d",
   "metadata": {},
   "outputs": [
    {
     "name": "stdout",
     "output_type": "stream",
     "text": [
      "()\n"
     ]
    }
   ],
   "source": [
    "t = tuple()\n",
    "print(t)"
   ]
  },
  {
   "cell_type": "markdown",
   "id": "2eed2ef5",
   "metadata": {},
   "source": [
    "如果参数是一个序列，比如字符串,列表或者元组，结果就是一个包含序列的元素的元组:"
   ]
  },
  {
   "cell_type": "code",
   "execution_count": 6,
   "id": "0cdb777a",
   "metadata": {},
   "outputs": [
    {
     "name": "stdout",
     "output_type": "stream",
     "text": [
      "('l', 'u', 'p', 'i', 'n', 's')\n"
     ]
    }
   ],
   "source": [
    "t = tuple('lupins')\n",
    "print(t)"
   ]
  },
  {
   "cell_type": "markdown",
   "id": "712a60c7",
   "metadata": {},
   "source": [
    "大多数列表操作也可以用于元组。方括号操作符可以用下标取得元素:"
   ]
  },
  {
   "cell_type": "code",
   "execution_count": 7,
   "id": "03808754",
   "metadata": {},
   "outputs": [
    {
     "name": "stdout",
     "output_type": "stream",
     "text": [
      "a\n"
     ]
    }
   ],
   "source": [
    "t = ('a','b','c','d','e')\n",
    "print(t[0])"
   ]
  },
  {
   "cell_type": "markdown",
   "id": "3c73cc81",
   "metadata": {},
   "source": [
    "切片操作符选择一个范围内的元素:"
   ]
  },
  {
   "cell_type": "code",
   "execution_count": 8,
   "id": "ad914d82",
   "metadata": {},
   "outputs": [
    {
     "name": "stdout",
     "output_type": "stream",
     "text": [
      "('b', 'c')\n"
     ]
    }
   ],
   "source": [
    "print(t[1:3])"
   ]
  },
  {
   "cell_type": "markdown",
   "id": "9f5f3bae",
   "metadata": {},
   "source": [
    "但如果尝试修改元组中的一个元素，则会报错:"
   ]
  },
  {
   "cell_type": "code",
   "execution_count": 9,
   "id": "f83a6541",
   "metadata": {},
   "outputs": [
    {
     "ename": "TypeError",
     "evalue": "'tuple' object does not support item assignment",
     "output_type": "error",
     "traceback": [
      "\u001b[0;31m---------------------------------------------------------------------------\u001b[0m",
      "\u001b[0;31mTypeError\u001b[0m                                 Traceback (most recent call last)",
      "\u001b[0;32m/tmp/ipykernel_4277/3054271853.py\u001b[0m in \u001b[0;36m<module>\u001b[0;34m\u001b[0m\n\u001b[0;32m----> 1\u001b[0;31m \u001b[0mt\u001b[0m\u001b[0;34m[\u001b[0m\u001b[0;36m0\u001b[0m\u001b[0;34m]\u001b[0m \u001b[0;34m=\u001b[0m \u001b[0;34m'A'\u001b[0m\u001b[0;34m\u001b[0m\u001b[0;34m\u001b[0m\u001b[0m\n\u001b[0m",
      "\u001b[0;31mTypeError\u001b[0m: 'tuple' object does not support item assignment"
     ]
    }
   ],
   "source": [
    "t[0] = 'A'"
   ]
  },
  {
   "cell_type": "markdown",
   "id": "93c04ee8",
   "metadata": {},
   "source": [
    "这是因为元组是不可变的，所以不能修改它的元素。但是可以将一个元组替换为另一个:"
   ]
  },
  {
   "cell_type": "code",
   "execution_count": 11,
   "id": "45aabecd",
   "metadata": {},
   "outputs": [
    {
     "name": "stdout",
     "output_type": "stream",
     "text": [
      "('A', 'b', 'c', 'd', 'e')\n"
     ]
    }
   ],
   "source": [
    "t = ('A',) + t[1:]\n",
    "print(t)"
   ]
  },
  {
   "cell_type": "markdown",
   "id": "75df4702",
   "metadata": {},
   "source": [
    "这条语句生成新元组，然后使 `t` 引用它。"
   ]
  },
  {
   "cell_type": "markdown",
   "id": "8b4fcdd9",
   "metadata": {},
   "source": [
    "关系运算符适用于元组和其他序列。Python 从比较每个序列的第一个元素开始。如果它们相等，它就继续比较下一个元素，依此类推，直到它找到不同元素为止。"
   ]
  },
  {
   "cell_type": "code",
   "execution_count": 12,
   "id": "3f5aca0e",
   "metadata": {},
   "outputs": [
    {
     "data": {
      "text/plain": [
       "True"
      ]
     },
     "execution_count": 12,
     "metadata": {},
     "output_type": "execute_result"
    }
   ],
   "source": [
    "(0,1,2)<(0,3,4)"
   ]
  },
  {
   "cell_type": "code",
   "execution_count": 14,
   "id": "85c742ce",
   "metadata": {},
   "outputs": [
    {
     "data": {
      "text/plain": [
       "True"
      ]
     },
     "execution_count": 14,
     "metadata": {},
     "output_type": "execute_result"
    }
   ],
   "source": [
    "[0,1,2]<[0,3,4]"
   ]
  },
  {
   "cell_type": "code",
   "execution_count": 15,
   "id": "6457314b",
   "metadata": {},
   "outputs": [
    {
     "data": {
      "text/plain": [
       "True"
      ]
     },
     "execution_count": 15,
     "metadata": {},
     "output_type": "execute_result"
    }
   ],
   "source": [
    "(0,1,20000)<(0,3,4)"
   ]
  },
  {
   "cell_type": "markdown",
   "id": "ead6c2b2",
   "metadata": {},
   "source": [
    "## 元组赋值"
   ]
  },
  {
   "cell_type": "markdown",
   "id": "914f6de7",
   "metadata": {},
   "source": [
    "交换两个变量的值往往很有用。使用传统的赋值方式，需要使用一个临时变量。例如，若要交换 `a` 和 `b`。"
   ]
  },
  {
   "cell_type": "code",
   "execution_count": 18,
   "id": "9c6966a5",
   "metadata": {},
   "outputs": [],
   "source": [
    "a = 1 \n",
    "b = 2\n",
    "temp = a\n",
    "a = b\n",
    "b = temp"
   ]
  },
  {
   "cell_type": "markdown",
   "id": "39a4f8ef",
   "metadata": {},
   "source": [
    "这种解决方案比较笨拙，而在 Python 中我们可以使用**元组赋值**: "
   ]
  },
  {
   "cell_type": "code",
   "execution_count": 20,
   "id": "8d90e5dd",
   "metadata": {},
   "outputs": [],
   "source": [
    "a,b = b,a"
   ]
  },
  {
   "cell_type": "markdown",
   "id": "9dcece81",
   "metadata": {},
   "source": [
    "左边是一个变量的元组，右边是表达式的元组。每个值会被赋值给相应的变量。右边所有的表达式，都会在任何赋值操作进行之前完成求值。"
   ]
  },
  {
   "cell_type": "markdown",
   "id": "254e6c70",
   "metadata": {},
   "source": [
    "需要注意，左边变量的个数和右边值的个数必须相同，否则则会报错:"
   ]
  },
  {
   "cell_type": "code",
   "execution_count": 22,
   "id": "b8ef867e",
   "metadata": {},
   "outputs": [
    {
     "ename": "ValueError",
     "evalue": "too many values to unpack (expected 2)",
     "output_type": "error",
     "traceback": [
      "\u001b[0;31m---------------------------------------------------------------------------\u001b[0m",
      "\u001b[0;31mValueError\u001b[0m                                Traceback (most recent call last)",
      "\u001b[0;32m/tmp/ipykernel_4277/4227967750.py\u001b[0m in \u001b[0;36m<module>\u001b[0;34m\u001b[0m\n\u001b[0;32m----> 1\u001b[0;31m \u001b[0ma\u001b[0m\u001b[0;34m,\u001b[0m\u001b[0mb\u001b[0m \u001b[0;34m=\u001b[0m \u001b[0;36m1\u001b[0m\u001b[0;34m,\u001b[0m\u001b[0;36m2\u001b[0m\u001b[0;34m,\u001b[0m\u001b[0;36m3\u001b[0m\u001b[0;34m\u001b[0m\u001b[0;34m\u001b[0m\u001b[0m\n\u001b[0m",
      "\u001b[0;31mValueError\u001b[0m: too many values to unpack (expected 2)"
     ]
    }
   ],
   "source": [
    "a,b = 1,2,3"
   ]
  },
  {
   "cell_type": "markdown",
   "id": "2c3a5870",
   "metadata": {},
   "source": [
    "更通用地，右边可以是任意类型的序列(字符串,列表或元组)。例如，想要将电子邮件地址拆分成用户名和域名，可以这么写:"
   ]
  },
  {
   "cell_type": "code",
   "execution_count": 24,
   "id": "44c9164f",
   "metadata": {},
   "outputs": [],
   "source": [
    "addr = 'monty@python.org'\n",
    "uname,domain = addr.split('@')"
   ]
  },
  {
   "cell_type": "markdown",
   "id": "a8c3c80c",
   "metadata": {},
   "source": [
    "`split` 返回两个元素的列表，第一个元素被复制到 `uname`，第二个到 `domain` 上。"
   ]
  },
  {
   "cell_type": "code",
   "execution_count": 25,
   "id": "83c37de7",
   "metadata": {},
   "outputs": [
    {
     "data": {
      "text/plain": [
       "'monty'"
      ]
     },
     "execution_count": 25,
     "metadata": {},
     "output_type": "execute_result"
    }
   ],
   "source": [
    "uname"
   ]
  },
  {
   "cell_type": "code",
   "execution_count": 26,
   "id": "63fe0bbf",
   "metadata": {},
   "outputs": [
    {
     "data": {
      "text/plain": [
       "'python.org'"
      ]
     },
     "execution_count": 26,
     "metadata": {},
     "output_type": "execute_result"
    }
   ],
   "source": [
    "domain"
   ]
  },
  {
   "cell_type": "markdown",
   "id": "68fdc8b5",
   "metadata": {},
   "source": [
    "## 作为返回值的元组"
   ]
  },
  {
   "cell_type": "markdown",
   "id": "8774861a",
   "metadata": {},
   "source": [
    "严格地说，函数只能返回一个值，但我们可以将元组作为返回值，效果和返回多个值差不多。例如，如果将两个整数相除，得到商和余数，那么先计算 `x/y` 再计算 `x%y` 并不高效。更好地方式是同时计算它们。"
   ]
  },
  {
   "cell_type": "markdown",
   "id": "7cb2e77c",
   "metadata": {},
   "source": [
    "内置函数 `divmod` 接收两个参数，并返回两个值的元组，即商和余数。可以将结果存为一个元组:"
   ]
  },
  {
   "cell_type": "code",
   "execution_count": 27,
   "id": "ed903494",
   "metadata": {},
   "outputs": [
    {
     "name": "stdout",
     "output_type": "stream",
     "text": [
      "(2, 1)\n"
     ]
    }
   ],
   "source": [
    "t = divmod(7,3)\n",
    "print(t)"
   ]
  },
  {
   "cell_type": "markdown",
   "id": "722d5f60",
   "metadata": {},
   "source": [
    "还可以使用元组赋值来分别存储结果中的元素:"
   ]
  },
  {
   "cell_type": "code",
   "execution_count": 28,
   "id": "9546d57c",
   "metadata": {},
   "outputs": [
    {
     "name": "stdout",
     "output_type": "stream",
     "text": [
      "2\n",
      "1\n"
     ]
    }
   ],
   "source": [
    "quot, rem = divmod(7,3)\n",
    "print(quot)\n",
    "print(rem)"
   ]
  },
  {
   "cell_type": "markdown",
   "id": "4b96efe1",
   "metadata": {},
   "source": [
    "下面给出返回一个元组的函数的示例:"
   ]
  },
  {
   "cell_type": "code",
   "execution_count": 29,
   "id": "0064a245",
   "metadata": {},
   "outputs": [],
   "source": [
    "def min_max(t):\n",
    "    return min(t),max(t)"
   ]
  },
  {
   "cell_type": "markdown",
   "id": "cb9034cc",
   "metadata": {},
   "source": [
    "`max` 和 `min` 都是内置函数，分别返回一个序列的最大值和最小值。`min_max` 计算这两个值并将它们作为一个元组返回。"
   ]
  },
  {
   "cell_type": "markdown",
   "id": "bf839434",
   "metadata": {},
   "source": [
    "## 可变长参数元组"
   ]
  },
  {
   "cell_type": "markdown",
   "id": "18c35060",
   "metadata": {},
   "source": [
    "函数可以接收不定个数的参数。以 `*` 开头的参数名会 **收集(gather)** 所有的参数到一个元组上。例如，`printall` 接收任意个数的参数并打印它们:"
   ]
  },
  {
   "cell_type": "code",
   "execution_count": 30,
   "id": "ae201ec8",
   "metadata": {},
   "outputs": [],
   "source": [
    "def printall(*args):\n",
    "    print(args)"
   ]
  },
  {
   "cell_type": "markdown",
   "id": "218b9411",
   "metadata": {},
   "source": [
    "收集参数可以使用任何你想要的名称，但按惯例通常使用 `args`。给出使用该函数的一个范例:"
   ]
  },
  {
   "cell_type": "code",
   "execution_count": 31,
   "id": "61ed7b04",
   "metadata": {},
   "outputs": [
    {
     "name": "stdout",
     "output_type": "stream",
     "text": [
      "(1, 2.0, '3')\n"
     ]
    }
   ],
   "source": [
    "printall(1,2.0,'3')"
   ]
  },
  {
   "cell_type": "markdown",
   "id": "4dee0ac6",
   "metadata": {},
   "source": [
    "收集的反面是**分散(scatter)**。如果想将一个序列的值作为可变长参数传入到函数中，可以使用 `*` 操作符。例如，`divmod` 正好接收两个参数，但它不接收元组:"
   ]
  },
  {
   "cell_type": "code",
   "execution_count": 32,
   "id": "314e0204",
   "metadata": {},
   "outputs": [
    {
     "ename": "TypeError",
     "evalue": "divmod expected 2 arguments, got 1",
     "output_type": "error",
     "traceback": [
      "\u001b[0;31m---------------------------------------------------------------------------\u001b[0m",
      "\u001b[0;31mTypeError\u001b[0m                                 Traceback (most recent call last)",
      "\u001b[0;32m/tmp/ipykernel_4277/3264091147.py\u001b[0m in \u001b[0;36m<module>\u001b[0;34m\u001b[0m\n\u001b[1;32m      1\u001b[0m \u001b[0mt\u001b[0m \u001b[0;34m=\u001b[0m \u001b[0;34m(\u001b[0m\u001b[0;36m7\u001b[0m\u001b[0;34m,\u001b[0m\u001b[0;36m3\u001b[0m\u001b[0;34m)\u001b[0m\u001b[0;34m\u001b[0m\u001b[0;34m\u001b[0m\u001b[0m\n\u001b[0;32m----> 2\u001b[0;31m \u001b[0mdivmod\u001b[0m\u001b[0;34m(\u001b[0m\u001b[0mt\u001b[0m\u001b[0;34m)\u001b[0m\u001b[0;34m\u001b[0m\u001b[0;34m\u001b[0m\u001b[0m\n\u001b[0m",
      "\u001b[0;31mTypeError\u001b[0m: divmod expected 2 arguments, got 1"
     ]
    }
   ],
   "source": [
    "t = (7,3)\n",
    "divmod(t)"
   ]
  },
  {
   "cell_type": "markdown",
   "id": "c12baaea",
   "metadata": {},
   "source": [
    "但若将元组**分散**，就可以用了:"
   ]
  },
  {
   "cell_type": "code",
   "execution_count": 33,
   "id": "cf24de60",
   "metadata": {},
   "outputs": [
    {
     "data": {
      "text/plain": [
       "(2, 1)"
      ]
     },
     "execution_count": 33,
     "metadata": {},
     "output_type": "execute_result"
    }
   ],
   "source": [
    "divmod(*t)"
   ]
  },
  {
   "cell_type": "markdown",
   "id": "cd527c3d",
   "metadata": {},
   "source": [
    "很多内置函数使用可变长参数元组。例如，`max` 和 `min` 都可以接收任意个数的参数:"
   ]
  },
  {
   "cell_type": "code",
   "execution_count": 34,
   "id": "e3e1e50a",
   "metadata": {},
   "outputs": [
    {
     "data": {
      "text/plain": [
       "3"
      ]
     },
     "execution_count": 34,
     "metadata": {},
     "output_type": "execute_result"
    }
   ],
   "source": [
    "max(1,2,3)"
   ]
  },
  {
   "cell_type": "markdown",
   "id": "fd3bdd12",
   "metadata": {},
   "source": [
    "但 `sum` 并不是这样:"
   ]
  },
  {
   "cell_type": "code",
   "execution_count": 36,
   "id": "4acf5d9a",
   "metadata": {},
   "outputs": [
    {
     "ename": "TypeError",
     "evalue": "sum() takes at most 2 arguments (3 given)",
     "output_type": "error",
     "traceback": [
      "\u001b[0;31m---------------------------------------------------------------------------\u001b[0m",
      "\u001b[0;31mTypeError\u001b[0m                                 Traceback (most recent call last)",
      "\u001b[0;32m/tmp/ipykernel_4277/842194498.py\u001b[0m in \u001b[0;36m<module>\u001b[0;34m\u001b[0m\n\u001b[0;32m----> 1\u001b[0;31m \u001b[0msum\u001b[0m\u001b[0;34m(\u001b[0m\u001b[0;36m1\u001b[0m\u001b[0;34m,\u001b[0m\u001b[0;36m2\u001b[0m\u001b[0;34m,\u001b[0m\u001b[0;36m3\u001b[0m\u001b[0;34m)\u001b[0m\u001b[0;34m\u001b[0m\u001b[0;34m\u001b[0m\u001b[0m\n\u001b[0m",
      "\u001b[0;31mTypeError\u001b[0m: sum() takes at most 2 arguments (3 given)"
     ]
    }
   ],
   "source": [
    "sum(1,2,3)"
   ]
  },
  {
   "cell_type": "markdown",
   "id": "14426b2f",
   "metadata": {},
   "source": [
    "## 列表和元组"
   ]
  },
  {
   "cell_type": "markdown",
   "id": "644ae93a",
   "metadata": {},
   "source": [
    "`zip` 是一个内置函数，接收两个或多个序列，并返回一个元组列表。每个元组包含来自每个序列中的一个元素。这个函数的名字取自拉链(zipper)，它可以将两行链牙交替连接起来。"
   ]
  },
  {
   "cell_type": "markdown",
   "id": "9b33e41a",
   "metadata": {},
   "source": [
    "下面的例子将字符串和一个列表\"拉\"到一起:"
   ]
  },
  {
   "cell_type": "code",
   "execution_count": 37,
   "id": "df5fbb9b",
   "metadata": {},
   "outputs": [
    {
     "data": {
      "text/plain": [
       "<zip at 0x7f1456f5d480>"
      ]
     },
     "execution_count": 37,
     "metadata": {},
     "output_type": "execute_result"
    }
   ],
   "source": [
    "s = 'abc'\n",
    "t = [0,1,2]\n",
    "zip(s,t)"
   ]
  },
  {
   "cell_type": "markdown",
   "id": "967c3f2f",
   "metadata": {},
   "source": [
    "结果是一个 **zip** 对象，它是一个迭代访问由元组组成的序列的对象，它知道如何遍历每个元素对。使用 `zip` 最常用的方式是在 `for` 循环中:"
   ]
  },
  {
   "cell_type": "markdown",
   "id": "9a860cc5",
   "metadata": {},
   "source": [
    "`zip` 对象是一种**迭代器**，即用来访问迭代一个序列的对象。迭代器与列表有些方面类似，但与列表不同的是，迭代器不能使用下标来选择对象。"
   ]
  },
  {
   "cell_type": "markdown",
   "id": "b67a6955",
   "metadata": {},
   "source": [
    "如果需要使用列表的操作符和方法，可以利用 `zip` 对象制作一个列表:"
   ]
  },
  {
   "cell_type": "code",
   "execution_count": 39,
   "id": "2cd3089e",
   "metadata": {},
   "outputs": [
    {
     "data": {
      "text/plain": [
       "[('a', 0), ('b', 1), ('c', 2)]"
      ]
     },
     "execution_count": 39,
     "metadata": {},
     "output_type": "execute_result"
    }
   ],
   "source": [
    "list(zip(s,t))"
   ]
  },
  {
   "cell_type": "markdown",
   "id": "9040515b",
   "metadata": {},
   "source": [
    "结果是一个由元组组成的列表。在本例中，每个元组包含字符串中的一个字符，以及列表中对应的一个元素。"
   ]
  },
  {
   "cell_type": "markdown",
   "id": "646942fb",
   "metadata": {},
   "source": [
    "如果序列之间的长度不同，则结果的长度是所有序列中最短的那个:"
   ]
  },
  {
   "cell_type": "code",
   "execution_count": 40,
   "id": "214eb93e",
   "metadata": {},
   "outputs": [
    {
     "data": {
      "text/plain": [
       "[('A', 'E'), ('n', 'l'), ('n', 'k')]"
      ]
     },
     "execution_count": 40,
     "metadata": {},
     "output_type": "execute_result"
    }
   ],
   "source": [
    "list(zip('Anne','Elk'))"
   ]
  },
  {
   "cell_type": "markdown",
   "id": "749cb11c",
   "metadata": {},
   "source": [
    "可以在 `for` 循环中使用元组赋值来访问元组的列表，:"
   ]
  },
  {
   "cell_type": "code",
   "execution_count": 41,
   "id": "a576ac09",
   "metadata": {},
   "outputs": [
    {
     "name": "stdout",
     "output_type": "stream",
     "text": [
      "0 a\n",
      "1 b\n",
      "2 c\n"
     ]
    }
   ],
   "source": [
    "t = [('a',0),('b',1),('c',2)]\n",
    "for letter,number in t:\n",
    "    print(number,letter)"
   ]
  },
  {
   "cell_type": "markdown",
   "id": "761ff66b",
   "metadata": {},
   "source": [
    "每次循环中，Python 选择列表中的下一个元组，并将其元素赋值给`letter` 和`number`。"
   ]
  },
  {
   "cell_type": "markdown",
   "id": "f9eb6720",
   "metadata": {},
   "source": [
    "如果组合使用 `zip`,`for` 循环以及元组赋值，可以得到一种很有用的模式，用于同时遍历两个或更多序列。例如，下面的`has_match` 函数接收两个序列，`t1` 和 `t2`，并当存在一个下标 `i`，且保证 `t1[i] == t2[i]` 时返回 `True`："
   ]
  },
  {
   "cell_type": "code",
   "execution_count": 43,
   "id": "ac920253",
   "metadata": {},
   "outputs": [],
   "source": [
    "def has_match(t1,t2):\n",
    "    for x,y in zip(t1,t2):\n",
    "        if x == y:\n",
    "            return True\n",
    "    return False"
   ]
  },
  {
   "cell_type": "markdown",
   "id": "006fd110",
   "metadata": {},
   "source": [
    "如果需要遍历序列中的元素以及它们的下标，可以使用内置函数 `enumerate`:"
   ]
  },
  {
   "cell_type": "code",
   "execution_count": 44,
   "id": "6ef0b341",
   "metadata": {},
   "outputs": [
    {
     "name": "stdout",
     "output_type": "stream",
     "text": [
      "0 a\n",
      "1 b\n",
      "2 c\n"
     ]
    }
   ],
   "source": [
    "for index,element in enumerate('abc'):\n",
    "    print(index,element)"
   ]
  },
  {
   "cell_type": "markdown",
   "id": "fc7549f3",
   "metadata": {},
   "source": [
    "这个枚举的结果是一个枚举对象，这个对象迭代一个对序列，在这个例子中，每个对都包含一个下标(从 0 开始)和一个来自给定序列的元素。"
   ]
  },
  {
   "cell_type": "markdown",
   "id": "09527931",
   "metadata": {},
   "source": [
    "## 字典和元组"
   ]
  },
  {
   "cell_type": "markdown",
   "id": "d319af6c",
   "metadata": {},
   "source": [
    "字典有一个 `items` 方法可以返回一个元组的序列，其中每个元组是一个键值对:"
   ]
  },
  {
   "cell_type": "code",
   "execution_count": 45,
   "id": "6a4e9367",
   "metadata": {},
   "outputs": [
    {
     "name": "stdout",
     "output_type": "stream",
     "text": [
      "dict_items([('a', 0), ('b', 1), ('c', 2)])\n"
     ]
    }
   ],
   "source": [
    "d = {'a':0,'b':1,'c':2}\n",
    "t = d.items()\n",
    "print(t)"
   ]
  },
  {
   "cell_type": "markdown",
   "id": "368c80a2",
   "metadata": {},
   "source": [
    "其结果是一个 `dict_item` 对象，它是一个迭代器，可以迭代访问每一个键值对。可以使用 `for` 循环来访问:"
   ]
  },
  {
   "cell_type": "code",
   "execution_count": 46,
   "id": "dc8762d0",
   "metadata": {},
   "outputs": [
    {
     "name": "stdout",
     "output_type": "stream",
     "text": [
      "a 0\n",
      "b 1\n",
      "c 2\n"
     ]
    }
   ],
   "source": [
    "for key,value in d.items():\n",
    "    print(key,value)"
   ]
  },
  {
   "cell_type": "markdown",
   "id": "12990140",
   "metadata": {},
   "source": [
    "从反方向出发，可以使用一个元组列表来初始化一个新的字典:"
   ]
  },
  {
   "cell_type": "code",
   "execution_count": 48,
   "id": "349fcea6",
   "metadata": {},
   "outputs": [
    {
     "name": "stdout",
     "output_type": "stream",
     "text": [
      "{'a': 0, 'c': 2, 'b': 1}\n"
     ]
    }
   ],
   "source": [
    "t = [('a',0),('c',2),('b',1)]\n",
    "d = dict(t)\n",
    "print(d)"
   ]
  },
  {
   "cell_type": "markdown",
   "id": "84d6ba3b",
   "metadata": {},
   "source": [
    "组合使用 `dict` 和 `zip` 可以得到一个简洁的创建字典的方法:"
   ]
  },
  {
   "cell_type": "code",
   "execution_count": 49,
   "id": "2c5aaaf7",
   "metadata": {},
   "outputs": [
    {
     "name": "stdout",
     "output_type": "stream",
     "text": [
      "{'a': 0, 'b': 1, 'c': 2}\n"
     ]
    }
   ],
   "source": [
    "d = dict(zip('abc',range(3)))\n",
    "print(d)"
   ]
  },
  {
   "cell_type": "markdown",
   "id": "dba04dfe",
   "metadata": {},
   "source": [
    "字典方法 `update` 也接收一个元组列表，并将它们作为键值对添加到一个已有的字典中。使用元组作为字典的键很常见(主要是因为不能使用列表)。例如，一个电话号码簿可能需要将姓名对映射到电话号码。定义 `last`,`first` 和 `number`，可以这样写:"
   ]
  },
  {
   "cell_type": "code",
   "execution_count": 52,
   "id": "9496ce5e",
   "metadata": {},
   "outputs": [],
   "source": [
    "last = 'wang'\n",
    "first = 'dong'\n",
    "number = '1234'\n",
    "directory = {}\n",
    "directory[last,first] = number"
   ]
  },
  {
   "cell_type": "markdown",
   "id": "e9a56d44",
   "metadata": {},
   "source": [
    "在方括号中的表达式是一个元组。另外，我们也可以使用元组赋值来遍历这个字典:"
   ]
  },
  {
   "cell_type": "code",
   "execution_count": 53,
   "id": "0641fe8e",
   "metadata": {},
   "outputs": [
    {
     "name": "stdout",
     "output_type": "stream",
     "text": [
      "dong wang 1234\n"
     ]
    }
   ],
   "source": [
    "for last,first in directory:\n",
    "    print(first,last,directory[last,first])"
   ]
  },
  {
   "cell_type": "markdown",
   "id": "4bf038c3",
   "metadata": {},
   "source": [
    "这个循环遍历字典 `directory` 的所有键，它们都是元组。它将每一个元组的元素赋值给 `last` 和 `first`，接着打印出名字以及对应的电话号码。"
   ]
  },
  {
   "cell_type": "markdown",
   "id": "a0f6decd",
   "metadata": {},
   "source": [
    "在状态图中，有两种方式可以表达元组。详细的版本和列表一样，显示索引和元素。例如，元组 `('Cleese','John')` 可以如下图所示:"
   ]
  },
  {
   "cell_type": "markdown",
   "id": "4214f9b2",
   "metadata": {},
   "source": [
    "<img src='figures/12-11.jpg'>"
   ]
  },
  {
   "cell_type": "raw",
   "id": "5e398db0",
   "metadata": {},
   "source": [
    "但在更大的图里可能希望省略掉细节。例如，整个电话簿的图可以如下所示:"
   ]
  },
  {
   "cell_type": "markdown",
   "id": "3cf4fdc9",
   "metadata": {},
   "source": [
    "<img src='figures/12-12.jpg'>"
   ]
  },
  {
   "cell_type": "markdown",
   "id": "6c8fff57",
   "metadata": {},
   "source": [
    "这里元组使用 Python 的语法作为图形化的简写展示。"
   ]
  },
  {
   "cell_type": "markdown",
   "id": "1901a991",
   "metadata": {},
   "source": [
    "## 序列的序列"
   ]
  },
  {
   "cell_type": "markdown",
   "id": "ba8ed94f",
   "metadata": {},
   "source": [
    "在很多环境中，不同类型的序列(字符串,列表和元组)都可以互换使用。我们该如何选择使用呢?"
   ]
  },
  {
   "cell_type": "markdown",
   "id": "93d2bee2",
   "metadata": {},
   "source": [
    "字符串比其他序列有更多限制，因为它的元素必须是字符。它们也是不可变的。如果需要修改一个字符串中的字符(而不是新建一个字符串)，可能需要使用字符的列表。"
   ]
  },
  {
   "cell_type": "markdown",
   "id": "2eeb4bc9",
   "metadata": {},
   "source": [
    "列表比元组更加通用，主要因为它是可变的。但也有一些情况下可能会优先选择元组。"
   ]
  },
  {
   "cell_type": "markdown",
   "id": "ef9dfbec",
   "metadata": {},
   "source": [
    "1. 在有些环境，如返回语句中，创建元组比创建列表从语法上说更容易;\n",
    "2. 如果需要用序列作为字典的键，则必须使用不可变类型，如元组或字符串;\n",
    "3. 如果要想函数传入一个序列作为参数，使用元组可能会减少潜在的由假名导致的不可预知行为。"
   ]
  },
  {
   "cell_type": "markdown",
   "id": "2d89043e",
   "metadata": {},
   "source": [
    "因为元组是不可变的，它们不提供类似 `sort` 和 `reverse` 之类的方法，这些方法修改现有的序列。但 Python 也提供了内置函数 `sorted`，可以接收任何序列作为参数，并按排好的顺序返回带有同样元素的新列表。Python 还提供了 `reverse`，可以接收序列作为参数，并返回一个以相反顺序遍历列表的迭代器。"
   ]
  },
  {
   "cell_type": "markdown",
   "id": "4b88acd2",
   "metadata": {},
   "source": [
    "## 调试"
   ]
  },
  {
   "cell_type": "markdown",
   "id": "72cfda7a",
   "metadata": {},
   "source": [
    "列表,字典和元组都被同义看作是一种 **数据结构**。这一章我们开始接触复合数据结构，像元组的列表，或者用元组做键,用列表做值的字典等。复合数据结构很有用，但它容易导致所谓的 **结构错误**，也就是说，数据结构因为错的类型,大小或结构导致的错误。例如，如果你期望得到一个包含单个整数的列表，但提供给你的是一个单个整数(而不是在列表中)，就会出错。"
   ]
  },
  {
   "cell_type": "markdown",
   "id": "be24be25",
   "metadata": {},
   "source": [
    "书中提供了一个模块 `structshape`，接收任何数据类型作为参数，并返回一个描述它的形状的字符串。"
   ]
  },
  {
   "cell_type": "markdown",
   "id": "943d35df",
   "metadata": {},
   "source": [
    "给出一个简单列表的结果:"
   ]
  },
  {
   "cell_type": "code",
   "execution_count": 4,
   "id": "d6be158d",
   "metadata": {},
   "outputs": [
    {
     "name": "stdout",
     "output_type": "stream",
     "text": [
      "list of 3 int\n"
     ]
    }
   ],
   "source": [
    "from structshape import structshape\n",
    "t = [1,2,3]\n",
    "print(structshape(t))"
   ]
  },
  {
   "cell_type": "markdown",
   "id": "bf330a6b",
   "metadata": {},
   "source": [
    "给出一个列表的列表的结果:"
   ]
  },
  {
   "cell_type": "code",
   "execution_count": 7,
   "id": "db6e16e3",
   "metadata": {},
   "outputs": [
    {
     "name": "stdout",
     "output_type": "stream",
     "text": [
      "list of 3 list of 2 int\n"
     ]
    }
   ],
   "source": [
    "t2 = [[1,2],[3,4],[5,6]]\n",
    "print(structshape(t2))"
   ]
  },
  {
   "cell_type": "markdown",
   "id": "1056d75b",
   "metadata": {},
   "source": [
    "如果列表的元素不是同一种类型，`structshape` 会根据它们的类型按顺序分组:"
   ]
  },
  {
   "cell_type": "code",
   "execution_count": 8,
   "id": "86c96a59",
   "metadata": {},
   "outputs": [
    {
     "name": "stdout",
     "output_type": "stream",
     "text": [
      "list of (3 int, float, 2 str, 3 list of int)\n"
     ]
    }
   ],
   "source": [
    "t3 = [1,2,3,4.0,'5','6',[7],[8],[9]]\n",
    "print(structshape(t3))"
   ]
  },
  {
   "cell_type": "markdown",
   "id": "c6de5521",
   "metadata": {},
   "source": [
    "给出元组的列表:"
   ]
  },
  {
   "cell_type": "code",
   "execution_count": 9,
   "id": "cbc0bf6a",
   "metadata": {},
   "outputs": [
    {
     "name": "stdout",
     "output_type": "stream",
     "text": [
      "list of (3 int, float, 2 str, 3 list of int)\n"
     ]
    }
   ],
   "source": [
    "s = 'abc'\n",
    "lt = list(zip(t,s))\n",
    "print(structshape(t3))"
   ]
  },
  {
   "cell_type": "markdown",
   "id": "c963be14",
   "metadata": {},
   "source": [
    "下面是一个字典，有 3 个从整数映射到字符串的项:"
   ]
  },
  {
   "cell_type": "code",
   "execution_count": 11,
   "id": "b2faca9f",
   "metadata": {},
   "outputs": [
    {
     "name": "stdout",
     "output_type": "stream",
     "text": [
      "dict of 3 int->str\n"
     ]
    }
   ],
   "source": [
    "d = dict(lt)\n",
    "print(structshape(d))"
   ]
  }
 ],
 "metadata": {
  "kernelspec": {
   "display_name": "Python 3",
   "language": "python",
   "name": "python3"
  },
  "language_info": {
   "codemirror_mode": {
    "name": "ipython",
    "version": 3
   },
   "file_extension": ".py",
   "mimetype": "text/x-python",
   "name": "python",
   "nbconvert_exporter": "python",
   "pygments_lexer": "ipython3",
   "version": "3.8.10"
  }
 },
 "nbformat": 4,
 "nbformat_minor": 5
}
