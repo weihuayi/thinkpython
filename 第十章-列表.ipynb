{
 "cells": [
  {
   "cell_type": "markdown",
   "id": "cca4cb5d",
   "metadata": {},
   "source": [
    "本章介绍 Python 语言中的列表类型"
   ]
  },
  {
   "cell_type": "markdown",
   "id": "5b7fcd67",
   "metadata": {},
   "source": [
    "## 列表是一个序列"
   ]
  },
  {
   "cell_type": "markdown",
   "id": "49da2e34",
   "metadata": {},
   "source": [
    "和字符串类似，**列表**(list) 是值的序列。在字符串中，这些值是字符；在列表中，它可以是任何类型。列表中的值称为**元素**(element)，有时也称为**列表项**(item)。"
   ]
  },
  {
   "cell_type": "markdown",
   "id": "2072a75e",
   "metadata": {},
   "source": [
    "创建一个列表有许多种方式，其中最简单的方式是使用方括号 `[]` 将元素括起来。"
   ]
  },
  {
   "cell_type": "code",
   "execution_count": 1,
   "id": "0891208c",
   "metadata": {},
   "outputs": [
    {
     "data": {
      "text/plain": [
       "[10, 20, 30, 40]"
      ]
     },
     "execution_count": 1,
     "metadata": {},
     "output_type": "execute_result"
    }
   ],
   "source": [
    "[10,20,30,40]"
   ]
  },
  {
   "cell_type": "code",
   "execution_count": 2,
   "id": "833e574c",
   "metadata": {},
   "outputs": [
    {
     "data": {
      "text/plain": [
       "['crunchy flog', 'ram bladder', 'lark vomit']"
      ]
     },
     "execution_count": 2,
     "metadata": {},
     "output_type": "execute_result"
    }
   ],
   "source": [
    "['crunchy flog','ram bladder','lark vomit']"
   ]
  },
  {
   "cell_type": "markdown",
   "id": "58d5bcf0",
   "metadata": {},
   "source": [
    "上面两个列表中，所有元素都是同一类型的，不过列表中的元素并不一定非得是同一类型的。例如:"
   ]
  },
  {
   "cell_type": "code",
   "execution_count": 3,
   "id": "7a9b8591",
   "metadata": {},
   "outputs": [
    {
     "data": {
      "text/plain": [
       "['spam', 2.0, 5, [10, 20]]"
      ]
     },
     "execution_count": 3,
     "metadata": {},
     "output_type": "execute_result"
    }
   ],
   "source": [
    "['spam',2.0,5,[10,20]]"
   ]
  },
  {
   "cell_type": "markdown",
   "id": "2b7598f6",
   "metadata": {},
   "source": [
    "上面的列表包含了4种不同的数据类型，甚至包括列表类型。在列表中出现列表，我们称其为**嵌套**(nested)。"
   ]
  },
  {
   "cell_type": "markdown",
   "id": "123874d8",
   "metadata": {},
   "source": [
    "不包含任何元素的列表称为空列表，可以使用空方括号 `[]` 来创建空列表"
   ]
  },
  {
   "cell_type": "markdown",
   "id": "77094058",
   "metadata": {},
   "source": [
    "另外，列表可以赋值给变量"
   ]
  },
  {
   "cell_type": "code",
   "execution_count": 9,
   "id": "35921a93",
   "metadata": {},
   "outputs": [
    {
     "name": "stdout",
     "output_type": "stream",
     "text": [
      "['Cheddar', 'Edam', 'Gouda'] [42, 123] []\n"
     ]
    }
   ],
   "source": [
    "cheeses = ['Cheddar','Edam','Gouda']\n",
    "numbers = [42,123]\n",
    "empty = []\n",
    "print(cheeses,numbers,empty)"
   ]
  },
  {
   "cell_type": "markdown",
   "id": "49c6706f",
   "metadata": {},
   "source": [
    "## 列表是可变的"
   ]
  },
  {
   "cell_type": "markdown",
   "id": "c1bb46d1",
   "metadata": {},
   "source": [
    "访问列表元素的语法和访问字符串中字符的语法是一样的，即使用方括号操作符，方括号中的表达式指定下标。注意，在 Python 中，下标从0开始:"
   ]
  },
  {
   "cell_type": "code",
   "execution_count": 10,
   "id": "807b4447",
   "metadata": {},
   "outputs": [
    {
     "data": {
      "text/plain": [
       "'Cheddar'"
      ]
     },
     "execution_count": 10,
     "metadata": {},
     "output_type": "execute_result"
    }
   ],
   "source": [
    "cheeses[0]"
   ]
  },
  {
   "cell_type": "markdown",
   "id": "2341543d",
   "metadata": {},
   "source": [
    "上一章中学到，字符串是不可变的。和字符串不同，**列表是可变的**。当方括号操作符出现在赋值语句的左侧时，它用于指定列表中哪个元素会被赋值。"
   ]
  },
  {
   "cell_type": "code",
   "execution_count": 11,
   "id": "fa6201c7",
   "metadata": {},
   "outputs": [
    {
     "data": {
      "text/plain": [
       "[42, 5]"
      ]
     },
     "execution_count": 11,
     "metadata": {},
     "output_type": "execute_result"
    }
   ],
   "source": [
    "numbers = [42,123]\n",
    "numbers[1] = 5\n",
    "numbers"
   ]
  },
  {
   "cell_type": "markdown",
   "id": "710b60bf",
   "metadata": {},
   "source": [
    "`numbers` 的第 1 位元素，原先的值是 123，现在是 5 了。"
   ]
  },
  {
   "cell_type": "markdown",
   "id": "79fd2b0c",
   "metadata": {},
   "source": [
    "列表下标和字符串下标工作方式相同:\n",
    "* 任何整型的表达式都可以被用作下标;\n",
    "* 如果尝试读写一个不存在的元素，会得到 `IndexError`\n",
    "* 如果下标是负数，则从列表的结尾处反过来数下标访问。"
   ]
  },
  {
   "cell_type": "markdown",
   "id": "09182cca",
   "metadata": {},
   "source": [
    "`in` 操作符也可以用于列表。"
   ]
  },
  {
   "cell_type": "code",
   "execution_count": 12,
   "id": "be381e01",
   "metadata": {},
   "outputs": [
    {
     "data": {
      "text/plain": [
       "True"
      ]
     },
     "execution_count": 12,
     "metadata": {},
     "output_type": "execute_result"
    }
   ],
   "source": [
    "cheeses = ['Cheddar','Edam','Gouda']\n",
    "'Edam' in cheeses"
   ]
  },
  {
   "cell_type": "code",
   "execution_count": 13,
   "id": "4da174ed",
   "metadata": {},
   "outputs": [
    {
     "data": {
      "text/plain": [
       "False"
      ]
     },
     "execution_count": 13,
     "metadata": {},
     "output_type": "execute_result"
    }
   ],
   "source": [
    "'Brie' in cheeses"
   ]
  },
  {
   "cell_type": "markdown",
   "id": "77de2d5c",
   "metadata": {},
   "source": [
    "## 遍历一个列表"
   ]
  },
  {
   "cell_type": "markdown",
   "id": "25c1b8e1",
   "metadata": {},
   "source": [
    "遍历一个列表元素的最常见方式是使用 `for` 循环。语法和字符串的遍历相同: "
   ]
  },
  {
   "cell_type": "code",
   "execution_count": 14,
   "id": "e0c68269",
   "metadata": {},
   "outputs": [
    {
     "name": "stdout",
     "output_type": "stream",
     "text": [
      "Cheddar\n",
      "Edam\n",
      "Gouda\n"
     ]
    }
   ],
   "source": [
    "for cheese in cheeses:\n",
    "    print(cheese)"
   ]
  },
  {
   "cell_type": "markdown",
   "id": "4ed07c07",
   "metadata": {},
   "source": [
    "在只需要读取列表的元素本身时，这样的遍历方式很好。但如果需要写入或者更新元素时，则需要下标。一个常见的方式是使用内置函数 `range` 和 `len`:"
   ]
  },
  {
   "cell_type": "code",
   "execution_count": 19,
   "id": "4ce2e4b5",
   "metadata": {},
   "outputs": [
    {
     "name": "stdout",
     "output_type": "stream",
     "text": [
      "[22, 46]\n"
     ]
    }
   ],
   "source": [
    "numbers = [11,23]\n",
    "for i in range(len(numbers)):\n",
    "    numbers[i] = numbers[i]*2\n",
    "print(numbers)"
   ]
  },
  {
   "cell_type": "markdown",
   "id": "3c487a1c",
   "metadata": {},
   "source": [
    "这个循环遍历列表，并更新每个元素。 `len` 返回列表中元素的个数。`range` 返回一个下标的列表，从 0 到 `n-1`，其中 `n` 是列表的长度。每次迭代时，`i` 获得下一个元素的下标。循环体中的赋值语句使用 `i` 来读取元素的旧值并赋值为新值。"
   ]
  },
  {
   "cell_type": "markdown",
   "id": "bbd29dd5",
   "metadata": {},
   "source": [
    "在空列表上使用 `for` 循环，则循环体从不会被运行:"
   ]
  },
  {
   "cell_type": "code",
   "execution_count": 20,
   "id": "da691a75",
   "metadata": {},
   "outputs": [],
   "source": [
    "for x in []:\n",
    "    print('This never happens.')"
   ]
  },
  {
   "cell_type": "markdown",
   "id": "87e79b62",
   "metadata": {},
   "source": [
    "另外，虽然列表可以包含其他列表，但嵌套的列表仍然被看作是一个单独的元素，例如下面的列表长度为 4:"
   ]
  },
  {
   "cell_type": "code",
   "execution_count": 21,
   "id": "78ef68e5",
   "metadata": {},
   "outputs": [
    {
     "data": {
      "text/plain": [
       "4"
      ]
     },
     "execution_count": 21,
     "metadata": {},
     "output_type": "execute_result"
    }
   ],
   "source": [
    "l = ['spam',1,['abc','acd','mcn'],[1,2,3]]\n",
    "len(l)"
   ]
  },
  {
   "cell_type": "markdown",
   "id": "f2c66baf",
   "metadata": {},
   "source": [
    "## 列表操作"
   ]
  },
  {
   "cell_type": "markdown",
   "id": "20c03609",
   "metadata": {},
   "source": [
    "我们可以使用 `+` 操作符拼接列表:"
   ]
  },
  {
   "cell_type": "code",
   "execution_count": 23,
   "id": "dac530f8",
   "metadata": {},
   "outputs": [
    {
     "name": "stdout",
     "output_type": "stream",
     "text": [
      "[1, 2, 3, 4, 5, 6]\n"
     ]
    }
   ],
   "source": [
    "a = [1,2,3]\n",
    "b = [4,5,6]\n",
    "c = a + b\n",
    "print(c)"
   ]
  },
  {
   "cell_type": "markdown",
   "id": "839e616f",
   "metadata": {},
   "source": [
    "可以使用 `*` 操作符重复一个列表多次:"
   ]
  },
  {
   "cell_type": "code",
   "execution_count": 24,
   "id": "d3da01d0",
   "metadata": {},
   "outputs": [
    {
     "data": {
      "text/plain": [
       "[0, 0, 0, 0]"
      ]
     },
     "execution_count": 24,
     "metadata": {},
     "output_type": "execute_result"
    }
   ],
   "source": [
    "[0]*4"
   ]
  },
  {
   "cell_type": "code",
   "execution_count": 25,
   "id": "a2a18eca",
   "metadata": {},
   "outputs": [
    {
     "data": {
      "text/plain": [
       "[1, 2, 3, 1, 2, 3, 1, 2, 3]"
      ]
     },
     "execution_count": 25,
     "metadata": {},
     "output_type": "execute_result"
    }
   ],
   "source": [
    "[1,2,3]*3"
   ]
  },
  {
   "cell_type": "markdown",
   "id": "db7ae679",
   "metadata": {},
   "source": [
    "## 列表切片"
   ]
  },
  {
   "cell_type": "markdown",
   "id": "f838d106",
   "metadata": {},
   "source": [
    "切片操作符也可以用于列表:"
   ]
  },
  {
   "cell_type": "code",
   "execution_count": 26,
   "id": "b8f7bc80",
   "metadata": {},
   "outputs": [
    {
     "data": {
      "text/plain": [
       "['b', 'c']"
      ]
     },
     "execution_count": 26,
     "metadata": {},
     "output_type": "execute_result"
    }
   ],
   "source": [
    "t = ['a','b','c','d','e','f']\n",
    "t[1:3]"
   ]
  },
  {
   "cell_type": "code",
   "execution_count": 27,
   "id": "922b9881",
   "metadata": {},
   "outputs": [
    {
     "data": {
      "text/plain": [
       "['a', 'b', 'c', 'd']"
      ]
     },
     "execution_count": 27,
     "metadata": {},
     "output_type": "execute_result"
    }
   ],
   "source": [
    "t[:4]"
   ]
  },
  {
   "cell_type": "code",
   "execution_count": 30,
   "id": "3ad5ad81",
   "metadata": {},
   "outputs": [
    {
     "data": {
      "text/plain": [
       "['d', 'e', 'f']"
      ]
     },
     "execution_count": 30,
     "metadata": {},
     "output_type": "execute_result"
    }
   ],
   "source": [
    "t[3:]"
   ]
  },
  {
   "cell_type": "code",
   "execution_count": 31,
   "id": "ef5aa727",
   "metadata": {},
   "outputs": [
    {
     "data": {
      "text/plain": [
       "['d', 'e']"
      ]
     },
     "execution_count": 31,
     "metadata": {},
     "output_type": "execute_result"
    }
   ],
   "source": [
    "t[-3:-1]"
   ]
  },
  {
   "cell_type": "markdown",
   "id": "c16b1c9e",
   "metadata": {},
   "source": [
    "如果省略掉第一个下标，则切片从列表开头开始。如果省略掉第二个下标，则切片至列表结尾结束。如果两个下标都省略，则切片就是整个列表的副本。"
   ]
  },
  {
   "cell_type": "code",
   "execution_count": 29,
   "id": "85a01792",
   "metadata": {},
   "outputs": [
    {
     "data": {
      "text/plain": [
       "['a', 'b', 'c', 'd', 'e', 'f']"
      ]
     },
     "execution_count": 29,
     "metadata": {},
     "output_type": "execute_result"
    }
   ],
   "source": [
    "t[:]"
   ]
  },
  {
   "cell_type": "markdown",
   "id": "b3efd3e2",
   "metadata": {},
   "source": [
    "我们还可以使用切片跳跃选取元素:"
   ]
  },
  {
   "cell_type": "code",
   "execution_count": 32,
   "id": "866eb01e",
   "metadata": {},
   "outputs": [
    {
     "data": {
      "text/plain": [
       "['a', 'c', 'e']"
      ]
     },
     "execution_count": 32,
     "metadata": {},
     "output_type": "execute_result"
    }
   ],
   "source": [
    "t[::2]"
   ]
  },
  {
   "cell_type": "code",
   "execution_count": 33,
   "id": "08f4b943",
   "metadata": {},
   "outputs": [
    {
     "data": {
      "text/plain": [
       "['a', 'd']"
      ]
     },
     "execution_count": 33,
     "metadata": {},
     "output_type": "execute_result"
    }
   ],
   "source": [
    "t[::3]"
   ]
  },
  {
   "cell_type": "code",
   "execution_count": 36,
   "id": "456ca9c3",
   "metadata": {},
   "outputs": [
    {
     "data": {
      "text/plain": [
       "['b', 'd', 'f']"
      ]
     },
     "execution_count": 36,
     "metadata": {},
     "output_type": "execute_result"
    }
   ],
   "source": [
    "t[1::2]"
   ]
  },
  {
   "cell_type": "code",
   "execution_count": 37,
   "id": "d7257de8",
   "metadata": {},
   "outputs": [
    {
     "data": {
      "text/plain": [
       "['a', 'c']"
      ]
     },
     "execution_count": 37,
     "metadata": {},
     "output_type": "execute_result"
    }
   ],
   "source": [
    "t[0:4:2]"
   ]
  },
  {
   "cell_type": "markdown",
   "id": "c1168571",
   "metadata": {},
   "source": [
    "这种方式中，第一个冒号两侧输入切片的范围，第二个冒号后面输入跳跃的元素个数。"
   ]
  },
  {
   "cell_type": "markdown",
   "id": "7632ecfa",
   "metadata": {},
   "source": [
    "如果切片操作符出现在赋值语句的左侧，则可以更新多个元素:"
   ]
  },
  {
   "cell_type": "code",
   "execution_count": 39,
   "id": "e0a1f4a8",
   "metadata": {},
   "outputs": [
    {
     "name": "stdout",
     "output_type": "stream",
     "text": [
      "['a', 'x', 'y', 'd', 'e', 'f']\n"
     ]
    }
   ],
   "source": [
    "t = ['a','b','c','d','e','f']\n",
    "t[1:3] = ['x','y']\n",
    "print(t)"
   ]
  },
  {
   "cell_type": "markdown",
   "id": "ab8b3c69",
   "metadata": {},
   "source": [
    "## 列表方法"
   ]
  },
  {
   "cell_type": "markdown",
   "id": "71403dbe",
   "metadata": {},
   "source": [
    "Python 为列表提供了不少操作方法。例如，`append` 可以在列表尾部添加新的元素:"
   ]
  },
  {
   "cell_type": "code",
   "execution_count": 40,
   "id": "4ca5ff86",
   "metadata": {},
   "outputs": [
    {
     "data": {
      "text/plain": [
       "['a', 'b', 'c', 'd']"
      ]
     },
     "execution_count": 40,
     "metadata": {},
     "output_type": "execute_result"
    }
   ],
   "source": [
    "t = ['a','b','c']\n",
    "t.append('d')\n",
    "t"
   ]
  },
  {
   "cell_type": "markdown",
   "id": "b7b2afd3",
   "metadata": {},
   "source": [
    "`extend` 方法接收一个列表作为参数，并将其所有的元素附加于列表中:"
   ]
  },
  {
   "cell_type": "code",
   "execution_count": 42,
   "id": "d7569315",
   "metadata": {},
   "outputs": [
    {
     "name": "stdout",
     "output_type": "stream",
     "text": [
      "['a', 'b', 'c', 'd', 'e']\n"
     ]
    }
   ],
   "source": [
    "t1 = ['a','b','c']\n",
    "t2 = ['d','e']\n",
    "t1.extend(t2)\n",
    "print(t1)"
   ]
  },
  {
   "cell_type": "markdown",
   "id": "c9e628bc",
   "metadata": {},
   "source": [
    "上述例子中，`t2` 没有被修改"
   ]
  },
  {
   "cell_type": "markdown",
   "id": "ba69eac4",
   "metadata": {},
   "source": [
    "`sort` 方法将列表中的元素从低到高重新排列:"
   ]
  },
  {
   "cell_type": "code",
   "execution_count": 49,
   "id": "373343e8",
   "metadata": {},
   "outputs": [
    {
     "name": "stdout",
     "output_type": "stream",
     "text": [
      "['a', 'b', 'c', 'd', 'e']\n"
     ]
    }
   ],
   "source": [
    "t = ['d','c','e','b','a']\n",
    "t.sort()\n",
    "print(t)"
   ]
  },
  {
   "cell_type": "markdown",
   "id": "e32622a3",
   "metadata": {},
   "source": [
    "列表的大多数方法是无返回值的。他们修改列表，并返回 `None`。"
   ]
  },
  {
   "cell_type": "code",
   "execution_count": 50,
   "id": "9800fa82",
   "metadata": {},
   "outputs": [
    {
     "name": "stdout",
     "output_type": "stream",
     "text": [
      "None\n"
     ]
    }
   ],
   "source": [
    "t = t.sort()\n",
    "print(t)"
   ]
  },
  {
   "cell_type": "markdown",
   "id": "fe6cfd40",
   "metadata": {},
   "source": [
    "## 映射、过滤和化简"
   ]
  },
  {
   "cell_type": "markdown",
   "id": "82095be3",
   "metadata": {},
   "source": [
    "如果想把列表中的所有元素加起来，可以使用下面这样的循环:"
   ]
  },
  {
   "cell_type": "code",
   "execution_count": 51,
   "id": "46568c70",
   "metadata": {},
   "outputs": [],
   "source": [
    "def add_all(t):\n",
    "    total = 0\n",
    "    for x in t:\n",
    "        total += x\n",
    "    return total"
   ]
  },
  {
   "cell_type": "markdown",
   "id": "5c245d66",
   "metadata": {},
   "source": [
    "`total` 被初始化为 0。每次循环中，`x` 获取列表中的一个元素。`+=` 操作符为更新变量提供了一个简洁的方式:"
   ]
  },
  {
   "cell_type": "markdown",
   "id": "cc6df846",
   "metadata": {},
   "source": [
    "```python\n",
    "total +=x\n",
    "```"
   ]
  },
  {
   "cell_type": "markdown",
   "id": "864bdb92",
   "metadata": {},
   "source": [
    "上述语句称为**增加赋值语句**，它等价于:"
   ]
  },
  {
   "cell_type": "markdown",
   "id": "013021f4",
   "metadata": {},
   "source": [
    "```python\n",
    "total = total + x\n",
    "```"
   ]
  },
  {
   "cell_type": "markdown",
   "id": "f2b284cc",
   "metadata": {},
   "source": [
    "随着循环的运行，`total` 会累积列表中的值的和; 这样使用一个变量有时称为**累加器**(accumulator)。"
   ]
  },
  {
   "cell_type": "markdown",
   "id": "17ed0d02",
   "metadata": {},
   "source": [
    "对列表元素累加这种操作较为常见，因此 Python 提供了一个内置函数 `sum`:"
   ]
  },
  {
   "cell_type": "code",
   "execution_count": 53,
   "id": "2ecffa3e",
   "metadata": {},
   "outputs": [
    {
     "data": {
      "text/plain": [
       "6"
      ]
     },
     "execution_count": 53,
     "metadata": {},
     "output_type": "execute_result"
    }
   ],
   "source": [
    "t = [1,2,3]\n",
    "sum(t)"
   ]
  },
  {
   "cell_type": "markdown",
   "id": "ab753449",
   "metadata": {},
   "source": [
    "类似这样，将一个序列的元素值合起来到一个单独的变量的操作，有时称为**化简**(reduce)。"
   ]
  },
  {
   "cell_type": "markdown",
   "id": "8e8255f2",
   "metadata": {},
   "source": [
    "有时，我们想在遍历一个列表的同时构建另一个列表。例如，下面的函数接收一个字符串列表，并返回一个新列表，其元素是大写的字符串:"
   ]
  },
  {
   "cell_type": "code",
   "execution_count": 1,
   "id": "98ec67c8",
   "metadata": {},
   "outputs": [],
   "source": [
    "def capitalize_all(t):\n",
    "    res = []\n",
    "    for s in t:\n",
    "        res.append(s.capitalize())\n",
    "    return res"
   ]
  },
  {
   "cell_type": "markdown",
   "id": "e4417aba",
   "metadata": {},
   "source": [
    "`res` 初始化为一个空列表;每次循环，我们给它附加一个元素。所以 `res` 也是一种累加器。"
   ]
  },
  {
   "cell_type": "markdown",
   "id": "e67b1923",
   "metadata": {},
   "source": [
    "像 `capitalize_all` 这样的操作，有时被称为**映射**，因为它将一个函数\"映射\"到一个序列的每个元素上。"
   ]
  },
  {
   "cell_type": "markdown",
   "id": "ccb0c4bb",
   "metadata": {},
   "source": [
    "另一个常见的操作是选择列表中的某些元素，并返回一个子列表。例如，下面的函数接收一个字符串列表，并返回那些只包含大写字母的字符串:"
   ]
  },
  {
   "cell_type": "code",
   "execution_count": 2,
   "id": "846378d9",
   "metadata": {},
   "outputs": [],
   "source": [
    "def only_upper(t):\n",
    "    res = []\n",
    "    for s in t:\n",
    "        if s.isupper():\n",
    "            res.append(s)\n",
    "    return res"
   ]
  },
  {
   "cell_type": "markdown",
   "id": "a432172c",
   "metadata": {},
   "source": [
    "其中 `isupper` 是一个字符串方法，当字符串中只包含大写字母时返回 `True`。"
   ]
  },
  {
   "cell_type": "markdown",
   "id": "43b7f8b1",
   "metadata": {},
   "source": [
    "类似 `only_upper` 这样的操作称为**过滤**，因为它选择列表中的某些元素，并过滤掉其他的元素。"
   ]
  },
  {
   "cell_type": "markdown",
   "id": "c70840fc",
   "metadata": {},
   "source": [
    "列表的绝大多数常用操作都可以用**映射、过滤和简化**的组合来表达。"
   ]
  },
  {
   "cell_type": "markdown",
   "id": "43e56221",
   "metadata": {},
   "source": [
    "## 删除元素"
   ]
  },
  {
   "cell_type": "markdown",
   "id": "16e24b6e",
   "metadata": {},
   "source": [
    "有多种方法可以从列表中删除元素。如果知道元素的下标，则可以使用 `pop` 方法:"
   ]
  },
  {
   "cell_type": "code",
   "execution_count": 4,
   "id": "3d9ce24f",
   "metadata": {},
   "outputs": [
    {
     "name": "stdout",
     "output_type": "stream",
     "text": [
      "t: ['a', 'c']\n",
      "x: b\n"
     ]
    }
   ],
   "source": [
    "t = ['a','b','c']\n",
    "x = t.pop(1)\n",
    "print('t:',t)\n",
    "print('x:',x)"
   ]
  },
  {
   "cell_type": "markdown",
   "id": "286d23e3",
   "metadata": {},
   "source": [
    "`pop` 修改列表，并返回被删除掉的值。如果不提供下标，它会删除并返回最后一个元素。"
   ]
  },
  {
   "cell_type": "markdown",
   "id": "6175b074",
   "metadata": {},
   "source": [
    "如果不需要使用删除的值，则可以使用 `del` 操作符:"
   ]
  },
  {
   "cell_type": "code",
   "execution_count": 5,
   "id": "916d8665",
   "metadata": {},
   "outputs": [
    {
     "name": "stdout",
     "output_type": "stream",
     "text": [
      "['a', 'c']\n"
     ]
    }
   ],
   "source": [
    "t = ['a','b','c']\n",
    "del t[1]\n",
    "print(t)"
   ]
  },
  {
   "cell_type": "markdown",
   "id": "b0a8e4b1",
   "metadata": {},
   "source": [
    "如果知道要删除的元素(而不是下标)，可以使用 `remove`:"
   ]
  },
  {
   "cell_type": "code",
   "execution_count": 6,
   "id": "f8b85023",
   "metadata": {},
   "outputs": [
    {
     "name": "stdout",
     "output_type": "stream",
     "text": [
      "['a', 'c']\n"
     ]
    }
   ],
   "source": [
    "t = ['a','b','c']\n",
    "t.remove('b')\n",
    "print(t)"
   ]
  },
  {
   "cell_type": "markdown",
   "id": "7b18af81",
   "metadata": {},
   "source": [
    "若要删除多个元素，可以使用 `del` 和切片下标:"
   ]
  },
  {
   "cell_type": "code",
   "execution_count": 8,
   "id": "9884ebf8",
   "metadata": {},
   "outputs": [
    {
     "name": "stdout",
     "output_type": "stream",
     "text": [
      "['a', 'f']\n"
     ]
    }
   ],
   "source": [
    "t = ['a','b','c','d','e','f']\n",
    "del t[1:5]\n",
    "print(t)"
   ]
  },
  {
   "cell_type": "markdown",
   "id": "1728276c",
   "metadata": {},
   "source": [
    "## 列表和字符串"
   ]
  },
  {
   "cell_type": "markdown",
   "id": "d63d2466",
   "metadata": {},
   "source": [
    "字符串是字符的序列，列表是值的序列，但字符串的列表和字符串并不相同。若要将一个字符串转换为一个字符的列表，可以使用函数 `list`:"
   ]
  },
  {
   "cell_type": "code",
   "execution_count": 9,
   "id": "7f8415dd",
   "metadata": {},
   "outputs": [
    {
     "name": "stdout",
     "output_type": "stream",
     "text": [
      "['s', 'p', 'a', 'm']\n"
     ]
    }
   ],
   "source": [
    "s = 'spam'\n",
    "t = list(s)\n",
    "print(t)"
   ]
  },
  {
   "cell_type": "markdown",
   "id": "1400e649",
   "metadata": {},
   "source": [
    "`list` 函数会将字符串拆成单个的字母。如果想要将字符串拆成单词，可以使用 `split` 方法:"
   ]
  },
  {
   "cell_type": "code",
   "execution_count": 10,
   "id": "6d8f5734",
   "metadata": {},
   "outputs": [
    {
     "name": "stdout",
     "output_type": "stream",
     "text": [
      "['pining', 'for', 'the', 'fjords']\n"
     ]
    }
   ],
   "source": [
    "s = 'pining for the fjords'\n",
    "t = s.split()\n",
    "print(t)"
   ]
  },
  {
   "cell_type": "markdown",
   "id": "9c8e77fe",
   "metadata": {},
   "source": [
    "`split` 还可以接收一个可选的形参，称为**分隔符**，用于指定用哪个字符来分隔单词。例如，下面的例子使用连字符(-)作为分隔符:"
   ]
  },
  {
   "cell_type": "code",
   "execution_count": 11,
   "id": "18da3bbd",
   "metadata": {},
   "outputs": [
    {
     "name": "stdout",
     "output_type": "stream",
     "text": [
      "['spam', 'spam', 'spam']\n"
     ]
    }
   ],
   "source": [
    "s = 'spam-spam-spam'\n",
    "delimiter = '-'\n",
    "t = s.split(delimiter)\n",
    "print(t)"
   ]
  },
  {
   "cell_type": "markdown",
   "id": "29c49eed",
   "metadata": {},
   "source": [
    "`join` 是 `split` 的逆操作。它接收字符串列表，并拼接每个元素。`join` 是字符串的方法，所以必须在分隔符上调用它，并传入列表作为实参:"
   ]
  },
  {
   "cell_type": "code",
   "execution_count": 12,
   "id": "9ae8b4ac",
   "metadata": {},
   "outputs": [
    {
     "name": "stdout",
     "output_type": "stream",
     "text": [
      "pining-for-the-fjords\n"
     ]
    }
   ],
   "source": [
    "t = ['pining','for','the','fjords']\n",
    "delitmiter = ' '\n",
    "s = delimiter.join(t)\n",
    "print(s)"
   ]
  },
  {
   "cell_type": "markdown",
   "id": "1e65b282",
   "metadata": {},
   "source": [
    "我们采用空格作为分隔符，所以 `join` 会在每个单词之间放一个空格。若想不用空格，而是直接连接字符串，可以使用空字符串 `''` 作为分隔符。"
   ]
  },
  {
   "cell_type": "markdown",
   "id": "0a9ea07a",
   "metadata": {},
   "source": [
    "## 对象和值"
   ]
  },
  {
   "cell_type": "markdown",
   "id": "b9186483",
   "metadata": {},
   "source": [
    "如果运行下面的赋值语句:"
   ]
  },
  {
   "cell_type": "code",
   "execution_count": 1,
   "id": "3b47cb48",
   "metadata": {},
   "outputs": [],
   "source": [
    "a = 'banana'\n",
    "b = 'banana'"
   ]
  },
  {
   "cell_type": "markdown",
   "id": "df840b35",
   "metadata": {},
   "source": [
    "`a` 和 `b` 都是一个字符的引用，但我们不知道它们是否指向同一个字符串。有两种可能的状态:\n",
    "1. `a` 和 `b` 引用着不同的对象\n",
    "2. `a` 和 `b` 指向同一个对象"
   ]
  },
  {
   "cell_type": "markdown",
   "id": "cd479960",
   "metadata": {},
   "source": [
    "要检查两个变量是否引用同一个对象，可以使用 `is` 操作符。"
   ]
  },
  {
   "cell_type": "code",
   "execution_count": 2,
   "id": "8552fa1c",
   "metadata": {},
   "outputs": [
    {
     "data": {
      "text/plain": [
       "True"
      ]
     },
     "execution_count": 2,
     "metadata": {},
     "output_type": "execute_result"
    }
   ],
   "source": [
    "a = 'banana'\n",
    "b = 'banana'\n",
    "a is b"
   ]
  },
  {
   "cell_type": "markdown",
   "id": "50af38f3",
   "metadata": {},
   "source": [
    "在上面的例子中，Python 只建立了一个字符串对象，而 `a` 和 `b` 都引用它。"
   ]
  },
  {
   "cell_type": "markdown",
   "id": "acf21a36",
   "metadata": {},
   "source": [
    "但当新建两个列表时，会得到两个对象:"
   ]
  },
  {
   "cell_type": "code",
   "execution_count": 4,
   "id": "bf2f212c",
   "metadata": {},
   "outputs": [
    {
     "data": {
      "text/plain": [
       "False"
      ]
     },
     "execution_count": 4,
     "metadata": {},
     "output_type": "execute_result"
    }
   ],
   "source": [
    "a = [1,2,3]\n",
    "b = [1,2,3]\n",
    "a is b"
   ]
  },
  {
   "cell_type": "markdown",
   "id": "af1bf4a7",
   "metadata": {},
   "source": [
    "在本例子中，两个列表是**相等的**(equivalent)，因为它们有相同的元素，但它们不是**相同的**(identical)，因为它们并不是同一个对象。如果两个对象相同，则必定相等;如果两个对象相等，不一定相同。"
   ]
  },
  {
   "cell_type": "markdown",
   "id": "446c6d2d",
   "metadata": {},
   "source": [
    "在此之前，我们并没有区分\"对象\" 和 \"值\"，但更精确的说法是对象有一个值。\n",
    "\n",
    "**如果求值 `[1,2,3]`，会得到一个列表对象，它的值是一个整数的序列。**\n",
    "\n",
    "如果另一个列表包含相同的元素，我们说它有相同的值，但它们不是同一个对象。"
   ]
  },
  {
   "cell_type": "markdown",
   "id": "e56c3e36",
   "metadata": {},
   "source": [
    "## 别名"
   ]
  },
  {
   "cell_type": "markdown",
   "id": "6045b35e",
   "metadata": {},
   "source": [
    "如果 `a` 引用一个对象，而我们赋值 `b=a`，则两个变量都会引用同一个对象:"
   ]
  },
  {
   "cell_type": "code",
   "execution_count": 5,
   "id": "9a27abde",
   "metadata": {},
   "outputs": [
    {
     "data": {
      "text/plain": [
       "True"
      ]
     },
     "execution_count": 5,
     "metadata": {},
     "output_type": "execute_result"
    }
   ],
   "source": [
    "a = [1,2,3]\n",
    "b = a \n",
    "b is a"
   ]
  },
  {
   "cell_type": "markdown",
   "id": "8e34dddf",
   "metadata": {},
   "source": [
    "变量和对象之间的关联关系称为**引用**(reference)。在这个例子中，有两个指向同一对象的引用。"
   ]
  },
  {
   "cell_type": "markdown",
   "id": "e109c709",
   "metadata": {},
   "source": [
    "当一个对象有多个引用，并且引用有不同的名称时，则说这个对象有**别名**(aliased)。"
   ]
  },
  {
   "cell_type": "markdown",
   "id": "da438062",
   "metadata": {},
   "source": [
    "如果有别名的对象是可变的，则对一个别名的修改会影响另一个:"
   ]
  },
  {
   "cell_type": "code",
   "execution_count": 6,
   "id": "c62eae6c",
   "metadata": {},
   "outputs": [
    {
     "data": {
      "text/plain": [
       "[42, 2, 3]"
      ]
     },
     "execution_count": 6,
     "metadata": {},
     "output_type": "execute_result"
    }
   ],
   "source": [
    "b[0] = 42\n",
    "a"
   ]
  },
  {
   "cell_type": "markdown",
   "id": "a54a5f32",
   "metadata": {},
   "source": [
    "这种行为虽然可能很有用，但它也容易导致错误。通常来说，当处理可变对象时，避免使用别名会更安全。"
   ]
  },
  {
   "cell_type": "markdown",
   "id": "4276a760",
   "metadata": {},
   "source": [
    "而对于类似字符串这样的不可变对象，别名则不会产生问题。"
   ]
  },
  {
   "cell_type": "markdown",
   "id": "b2caffa5",
   "metadata": {},
   "source": [
    "## 列表参数"
   ]
  },
  {
   "cell_type": "markdown",
   "id": "130eaa03",
   "metadata": {},
   "source": [
    "当将一个列表传递给函数中，函数会得到列表的一个引用。如果函数中修改了列表，则调用者也会看到这个修改。例如，下面的函数 `delete_head` 删除列表中的第一个元素:"
   ]
  },
  {
   "cell_type": "code",
   "execution_count": 7,
   "id": "3be1267d",
   "metadata": {},
   "outputs": [],
   "source": [
    "def delete_head(t):\n",
    "    del t[0]"
   ]
  },
  {
   "cell_type": "code",
   "execution_count": 8,
   "id": "cd756322",
   "metadata": {},
   "outputs": [
    {
     "data": {
      "text/plain": [
       "['b', 'c']"
      ]
     },
     "execution_count": 8,
     "metadata": {},
     "output_type": "execute_result"
    }
   ],
   "source": [
    "letters = ['a','b','c']\n",
    "delete_head(letters)\n",
    "letters"
   ]
  },
  {
   "cell_type": "markdown",
   "id": "69df30d8",
   "metadata": {},
   "source": [
    "其中，参数 `t` 和变量 `letters` 是同一个对象的别名。栈图如下所示:"
   ]
  },
  {
   "cell_type": "markdown",
   "id": "fa19781d",
   "metadata": {},
   "source": [
    "<img src='figures/栈图10-1.jpg'>"
   ]
  },
  {
   "cell_type": "markdown",
   "id": "7460ed4e",
   "metadata": {},
   "source": [
    "区分修改列表的操作和新建列表的操作十分重要。例如，`append` 方法修改列表，但是 `+` 操作符新建一个列表:"
   ]
  },
  {
   "cell_type": "code",
   "execution_count": 9,
   "id": "42538cd5",
   "metadata": {},
   "outputs": [
    {
     "name": "stdout",
     "output_type": "stream",
     "text": [
      "[1, 2, 3]\n"
     ]
    }
   ],
   "source": [
    "t1 = [1,2]\n",
    "t2 = t1.append(3)\n",
    "print(t1)"
   ]
  },
  {
   "cell_type": "code",
   "execution_count": 10,
   "id": "711d970e",
   "metadata": {},
   "outputs": [
    {
     "name": "stdout",
     "output_type": "stream",
     "text": [
      "None\n"
     ]
    }
   ],
   "source": [
    "print(t2)"
   ]
  },
  {
   "cell_type": "markdown",
   "id": "93101455",
   "metadata": {},
   "source": [
    "`append` 修改列表，返回 `None`。"
   ]
  },
  {
   "cell_type": "markdown",
   "id": "b203a6fa",
   "metadata": {},
   "source": [
    "操作符 `+` 创建一个新列表，而原始的列表不改变。"
   ]
  },
  {
   "cell_type": "markdown",
   "id": "e799ce54",
   "metadata": {},
   "source": [
    "这个区别，在编写希望修改列表的函数时十分重要。例如，下面的函数并不会删除列表的开头:"
   ]
  },
  {
   "cell_type": "code",
   "execution_count": 11,
   "id": "25554e66",
   "metadata": {},
   "outputs": [],
   "source": [
    "def bad_delete_head(t):\n",
    "    t = t[1:]"
   ]
  },
  {
   "cell_type": "markdown",
   "id": "16d7da63",
   "metadata": {},
   "source": [
    "切片操作会新建一个列表，而赋值操作会让 `t` 引用指向这个新的列表，但这些操作对调用者没有影响。"
   ]
  },
  {
   "cell_type": "code",
   "execution_count": 13,
   "id": "527ea7f2",
   "metadata": {},
   "outputs": [
    {
     "data": {
      "text/plain": [
       "[1, 2, 3]"
      ]
     },
     "execution_count": 13,
     "metadata": {},
     "output_type": "execute_result"
    }
   ],
   "source": [
    "t4 = [1,2,3]\n",
    "bad_delete_head(t4)\n",
    "print(t4)"
   ]
  },
  {
   "cell_type": "markdown",
   "id": "d030d67d",
   "metadata": {},
   "source": [
    "在 `bad_delete_head` 的开头，`t` 和 `t4` 指向同一个列表。在函数最后， `t` 指向了一个新的列表，但 `t4` 仍然指向原先的那个没有改变的列表。"
   ]
  },
  {
   "cell_type": "markdown",
   "id": "01bacd9c",
   "metadata": {},
   "source": [
    "我们还可以编写函数创建并返回一个新的列表。例如，下面的函数 `tail` 返回除了第一个以外所有的元素的列表:"
   ]
  },
  {
   "cell_type": "code",
   "execution_count": 14,
   "id": "319412aa",
   "metadata": {},
   "outputs": [],
   "source": [
    "def tail(t):\n",
    "    return t[1:]"
   ]
  },
  {
   "cell_type": "markdown",
   "id": "edfca1f7",
   "metadata": {},
   "source": [
    "这个函数不会修改原始列表:"
   ]
  },
  {
   "cell_type": "code",
   "execution_count": 15,
   "id": "30b031fd",
   "metadata": {},
   "outputs": [
    {
     "name": "stdout",
     "output_type": "stream",
     "text": [
      "['b', 'c']\n"
     ]
    }
   ],
   "source": [
    "letters = ['a','b','c']\n",
    "rest = tail(letters)\n",
    "print(rest)"
   ]
  },
  {
   "cell_type": "markdown",
   "id": "21c4f92f",
   "metadata": {},
   "source": [
    "## 调试"
   ]
  },
  {
   "cell_type": "markdown",
   "id": "2bd91004",
   "metadata": {},
   "source": [
    "对列表(以及其他可变对象)的不慎使用，可能会导致长时间的调试。下面介绍一些常见的陷阱，以及如何避免它们。"
   ]
  },
  {
   "cell_type": "markdown",
   "id": "f5216037",
   "metadata": {},
   "source": [
    "1. 大部分列表方法都是修改参数并返回 `None` 的，而字符串方法是新建一个字符串，并留着原始的字符串不动。\n",
    "   \n",
    "   对字符串来说，下面的代码是没有问题的:\n",
    "   ```python\n",
    "   word = word.strip()\n",
    "   ```\n",
    "   而对列表来说，这种方式是有问题的:\n",
    "   ```python\n",
    "   t = t.sort()\n",
    "   ```\n",
    "   因为 `sort` 返回 `None`，接下来对 `t` 进行的操作很可能会失败。\n",
    "   \n",
    "   在使用列表方法和操作符之前，应该仔细阅读文档，并在交互模式中测试它们。"
   ]
  },
  {
   "cell_type": "markdown",
   "id": "94f6522f",
   "metadata": {},
   "source": [
    "2. 选择一种风格，并坚持不变\n",
    "   \n",
    "   列表的问题之一是同样的事情有太多种可用的做法。例如，要从列表中删除一个元素，可以使用 `pop`,`remove`,`del` 甚至切片赋值。\n",
    "   \n",
    "   要添加一个元素，可以使用 `append` 方法或 `+` 操作符。假设 `t` 是一个列表，`x` 是一个列表元素，下面的操作是正确的:\n",
    "   ```python\n",
    "   t.append(x)\n",
    "   t = t+[x]\n",
    "   t += [x]\n",
    "   ```\n",
    "   而下面的操作是错误的:\n",
    "   ```python\n",
    "   t.append(x)\n",
    "   t = t + [x]\n",
    "   t = t + x\n",
    "   ```\n",
    "   在交互模式中试验这些例子，理解它们的运行细节。注意只有最后一个会导致运行时错误; 其他的三个都是合法的，但结果不正确"
   ]
  },
  {
   "cell_type": "markdown",
   "id": "a10ed15e",
   "metadata": {},
   "source": [
    "3. 通过复制来避免别名\n",
    "   \n",
    "   如果想要使用类似 `sort` 的方法来修改参数，但又要保留原先的列表，可以复制一个副本"
   ]
  },
  {
   "cell_type": "code",
   "execution_count": 17,
   "id": "22f69787",
   "metadata": {},
   "outputs": [
    {
     "name": "stdout",
     "output_type": "stream",
     "text": [
      "t: [3, 1, 2]\n",
      "t2: [1, 2, 3]\n"
     ]
    }
   ],
   "source": [
    "t = [3,1,2]\n",
    "t2 = t[:]\n",
    "t2.sort()\n",
    "print('t:',t)\n",
    "print('t2:',t2)"
   ]
  },
  {
   "cell_type": "markdown",
   "id": "42393cb8",
   "metadata": {},
   "source": [
    "    在这个例子里也可以使用内置函数 `sorted`，它会返回一个新的排好序的列表，并且留着原先的列表不动。"
   ]
  },
  {
   "cell_type": "code",
   "execution_count": 18,
   "id": "40ce2e90",
   "metadata": {},
   "outputs": [
    {
     "name": "stdout",
     "output_type": "stream",
     "text": [
      "t: [3, 1, 2]\n",
      "t2: [1, 2, 3]\n"
     ]
    }
   ],
   "source": [
    "t2 = sorted(t)\n",
    "print('t:',t)\n",
    "print('t2:',t2)"
   ]
  }
 ],
 "metadata": {
  "kernelspec": {
   "display_name": "Python 3 (ipykernel)",
   "language": "python",
   "name": "python3"
  },
  "language_info": {
   "codemirror_mode": {
    "name": "ipython",
    "version": 3
   },
   "file_extension": ".py",
   "mimetype": "text/x-python",
   "name": "python",
   "nbconvert_exporter": "python",
   "pygments_lexer": "ipython3",
   "version": "3.8.10"
  }
 },
 "nbformat": 4,
 "nbformat_minor": 5
}
