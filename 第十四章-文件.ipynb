{
 "cells": [
  {
   "cell_type": "markdown",
   "id": "9449fbd3",
   "metadata": {},
   "source": [
    "本章介绍\"持久\"程序的概念，它们将数据存储到持久存储中。另外，本章还会介绍不同种类的持久存储，如文件和数据库。"
   ]
  },
  {
   "cell_type": "markdown",
   "id": "6fa82faa",
   "metadata": {},
   "source": [
    "## 持久化"
   ]
  },
  {
   "cell_type": "markdown",
   "id": "494d67f2",
   "metadata": {},
   "source": [
    "之前我们见过的程序都是瞬态的，因为它们会在短暂的时间里运行一些输出，但当运行结束时，它们的数据会消失。如果再次运行程序，它会再次全新地开始。"
   ]
  },
  {
   "cell_type": "markdown",
   "id": "69a9cc40",
   "metadata": {},
   "source": [
    "也有些程序是**持久化**的: 它们会运行很长一段时间(或者一直运行); 它们会至少存储一部分数据到永久存储(比如硬盘)中; 如果它们被关闭重启后，会接着从上次离开的状态继续。例如操作系统，就是持久化程序的例子。"
   ]
  },
  {
   "cell_type": "markdown",
   "id": "a43b0a1c",
   "metadata": {},
   "source": [
    "读写文本文件是程序维护数据最简单的方法之一。我们已经见过读取文本文件的程序，在本章中还会见到往文件写入的程序。"
   ]
  },
  {
   "cell_type": "markdown",
   "id": "d6a59412",
   "metadata": {},
   "source": [
    "程序维护数据的另一个方法是将程序的状态保存到数据库中。本章会介绍一个简单的数据库，以及一个模块，`pickle`，用来简化程序数据的存储。"
   ]
  },
  {
   "cell_type": "markdown",
   "id": "e7a1bffe",
   "metadata": {},
   "source": [
    "## 读和写"
   ]
  },
  {
   "cell_type": "markdown",
   "id": "46275cd6",
   "metadata": {},
   "source": [
    "文本文件是存储在诸如硬盘,闪存或光盘的永久媒介上的字符串序列。"
   ]
  },
  {
   "cell_type": "markdown",
   "id": "b0b44620",
   "metadata": {},
   "source": [
    "要写入一个文件，需要使用 `'w'` 模式作为第二个实参来打开它:"
   ]
  },
  {
   "cell_type": "code",
   "execution_count": 1,
   "id": "857390d4",
   "metadata": {},
   "outputs": [],
   "source": [
    "fout = open('output.txt','w')"
   ]
  },
  {
   "cell_type": "markdown",
   "id": "74c28e06",
   "metadata": {},
   "source": [
    "如果文件已经存在，则使用写模式打开时会清除掉旧数据并重新开始。如果文件不存在，则会新建一个。"
   ]
  },
  {
   "cell_type": "markdown",
   "id": "611318f6",
   "metadata": {},
   "source": [
    "`open` 函数返回一个文件对象，提供操作文件的方法。其中 `write` 方法把数据写入到文件中。"
   ]
  },
  {
   "cell_type": "code",
   "execution_count": 3,
   "id": "de7082fe",
   "metadata": {},
   "outputs": [
    {
     "data": {
      "text/plain": [
       "24"
      ]
     },
     "execution_count": 3,
     "metadata": {},
     "output_type": "execute_result"
    }
   ],
   "source": [
    "line1 = \"This here's the wattle,\\n\"\n",
    "fout.write(line1)"
   ]
  },
  {
   "cell_type": "code",
   "execution_count": null,
   "id": "e8e1ae8d",
   "metadata": {},
   "outputs": [],
   "source": []
  },
  {
   "cell_type": "markdown",
   "id": "d0556ee2",
   "metadata": {},
   "source": [
    "返回值是写入的字符数目。**文件对象会记录写到了哪里**，所以如果再次调用 `write`，它会在文件的结尾处添加新的数据。"
   ]
  },
  {
   "cell_type": "code",
   "execution_count": 4,
   "id": "d8d43a2e",
   "metadata": {},
   "outputs": [
    {
     "data": {
      "text/plain": [
       "24"
      ]
     },
     "execution_count": 4,
     "metadata": {},
     "output_type": "execute_result"
    }
   ],
   "source": [
    "line2 = \"the emblem of our land.\\n\"\n",
    "fout.write(line2)"
   ]
  },
  {
   "cell_type": "markdown",
   "id": "8863b4b1",
   "metadata": {},
   "source": [
    "当写入完毕时，应该关闭文件。"
   ]
  },
  {
   "cell_type": "code",
   "execution_count": 5,
   "id": "9da3a6da",
   "metadata": {},
   "outputs": [],
   "source": [
    "fout.close()"
   ]
  },
  {
   "cell_type": "markdown",
   "id": "ecc9adbc",
   "metadata": {},
   "source": [
    "如果不关闭文件，程序会在执行结束时将文件关闭。"
   ]
  },
  {
   "cell_type": "markdown",
   "id": "29ef339e",
   "metadata": {},
   "source": [
    "## 格式操作符"
   ]
  },
  {
   "cell_type": "markdown",
   "id": "772ffcc2",
   "metadata": {},
   "source": [
    "`write` 的参数必须是字符串，所以若想往文件中写入其他类型的值，必须先将它们转换为字符串。最容易的方法是使用 `str`:"
   ]
  },
  {
   "cell_type": "code",
   "execution_count": 7,
   "id": "e93c7900",
   "metadata": {},
   "outputs": [
    {
     "data": {
      "text/plain": [
       "2"
      ]
     },
     "execution_count": 7,
     "metadata": {},
     "output_type": "execute_result"
    }
   ],
   "source": [
    "fout = open('output.txt','w')\n",
    "x = 52\n",
    "fout.write(str(x))"
   ]
  },
  {
   "cell_type": "markdown",
   "id": "fe96763c",
   "metadata": {},
   "source": [
    "另一个办法是使用 **格式操作符** `%`。当用于整数时，`%` 是求余操作符。但若第一个操作对象是字符串时，`%` 则是格式操作符。"
   ]
  },
  {
   "cell_type": "code",
   "execution_count": 2,
   "id": "aa189430",
   "metadata": {},
   "outputs": [
    {
     "data": {
      "text/plain": [
       "'42'"
      ]
     },
     "execution_count": 2,
     "metadata": {},
     "output_type": "execute_result"
    }
   ],
   "source": [
    "camels = 42\n",
    "'%d'%camels"
   ]
  },
  {
   "cell_type": "code",
   "execution_count": 3,
   "id": "451f55a5",
   "metadata": {},
   "outputs": [
    {
     "name": "stdout",
     "output_type": "stream",
     "text": [
      "I have spotted 42 camels\n"
     ]
    }
   ],
   "source": [
    "s = 'I have spotted %d camels'%camels\n",
    "print(s)"
   ]
  },
  {
   "cell_type": "markdown",
   "id": "609d3eda",
   "metadata": {},
   "source": [
    "如上所示，`%` 接收两个操作对象，其中第一个操作对象是**格式字符串**，包括一个或多个**格式序列**，并由它们来制定第二个操作对象如何格式化。表达式的结果是一个字符串。"
   ]
  },
  {
   "cell_type": "markdown",
   "id": "0e8859d0",
   "metadata": {},
   "source": [
    "上面的代码中，格式序列 `'d'` 意味着第二个操作数应该被格式化为**十进制整数**。并且格式序列可以出现在字符串的任意地方，所以可以在一个句子中嵌入变量值，如上所示。"
   ]
  },
  {
   "cell_type": "markdown",
   "id": "18e8ada5",
   "metadata": {},
   "source": [
    "如果字符串中有多于一个格式序列，第二个操作对象就必须是元组。每个格式序列按顺序对应元组中的一个元素。"
   ]
  },
  {
   "cell_type": "markdown",
   "id": "f3e6fc3e",
   "metadata": {},
   "source": [
    "下面的例子使用 `%d` 格式化整数，`%g` 格式化浮点数，`%s` 格式化字符串:"
   ]
  },
  {
   "cell_type": "code",
   "execution_count": 17,
   "id": "56f0eb64",
   "metadata": {},
   "outputs": [
    {
     "data": {
      "text/plain": [
       "'In 3 years I have spotted 0.1 camels'"
      ]
     },
     "execution_count": 17,
     "metadata": {},
     "output_type": "execute_result"
    }
   ],
   "source": [
    "'In %d years I have spotted %g %s'%(3,0.1,'camels')"
   ]
  },
  {
   "cell_type": "markdown",
   "id": "4c9602be",
   "metadata": {},
   "source": [
    "元素中元素的个数必须和字符串中格式序列的个数一致。另外，元素的类型也要和格式序列一致:"
   ]
  },
  {
   "cell_type": "code",
   "execution_count": 13,
   "id": "4b1bd0d6",
   "metadata": {},
   "outputs": [
    {
     "ename": "TypeError",
     "evalue": "not enough arguments for format string",
     "output_type": "error",
     "traceback": [
      "\u001b[0;31m---------------------------------------------------------------------------\u001b[0m",
      "\u001b[0;31mTypeError\u001b[0m                                 Traceback (most recent call last)",
      "\u001b[0;32m/tmp/ipykernel_20722/1902133964.py\u001b[0m in \u001b[0;36m<module>\u001b[0;34m\u001b[0m\n\u001b[0;32m----> 1\u001b[0;31m \u001b[0;34m'%d %d %d'\u001b[0m\u001b[0;34m%\u001b[0m\u001b[0;34m(\u001b[0m\u001b[0;36m1\u001b[0m\u001b[0;34m,\u001b[0m\u001b[0;36m2\u001b[0m\u001b[0;34m)\u001b[0m\u001b[0;34m\u001b[0m\u001b[0;34m\u001b[0m\u001b[0m\n\u001b[0m",
      "\u001b[0;31mTypeError\u001b[0m: not enough arguments for format string"
     ]
    }
   ],
   "source": [
    "'%d %d %d'%(1,2)"
   ]
  },
  {
   "cell_type": "markdown",
   "id": "25354d4e",
   "metadata": {},
   "source": [
    "上面的例子中，元组中元素个数不够。"
   ]
  },
  {
   "cell_type": "code",
   "execution_count": 14,
   "id": "e1fb3f48",
   "metadata": {},
   "outputs": [
    {
     "ename": "TypeError",
     "evalue": "%d format: a number is required, not str",
     "output_type": "error",
     "traceback": [
      "\u001b[0;31m---------------------------------------------------------------------------\u001b[0m",
      "\u001b[0;31mTypeError\u001b[0m                                 Traceback (most recent call last)",
      "\u001b[0;32m/tmp/ipykernel_20722/2223729355.py\u001b[0m in \u001b[0;36m<module>\u001b[0;34m\u001b[0m\n\u001b[0;32m----> 1\u001b[0;31m \u001b[0;34m'%d'\u001b[0m\u001b[0;34m%\u001b[0m\u001b[0;34m'dollars'\u001b[0m\u001b[0;34m\u001b[0m\u001b[0;34m\u001b[0m\u001b[0m\n\u001b[0m",
      "\u001b[0;31mTypeError\u001b[0m: %d format: a number is required, not str"
     ]
    }
   ],
   "source": [
    "'%d'%'dollars'"
   ]
  },
  {
   "cell_type": "markdown",
   "id": "e151d20e",
   "metadata": {},
   "source": [
    "上面的例子中，元素的类型不对。"
   ]
  },
  {
   "cell_type": "markdown",
   "id": "3ed8de2d",
   "metadata": {},
   "source": [
    "给出一些常用格式操作符的作用:"
   ]
  },
  {
   "cell_type": "markdown",
   "id": "d6ff0aae",
   "metadata": {},
   "source": [
    "| 格式操作符 | 意义 |\n",
    "|:----- | :---|\n",
    "|`'d'`,`'i'`| 有符号十进制整数\n",
    "|`'o'`\t| 有符号八进制整数\n",
    "|`'f'`,`'F'`| 浮点数\n",
    "|`'g'`,`'G'`| 浮点格式,在保证六位有效数字的前提下,使用小数方式,否则使用科学计数法\n",
    "|`'c'`| 单个字符\n",
    "|`'s'`| 字符串 (采用str()的显示)\n"
   ]
  },
  {
   "cell_type": "markdown",
   "id": "6c9be237",
   "metadata": {},
   "source": [
    "## 文件名和路径"
   ]
  },
  {
   "cell_type": "markdown",
   "id": "23154438",
   "metadata": {},
   "source": [
    "文件组织在**目录**(也称为文件夹)中，每个程序都有\"当前目录\"，它是大多数操作的默认目录。例如，当打开一个文件用于读取时，Python 默认在当前目录中寻找它。"
   ]
  },
  {
   "cell_type": "markdown",
   "id": "e3d6ab52",
   "metadata": {},
   "source": [
    "`os` 模块提供了用于操作文件和目录的函数(`os` 代表 operating system，即操作系统)。`os.getcwd` 返回当前目录的名称:"
   ]
  },
  {
   "cell_type": "code",
   "execution_count": 6,
   "id": "86dab21d",
   "metadata": {},
   "outputs": [
    {
     "data": {
      "text/plain": [
       "'/home/wangdong/wangd/工作/助教/计算机程序设计/thinkpython/courseware'"
      ]
     },
     "execution_count": 6,
     "metadata": {},
     "output_type": "execute_result"
    }
   ],
   "source": [
    "import os\n",
    "cwd = os.getcwd()\n",
    "cwd"
   ]
  },
  {
   "cell_type": "markdown",
   "id": "9433f259",
   "metadata": {},
   "source": [
    "`cwd` 表示 current working directory，即当前工作目录。"
   ]
  },
  {
   "cell_type": "markdown",
   "id": "a6c10aa9",
   "metadata": {},
   "source": [
    "类似于上面输出的用来定位一个文件或目录的字符串被称为一个**路径(path)**。"
   ]
  },
  {
   "cell_type": "markdown",
   "id": "58a7549d",
   "metadata": {},
   "source": [
    "不过一个简单的文件名，如 `words.txt`，也被认为是一个路径，但它是一个相对路径，因为它依赖于当前目录。如果当前目录是`/home/username`，则文件名 `words.txt` 指的是 `/home/username/words.txt`。"
   ]
  },
  {
   "cell_type": "markdown",
   "id": "f714b9ba",
   "metadata": {},
   "source": [
    "而以 `/` 开头的路径则不依赖于当前目录，所以被称为**绝对路径(absolute path)**。可以使用 `os.path.abspath` 来寻找文件的绝对路径:"
   ]
  },
  {
   "cell_type": "code",
   "execution_count": 7,
   "id": "507f1493",
   "metadata": {},
   "outputs": [
    {
     "data": {
      "text/plain": [
       "'/home/wangdong/wangd/工作/助教/计算机程序设计/thinkpython/courseware/words.txt'"
      ]
     },
     "execution_count": 7,
     "metadata": {},
     "output_type": "execute_result"
    }
   ],
   "source": [
    "os.path.abspath('words.txt')"
   ]
  },
  {
   "cell_type": "markdown",
   "id": "700ba7a9",
   "metadata": {},
   "source": [
    "`os.path` 还提供了其他函数来操作文件名和路径。例如，`os.path.exists` 检查一个文件或目录是否存在:"
   ]
  },
  {
   "cell_type": "code",
   "execution_count": 8,
   "id": "175a3fdd",
   "metadata": {},
   "outputs": [
    {
     "data": {
      "text/plain": [
       "True"
      ]
     },
     "execution_count": 8,
     "metadata": {},
     "output_type": "execute_result"
    }
   ],
   "source": [
    "os.path.exists('words.txt')"
   ]
  },
  {
   "cell_type": "markdown",
   "id": "aaf0f5da",
   "metadata": {},
   "source": [
    "如果它存在，`os.path.isdir` 可以检验它是否为目录:"
   ]
  },
  {
   "cell_type": "code",
   "execution_count": 9,
   "id": "80d52d50",
   "metadata": {},
   "outputs": [
    {
     "data": {
      "text/plain": [
       "False"
      ]
     },
     "execution_count": 9,
     "metadata": {},
     "output_type": "execute_result"
    }
   ],
   "source": [
    "os.path.isdir('words.txt')"
   ]
  },
  {
   "cell_type": "code",
   "execution_count": 10,
   "id": "bfd54f2c",
   "metadata": {},
   "outputs": [
    {
     "data": {
      "text/plain": [
       "True"
      ]
     },
     "execution_count": 10,
     "metadata": {},
     "output_type": "execute_result"
    }
   ],
   "source": [
    "os.path.isdir('/home/wangdong/opt')"
   ]
  },
  {
   "cell_type": "markdown",
   "id": "4f7221f1",
   "metadata": {},
   "source": [
    "类似地，`os.path.isfile`检查它是否为文件。"
   ]
  },
  {
   "cell_type": "markdown",
   "id": "ab5a844b",
   "metadata": {},
   "source": [
    "`os.listdir` 返回指定目录中文件(以及其他目录)的列表:"
   ]
  },
  {
   "cell_type": "code",
   "execution_count": 11,
   "id": "05cd0d61",
   "metadata": {},
   "outputs": [
    {
     "data": {
      "text/plain": [
       "['第二章-变量、表达式和语句.ipynb',\n",
       " '0.1-Python编程环境搭建.ipynb',\n",
       " '第一章-程序之道.ipynb',\n",
       " '__pycache__',\n",
       " 'structshape.py',\n",
       " '.gitkeep',\n",
       " '第四章-案例研究：接口设计.ipynb',\n",
       " '第十章-列表.ipynb',\n",
       " '第五章-条件和递归.ipynb',\n",
       " '第七章-迭代.ipynb',\n",
       " '第三章 函数.ipynb',\n",
       " '未命名.ipynb',\n",
       " '第六章-有返回值的函数.ipynb',\n",
       " 'figures',\n",
       " '第十四章-文件.ipynb',\n",
       " 'DIKW_1.png',\n",
       " '十一章-字典.ipynb',\n",
       " 'Untitled.ipynb',\n",
       " 'shell.png',\n",
       " '第十二章-元组.ipynb',\n",
       " 'Data_Science_VD.png',\n",
       " '.ipynb_checkpoints',\n",
       " 'structshap.py',\n",
       " 'chapter-4-code',\n",
       " 'dengpao.svg',\n",
       " '0.2-IPython Shell 基础.ipynb',\n",
       " 'words.txt',\n",
       " '第八章-字符串.ipynb',\n",
       " '0.0-Python程序设计简介.ipynb',\n",
       " 'mypolygon.py',\n",
       " 'computer.pdf',\n",
       " '0.3-Jupyter Notebook 基础.ipynb',\n",
       " 'output.txt',\n",
       " 'Von_Neumann_Architecture.png',\n",
       " '第九章-案例分析文字游戏.ipynb',\n",
       " 'DIKW_0.png']"
      ]
     },
     "execution_count": 11,
     "metadata": {},
     "output_type": "execute_result"
    }
   ],
   "source": [
    "os.listdir(cwd)"
   ]
  },
  {
   "cell_type": "markdown",
   "id": "f4656d5b",
   "metadata": {},
   "source": [
    "为了演示这些函数，下面的例子走遍一个目录，打印所有文件的名称，并对之中的子目录递归调用自己。"
   ]
  },
  {
   "cell_type": "code",
   "execution_count": 12,
   "id": "012d62c7",
   "metadata": {},
   "outputs": [],
   "source": [
    "def walk(dirname):\n",
    "    for name in os.listdir(dirname):\n",
    "        path = os.path.join(dirname, name)\n",
    "        \n",
    "        if os.path.isfile(path):\n",
    "            print(path)\n",
    "        else:\n",
    "            walk(path)"
   ]
  },
  {
   "cell_type": "code",
   "execution_count": 14,
   "id": "522c71cf",
   "metadata": {},
   "outputs": [],
   "source": [
    "#walk(cwd)"
   ]
  },
  {
   "cell_type": "markdown",
   "id": "29dc4423",
   "metadata": {},
   "source": [
    "`os.path.join` 接收一个目录和一个文件名称，并将它们拼接为一个完整的路径。"
   ]
  },
  {
   "cell_type": "markdown",
   "id": "d1953572",
   "metadata": {},
   "source": [
    "`os` 模块提供了一个函数 `walk`，和上面的例子作用类似，但功能更丰富。"
   ]
  },
  {
   "cell_type": "markdown",
   "id": "8ccbdad2",
   "metadata": {},
   "source": [
    "## 捕获异常"
   ]
  },
  {
   "cell_type": "markdown",
   "id": "d093ce00",
   "metadata": {},
   "source": [
    "当常数读取和写入文件时，很多东西都可能出错。如果尝试打开一个不存在的文件，会得到一个错误:"
   ]
  },
  {
   "cell_type": "code",
   "execution_count": 16,
   "id": "7e589f1d",
   "metadata": {},
   "outputs": [
    {
     "ename": "FileNotFoundError",
     "evalue": "[Errno 2] No such file or directory: 'bad_file'",
     "output_type": "error",
     "traceback": [
      "\u001b[0;31m---------------------------------------------------------------------------\u001b[0m",
      "\u001b[0;31mFileNotFoundError\u001b[0m                         Traceback (most recent call last)",
      "\u001b[0;32m/tmp/ipykernel_2840/1899840290.py\u001b[0m in \u001b[0;36m<module>\u001b[0;34m\u001b[0m\n\u001b[0;32m----> 1\u001b[0;31m \u001b[0mfin\u001b[0m \u001b[0;34m=\u001b[0m \u001b[0mopen\u001b[0m\u001b[0;34m(\u001b[0m\u001b[0;34m'bad_file'\u001b[0m\u001b[0;34m)\u001b[0m\u001b[0;34m\u001b[0m\u001b[0;34m\u001b[0m\u001b[0m\n\u001b[0m",
      "\u001b[0;31mFileNotFoundError\u001b[0m: [Errno 2] No such file or directory: 'bad_file'"
     ]
    }
   ],
   "source": [
    "fin = open('bad_file')"
   ]
  },
  {
   "cell_type": "markdown",
   "id": "6db710b0",
   "metadata": {},
   "source": [
    "如果没有权限访问一个文件，会得到一个 `PermissionError`:"
   ]
  },
  {
   "cell_type": "code",
   "execution_count": 17,
   "id": "f8d80974",
   "metadata": {},
   "outputs": [
    {
     "ename": "PermissionError",
     "evalue": "[Errno 13] Permission denied: '/etc/passwd'",
     "output_type": "error",
     "traceback": [
      "\u001b[0;31m---------------------------------------------------------------------------\u001b[0m",
      "\u001b[0;31mPermissionError\u001b[0m                           Traceback (most recent call last)",
      "\u001b[0;32m/tmp/ipykernel_2840/1662165038.py\u001b[0m in \u001b[0;36m<module>\u001b[0;34m\u001b[0m\n\u001b[0;32m----> 1\u001b[0;31m \u001b[0mfout\u001b[0m \u001b[0;34m=\u001b[0m \u001b[0mopen\u001b[0m\u001b[0;34m(\u001b[0m\u001b[0;34m'/etc/passwd'\u001b[0m\u001b[0;34m,\u001b[0m\u001b[0;34m'w'\u001b[0m\u001b[0;34m)\u001b[0m\u001b[0;34m\u001b[0m\u001b[0;34m\u001b[0m\u001b[0m\n\u001b[0m",
      "\u001b[0;31mPermissionError\u001b[0m: [Errno 13] Permission denied: '/etc/passwd'"
     ]
    }
   ],
   "source": [
    "fout = open('/etc/passwd','w')"
   ]
  },
  {
   "cell_type": "markdown",
   "id": "2e26ccd2",
   "metadata": {},
   "source": [
    "如果尝试打开一个目录用于文件读取，会得到一个 `IsADirectoryError`:"
   ]
  },
  {
   "cell_type": "code",
   "execution_count": 18,
   "id": "ea4522a3",
   "metadata": {},
   "outputs": [
    {
     "ename": "IsADirectoryError",
     "evalue": "[Errno 21] Is a directory: '/home'",
     "output_type": "error",
     "traceback": [
      "\u001b[0;31m---------------------------------------------------------------------------\u001b[0m",
      "\u001b[0;31mIsADirectoryError\u001b[0m                         Traceback (most recent call last)",
      "\u001b[0;32m/tmp/ipykernel_2840/764149553.py\u001b[0m in \u001b[0;36m<module>\u001b[0;34m\u001b[0m\n\u001b[0;32m----> 1\u001b[0;31m \u001b[0mfin\u001b[0m \u001b[0;34m=\u001b[0m \u001b[0mopen\u001b[0m\u001b[0;34m(\u001b[0m\u001b[0;34m'/home'\u001b[0m\u001b[0;34m)\u001b[0m\u001b[0;34m\u001b[0m\u001b[0;34m\u001b[0m\u001b[0m\n\u001b[0m",
      "\u001b[0;31mIsADirectoryError\u001b[0m: [Errno 21] Is a directory: '/home'"
     ]
    }
   ],
   "source": [
    "fin = open('/home')"
   ]
  },
  {
   "cell_type": "markdown",
   "id": "72e74388",
   "metadata": {},
   "source": [
    "要避免这些错误，可以使用类似 `os.path.exists` 和 `os.path.isfile` 的函数，但要检查所有的可能需要花费大量时间和代码(\"Errno21\" 这个名字，说明至少有 21 种可能出错的地方)。"
   ]
  },
  {
   "cell_type": "markdown",
   "id": "20342deb",
   "metadata": {},
   "source": [
    "我们可以使用 `try` 语句，来处理可能出现的错误，其语法和 `if...else` 语句类似:"
   ]
  },
  {
   "cell_type": "code",
   "execution_count": 19,
   "id": "5493132b",
   "metadata": {},
   "outputs": [
    {
     "name": "stdout",
     "output_type": "stream",
     "text": [
      "Something went wrong\n"
     ]
    }
   ],
   "source": [
    "try:\n",
    "    fin = open('bad_file')\n",
    "except:\n",
    "    print('Something went wrong')"
   ]
  },
  {
   "cell_type": "markdown",
   "id": "21603c6a",
   "metadata": {},
   "source": [
    "Python 会先从 `try` 子句开始，如果一切顺利，则跳过 `except` 语句并继续执行。如果发生了异常，则跳出 `try` 子句，并运行 `except` 子句。"
   ]
  },
  {
   "cell_type": "markdown",
   "id": "8d46d103",
   "metadata": {},
   "source": [
    "使用 `try` 语句处理异常的过程称为 **捕获** 一个异常。"
   ]
  },
  {
   "cell_type": "markdown",
   "id": "c6da6c7e",
   "metadata": {},
   "source": [
    "## 数据库"
   ]
  },
  {
   "cell_type": "markdown",
   "id": "0e918295",
   "metadata": {},
   "source": [
    "**数据库** 是一个有组织的用于存储数据的文件。许多数据库都像字典一样组织数据，因为它们也将键映射到值上。数据库和字典之间最大的区别是数据库是保存在磁盘上(或者其他永久存储上)，所以当程序结束它也能持续存在。"
   ]
  },
  {
   "cell_type": "markdown",
   "id": "591e2827",
   "metadata": {},
   "source": [
    "模块 `dbm` 提供了接口用于创建和更新数据库文件。作为示例，我们创建一个数据库保存图片文件的标题。"
   ]
  },
  {
   "cell_type": "markdown",
   "id": "913e5fe0",
   "metadata": {},
   "source": [
    "打开一个数据库和打开其他类型的文件差不多:"
   ]
  },
  {
   "cell_type": "code",
   "execution_count": 4,
   "id": "e67147f0",
   "metadata": {},
   "outputs": [],
   "source": [
    "import dbm\n",
    "db = dbm.open('captions','c')"
   ]
  },
  {
   "cell_type": "markdown",
   "id": "ed0ab80d",
   "metadata": {},
   "source": [
    "模式 `'c'` 表示如果数据库不存在，则创建该数据库。调用的结果是一个数据库对象，对大多数操作来说，都可以当做字典来用。"
   ]
  },
  {
   "cell_type": "markdown",
   "id": "3b9f933c",
   "metadata": {},
   "source": [
    "当创建一个新项时，`dbm` 会更新数据库文件。"
   ]
  },
  {
   "cell_type": "code",
   "execution_count": 5,
   "id": "ce1388ff",
   "metadata": {},
   "outputs": [],
   "source": [
    "db['cleese.png'] = 'Photo of John Cleese'"
   ]
  },
  {
   "cell_type": "markdown",
   "id": "244bdf94",
   "metadata": {},
   "source": [
    "当访问数据库的一项时，`dbm` 会读取文件:"
   ]
  },
  {
   "cell_type": "code",
   "execution_count": 30,
   "id": "29317ee0",
   "metadata": {},
   "outputs": [
    {
     "data": {
      "text/plain": [
       "b'Photo of John Cleese'"
      ]
     },
     "execution_count": 30,
     "metadata": {},
     "output_type": "execute_result"
    }
   ],
   "source": [
    "db['cleese.png']"
   ]
  },
  {
   "cell_type": "markdown",
   "id": "be8d7145",
   "metadata": {},
   "source": [
    "这里的结果是一个**字节组对象(bytes object)**，因此以 `b` 开头。字节组对象和字符串很类似。当更深入研究 Python 时，它们的区别可能会很重要，但目前可以忽略。"
   ]
  },
  {
   "cell_type": "markdown",
   "id": "3aeb68f6",
   "metadata": {},
   "source": [
    "如果对一个已经存在的键赋值，`dbm` 会替换旧值:"
   ]
  },
  {
   "cell_type": "code",
   "execution_count": 31,
   "id": "68b1a688",
   "metadata": {},
   "outputs": [
    {
     "data": {
      "text/plain": [
       "b'Photo of John Cleese doing a silly walk'"
      ]
     },
     "execution_count": 31,
     "metadata": {},
     "output_type": "execute_result"
    }
   ],
   "source": [
    "db['cleese.png'] = 'Photo of John Cleese doing a silly walk'\n",
    "db['cleese.png']"
   ]
  },
  {
   "cell_type": "markdown",
   "id": "e693c0c8",
   "metadata": {},
   "source": [
    "一些字典方法，如 `items`，对数据库对象是不可以使用的。不过数据库对象也存在`keys`方法，我们可以使用 `for` 循环来迭代遍历:"
   ]
  },
  {
   "cell_type": "code",
   "execution_count": 41,
   "id": "781ba298",
   "metadata": {},
   "outputs": [
    {
     "name": "stdout",
     "output_type": "stream",
     "text": [
      "b'cleese.png' b'Photo of John Cleese doing a silly walk'\n"
     ]
    }
   ],
   "source": [
    "for key in db.keys():\n",
    "    print(key,db[key])\n",
    "# 报错！gdbm.gbdm不是迭代类型"
   ]
  },
  {
   "cell_type": "markdown",
   "id": "68adb665",
   "metadata": {},
   "source": [
    "和其他文件一样，当操作结束时，需要关闭数据库。"
   ]
  },
  {
   "cell_type": "markdown",
   "id": "503a07b2",
   "metadata": {},
   "source": [
    "## 封存"
   ]
  },
  {
   "cell_type": "markdown",
   "id": "e5626304",
   "metadata": {},
   "source": [
    "`dbm` 的限制之一是键和值都必须是字符串或字节。如果尝试使用其他类型，则会出现错误。"
   ]
  },
  {
   "cell_type": "markdown",
   "id": "63817861",
   "metadata": {},
   "source": [
    "`pickle` 模块可以帮忙。它可以将几乎所有类型的对象转换为适合保存到数据库的字符串形式，并可以将字符串转换回来成为对象。"
   ]
  },
  {
   "cell_type": "markdown",
   "id": "2153b600",
   "metadata": {},
   "source": [
    "`pickle.dumps` 接收一个对象作为参数，并返回它的字符串表达形式(`dumps` 是\"dump string\"的简写，意即转储字符串):"
   ]
  },
  {
   "cell_type": "code",
   "execution_count": 42,
   "id": "3637f41c",
   "metadata": {},
   "outputs": [
    {
     "data": {
      "text/plain": [
       "b'\\x80\\x04\\x95\\x0b\\x00\\x00\\x00\\x00\\x00\\x00\\x00]\\x94(K\\x01K\\x02K\\x03e.'"
      ]
     },
     "execution_count": 42,
     "metadata": {},
     "output_type": "execute_result"
    }
   ],
   "source": [
    "import pickle\n",
    "t = [1,2,3]\n",
    "pickle.dumps(t)"
   ]
  },
  {
   "cell_type": "markdown",
   "id": "21c1706b",
   "metadata": {},
   "source": [
    "这个格式不适合人眼阅读; 它是为了方便 `pickle` 模块的转换而设计的。`pickle.loads`(load string,即加载字符串)重新构造对象:"
   ]
  },
  {
   "cell_type": "code",
   "execution_count": 44,
   "id": "2f3db6cd",
   "metadata": {},
   "outputs": [
    {
     "data": {
      "text/plain": [
       "[1, 2, 3]"
      ]
     },
     "execution_count": 44,
     "metadata": {},
     "output_type": "execute_result"
    }
   ],
   "source": [
    "t1 = [1,2,3]\n",
    "s = pickle.dumps(t1)\n",
    "t2 = pickle.loads(s)\n",
    "t2"
   ]
  },
  {
   "cell_type": "markdown",
   "id": "3b702468",
   "metadata": {},
   "source": [
    "虽然新的对象和旧有对象的值相同，但(通常来说)它们不是同一个对象:"
   ]
  },
  {
   "cell_type": "code",
   "execution_count": 45,
   "id": "ca9a7beb",
   "metadata": {},
   "outputs": [
    {
     "data": {
      "text/plain": [
       "True"
      ]
     },
     "execution_count": 45,
     "metadata": {},
     "output_type": "execute_result"
    }
   ],
   "source": [
    "t1 == t2"
   ]
  },
  {
   "cell_type": "code",
   "execution_count": 46,
   "id": "86042792",
   "metadata": {},
   "outputs": [
    {
     "data": {
      "text/plain": [
       "False"
      ]
     },
     "execution_count": 46,
     "metadata": {},
     "output_type": "execute_result"
    }
   ],
   "source": [
    "t1 is t2"
   ]
  },
  {
   "cell_type": "markdown",
   "id": "3dcdb0b8",
   "metadata": {},
   "source": [
    "也就是说，封存再解封，和复制对象效果相同。"
   ]
  },
  {
   "cell_type": "markdown",
   "id": "a35aee26",
   "metadata": {},
   "source": [
    "可以使用 `pickle` 向数据库存储非字符串的值。事实上，这个组合十分常用，因此 Python 已经将它们封装起来成为一个模块，叫作 `shelve`。"
   ]
  },
  {
   "cell_type": "markdown",
   "id": "9a2b9f01",
   "metadata": {},
   "source": [
    "## 管道"
   ]
  },
  {
   "cell_type": "markdown",
   "id": "3e418838",
   "metadata": {},
   "source": [
    "大部分操作系统都提供了命令行接口，也称为**字符界面(shell)**。字符界面通常会提供命令来浏览文件系统和启动应用程序。例如，在 Unix 中，可以使用 `cd` 来更换目录，使用 `ls` 来展示目录中的内容，以及打入 `firefox` 来启动浏览器。"
   ]
  },
  {
   "cell_type": "markdown",
   "id": "ff90b904",
   "metadata": {},
   "source": [
    "任何在字符界面中能启动的程序都可以在 Python 中使用 **管道对象(pipe object)** 来启动。管道对象代表一个正在运行的程序。"
   ]
  },
  {
   "cell_type": "markdown",
   "id": "fdd3f401",
   "metadata": {},
   "source": [
    "例如，Unix 命令 `ls -l` 以长格式展示当前目录的内容。可以使用 `os.popen` 来启动 `ls`:"
   ]
  },
  {
   "cell_type": "code",
   "execution_count": 7,
   "id": "2f5b22e2",
   "metadata": {},
   "outputs": [],
   "source": [
    "import os\n",
    "cmd = 'ls -l'\n",
    "fp = os.popen(cmd)"
   ]
  },
  {
   "cell_type": "markdown",
   "id": "dbcfb8e5",
   "metadata": {},
   "source": [
    "参数是一个字符串，它包含一个 shell 命令。返回值是一个和打开的文件差不多的对象。可以使用 `readline` 来逐行读取 `ls` 进程的输出，或者使用 `read` 一次读取所有输出:"
   ]
  },
  {
   "cell_type": "code",
   "execution_count": 8,
   "id": "8920ffbf",
   "metadata": {},
   "outputs": [
    {
     "name": "stdout",
     "output_type": "stream",
     "text": [
      "total 2312\n",
      "-rw-rw-r-- 1 why why    8558 9月  22 15:06 0.0-Python程序设计简介.ipynb\n",
      "-rw-rw-r-- 1 why why    6768 9月  23 15:46 0.1-Python编程环境搭建.ipynb\n",
      "-rw-rw-r-- 1 why why    5990 9月  22 15:06 0.2-IPython Shell 基础.ipynb\n",
      "-rw-rw-r-- 1 why why   10174 9月  22 15:06 0.3-Jupyter Notebook 基础.ipynb\n",
      "-rw-rw-r-- 1 why why   16384 12月  8 15:14 captions\n",
      "drwxrwxr-x 2 why why    4096 10月 27 09:45 chapter-4-code\n",
      "-rw-rw-r-- 1 why why  664120 9月  16 15:35 computer.pdf\n",
      "-rw-rw-r-- 1 why why   76684 9月  15 15:33 Data_Science_VD.png\n",
      "-rw-rw-r-- 1 why why    9904 9月  15 15:33 dengpao.svg\n",
      "-rw-rw-r-- 1 why why   13074 9月  15 15:33 DIKW_0.png\n",
      "-rw-rw-r-- 1 why why   67013 9月  15 15:33 DIKW_1.png\n",
      "drwxrwxr-x 2 why why    4096 12月  8 15:05 figures\n",
      "-rw-rw-r-- 1 why why     230 10月 14 15:20 mypolygon.py\n",
      "-rw-rw-r-- 1 why why       0 12月  8 15:05 output.txt\n",
      "-rw-rw-r-- 1 why why   26965 9月  15 15:33 shell.png\n",
      "-rw-rw-r-- 1 why why    2910 12月  2 14:51 structshape.py\n",
      "-rw-rw-r-- 1 why why    2910 12月  8 15:05 structshap.py\n",
      "-rw-rw-r-- 1 why why     539 9月  15 15:33 Untitled.ipynb\n",
      "-rw-rw-r-- 1 why why    9625 9月  15 15:33 Von_Neumann_Architecture.png\n",
      "-rw-rw-r-- 1 why why     133 12月  8 15:05 wc.py\n",
      "-rw-rw-r-- 1 why why 1016511 11月 11 15:17 words.txt\n",
      "-rw-rw-r-- 1 why why   39614 12月  8 15:05 十一章-字典.ipynb\n",
      "-rw-rw-r-- 1 why why      72 12月  1 14:39 未命名.ipynb\n",
      "-rw-rw-r-- 1 why why    8450 9月  22 15:45 第一章-程序之道.ipynb\n",
      "-rw-rw-r-- 1 why why   13608 11月 17 15:01 第七章-迭代.ipynb\n",
      "-rw-rw-r-- 1 why why   17008 10月 20 14:40 第三章 函数.ipynb\n",
      "-rw-rw-r-- 1 why why   12574 11月 18 15:03 第九章-案例分析文字游戏.ipynb\n",
      "-rw-rw-r-- 1 why why   15937 12月  8 15:05 第二章-变量、表达式和语句.ipynb\n",
      "-rw-rw-r-- 1 why why   18822 11月 10 15:21 第五章-条件和递归.ipynb\n",
      "-rw-rw-r-- 1 why why   33103 11月 17 15:05 第八章-字符串.ipynb\n",
      "-rw-rw-r-- 1 why why   24972 11月 24 15:12 第六章-有返回值的函数.ipynb\n",
      "-rw-rw-r-- 1 why why   33493 12月  2 14:55 第十二章-元组.ipynb\n",
      "-rw-rw-r-- 1 why why   25527 12月  8 15:08 第十五章-类和对象.ipynb\n",
      "-rw-rw-r-- 1 why why   39563 12月  8 15:16 第十四章-文件.ipynb\n",
      "-rw-rw-r-- 1 why why   40178 12月  1 14:39 第十章-列表.ipynb\n",
      "-rw-rw-r-- 1 why why   13873 11月 10 15:01 第四章-案例研究：接口设计.ipynb\n",
      "\n"
     ]
    }
   ],
   "source": [
    "res = fp.read()\n",
    "print(res)"
   ]
  },
  {
   "cell_type": "markdown",
   "id": "64f1afc8",
   "metadata": {},
   "source": [
    "当完成后，可以像文件一样关闭这个管道:"
   ]
  },
  {
   "cell_type": "code",
   "execution_count": 9,
   "id": "4df9c44d",
   "metadata": {},
   "outputs": [
    {
     "name": "stdout",
     "output_type": "stream",
     "text": [
      "None\n"
     ]
    }
   ],
   "source": [
    "stat = fp.close()\n",
    "print(stat)"
   ]
  },
  {
   "cell_type": "markdown",
   "id": "347ca971",
   "metadata": {},
   "source": [
    "返回值是 `ls` 进程的最终状态; `None` 代表它正常结束了。"
   ]
  },
  {
   "cell_type": "markdown",
   "id": "70367bf8",
   "metadata": {},
   "source": [
    "例如，大部分 Unix 系统都提供了一个叫做 `md5sum` 的命令，它读取文件的内容并计算出一个\"校验和\"(checksum)。这个命令提供了一个高效的方法，用来比较两个文件是否包含相同的内容。不同的内容生成相同的校验和的概率极低。"
   ]
  },
  {
   "cell_type": "markdown",
   "id": "465df664",
   "metadata": {},
   "source": [
    "可以在 Python 中使用管道来运行 `md5sum`，并获得结果:"
   ]
  },
  {
   "cell_type": "code",
   "execution_count": 61,
   "id": "f49dafee",
   "metadata": {},
   "outputs": [
    {
     "name": "stdout",
     "output_type": "stream",
     "text": [
      "46bb898fad6e5f8f13527a609677ac39  words.txt\n",
      "\n"
     ]
    }
   ],
   "source": [
    "filename = 'words.txt'\n",
    "cmd = 'md5sum ' + filename\n",
    "fp = os.popen(cmd)\n",
    "res = fp.read()\n",
    "stat = fp.close()\n",
    "print(res)"
   ]
  },
  {
   "cell_type": "code",
   "execution_count": 62,
   "id": "69260eb3",
   "metadata": {},
   "outputs": [
    {
     "name": "stdout",
     "output_type": "stream",
     "text": [
      "None\n"
     ]
    }
   ],
   "source": [
    "print(stat)"
   ]
  },
  {
   "cell_type": "markdown",
   "id": "be7e3bb9",
   "metadata": {},
   "source": [
    "## 编写模块"
   ]
  },
  {
   "cell_type": "markdown",
   "id": "6680e5ef",
   "metadata": {},
   "source": [
    "任何包含 Python 代码的文件都可以作为模块导入。例如，如果你有一个文件 `wc.py`，其代码如下:"
   ]
  },
  {
   "cell_type": "markdown",
   "id": "34573921",
   "metadata": {},
   "source": [
    "```python\n",
    "def linecount(filename):\n",
    "    count = 0\n",
    "    for line in open(filename):\n",
    "        count +=1\n",
    "    return count\n",
    "\n",
    "print(linecount('wc.py'))\n",
    "```"
   ]
  },
  {
   "cell_type": "markdown",
   "id": "e58f3a34",
   "metadata": {},
   "source": [
    "如果运行该程序，它会读取自身的内容，并打印处文件的行数，即 7。我们也可以导入它:"
   ]
  },
  {
   "cell_type": "code",
   "execution_count": 65,
   "id": "f774c292",
   "metadata": {},
   "outputs": [
    {
     "name": "stdout",
     "output_type": "stream",
     "text": [
      "7\n"
     ]
    }
   ],
   "source": [
    "import wc"
   ]
  },
  {
   "cell_type": "markdown",
   "id": "6c6928c4",
   "metadata": {},
   "source": [
    "在这里，`wc` 是一个模块对象:"
   ]
  },
  {
   "cell_type": "code",
   "execution_count": 66,
   "id": "60ae4489",
   "metadata": {},
   "outputs": [
    {
     "data": {
      "text/plain": [
       "<module 'wc' from '/home/wangdong/wangd/工作/助教/计算机程序设计/thinkpython/courseware/wc.py'>"
      ]
     },
     "execution_count": 66,
     "metadata": {},
     "output_type": "execute_result"
    }
   ],
   "source": [
    "wc"
   ]
  },
  {
   "cell_type": "markdown",
   "id": "e02c8547",
   "metadata": {},
   "source": [
    "该模块对象提供了 `linecount`:"
   ]
  },
  {
   "cell_type": "code",
   "execution_count": 67,
   "id": "1370a307",
   "metadata": {},
   "outputs": [
    {
     "data": {
      "text/plain": [
       "7"
      ]
     },
     "execution_count": 67,
     "metadata": {},
     "output_type": "execute_result"
    }
   ],
   "source": [
    "wc.linecount('wc.py')"
   ]
  },
  {
   "cell_type": "markdown",
   "id": "4ed09a0f",
   "metadata": {},
   "source": [
    "上述就是在 Python 中编写模块的方法。"
   ]
  },
  {
   "cell_type": "markdown",
   "id": "c9c39b83",
   "metadata": {},
   "source": [
    "这个例子唯一的问题是当你导入模块时，它会运行底部的测试代码。正常情况下，当你导入一个模块时，它会定义新的函数，但不会运行。"
   ]
  },
  {
   "cell_type": "markdown",
   "id": "22744b91",
   "metadata": {},
   "source": [
    "作为模块导入的程序，通常使用如下模式:"
   ]
  },
  {
   "cell_type": "code",
   "execution_count": 68,
   "id": "29779682",
   "metadata": {},
   "outputs": [
    {
     "name": "stdout",
     "output_type": "stream",
     "text": [
      "7\n"
     ]
    }
   ],
   "source": [
    "if __name__ == '__main__':\n",
    "    print(linecount('wc.py'))"
   ]
  },
  {
   "cell_type": "markdown",
   "id": "bd151b51",
   "metadata": {},
   "source": [
    "`__name__` 是一个内置变量，当程序启动时就会被设置。如果程序作为脚本执行，`__name__` 的值是 `'__main__'`; 此时，测试代码会被运行。否则，如果程序作为模块被导入，则测试代码会被跳过。"
   ]
  },
  {
   "cell_type": "markdown",
   "id": "8c139428",
   "metadata": {},
   "source": [
    "## 调试"
   ]
  },
  {
   "cell_type": "markdown",
   "id": "5e3d95bc",
   "metadata": {},
   "source": [
    "当读取和写入文件时，可能会遇到和空白字符相关的问题。这些问题可能会很难调试，因为空格,制表符和换行符通常都是不可见的:"
   ]
  },
  {
   "cell_type": "code",
   "execution_count": 71,
   "id": "20ed292d",
   "metadata": {},
   "outputs": [
    {
     "name": "stdout",
     "output_type": "stream",
     "text": [
      "1 2\t 3\n",
      " 4\n"
     ]
    }
   ],
   "source": [
    "s = '1 2\\t 3\\n 4'\n",
    "print(s)"
   ]
  },
  {
   "cell_type": "markdown",
   "id": "b474ed90",
   "metadata": {},
   "source": [
    "内置函数 `repr` 可以帮忙。它接收任何对象作为参数，并返回对象的字符串表达形式。对于字符串来说，它使用反斜杠序列来展示空白字符:"
   ]
  },
  {
   "cell_type": "code",
   "execution_count": 72,
   "id": "360caf10",
   "metadata": {},
   "outputs": [
    {
     "name": "stdout",
     "output_type": "stream",
     "text": [
      "'1 2\\t 3\\n 4'\n"
     ]
    }
   ],
   "source": [
    "print(repr(s))"
   ]
  },
  {
   "cell_type": "markdown",
   "id": "b55560cc",
   "metadata": {},
   "source": [
    "这样可以帮助调试。"
   ]
  },
  {
   "cell_type": "markdown",
   "id": "05187443",
   "metadata": {},
   "source": [
    "另一个可能遇到的问题是不同的系统使用不同的字符表示换行。有的系统使用一个换行符，即 `\\n`。另外的系统使用一个回车符，即 `\\r`。也有的系统两者都使用。如果在不同的系统间移动文件，这些不一致之处可能会导致问题。"
   ]
  }
 ],
 "metadata": {
  "kernelspec": {
   "display_name": "Python 3",
   "language": "python",
   "name": "python3"
  },
  "language_info": {
   "codemirror_mode": {
    "name": "ipython",
    "version": 3
   },
   "file_extension": ".py",
   "mimetype": "text/x-python",
   "name": "python",
   "nbconvert_exporter": "python",
   "pygments_lexer": "ipython3",
   "version": "3.8.10"
  }
 },
 "nbformat": 4,
 "nbformat_minor": 5
}
