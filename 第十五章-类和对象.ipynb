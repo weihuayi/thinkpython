{
 "cells": [
  {
   "cell_type": "markdown",
   "id": "17c6fadd",
   "metadata": {},
   "source": [
    "到目前为止，我们已经知道了如何使用函数来组织代码，以及如何使用内置类型来组织数据。接下来我们将学习**面向对象编程**，面向对象编程使用自定义的类型同时组织代码和数据。"
   ]
  },
  {
   "cell_type": "markdown",
   "id": "57fbb5a6",
   "metadata": {},
   "source": [
    "## 用户定义类型"
   ]
  },
  {
   "cell_type": "markdown",
   "id": "3e1b116e",
   "metadata": {},
   "source": [
    "我们已经使用了许多 Python 的内置类型，现在我们要定义一个新类型。作为示例，我们新建一个类型 `Point`，用来表示二维空间中一个点。"
   ]
  },
  {
   "cell_type": "markdown",
   "id": "a0d4aaf8",
   "metadata": {},
   "source": [
    "在数学的表示法中，点通常使用括号分隔两个坐标表示。例如，`(0,0)` 表示原点，而 `(x,y)` 表示一个在原点右侧 `x` 单位，上方 `y` 单位的点。"
   ]
  },
  {
   "cell_type": "markdown",
   "id": "843e8574",
   "metadata": {},
   "source": [
    "在 Python 中，有好几种方法可以表示点:"
   ]
  },
  {
   "cell_type": "markdown",
   "id": "3c0da0f9",
   "metadata": {},
   "source": [
    "* 可以将两个坐标分别保存到变量 `x` 和 `y` 中;\n",
    "* 可以将坐标作为列表或元组的元素存储;\n",
    "* 可以新建一个类型用对象表达点。"
   ]
  },
  {
   "cell_type": "markdown",
   "id": "5309045c",
   "metadata": {},
   "source": [
    "新建一个类型比其他方法更复杂一些，但它也有着独有的优点。"
   ]
  },
  {
   "cell_type": "markdown",
   "id": "5f5f989a",
   "metadata": {},
   "source": [
    "用户定义的类型也称为**类(class)**。类的定义如下所示:"
   ]
  },
  {
   "cell_type": "code",
   "execution_count": 1,
   "id": "ece0734c",
   "metadata": {},
   "outputs": [],
   "source": [
    "class Point:\n",
    "    '''\n",
    "    表示二维空间中的点\n",
    "    '''\n",
    "    \n",
    "    def __init__(self,x=0.0,y=0.0):\n",
    "        self.x = x\n",
    "        self.y = y\n",
    "        \n",
    "    def show(self):\n",
    "        s = 'Point(%f,%f)'%(self.x,self.y)\n",
    "        return s"
   ]
  },
  {
   "cell_type": "markdown",
   "id": "b75be420",
   "metadata": {},
   "source": [
    "定义头表示新的类名为 `Point`。定义体是一个文档字符串，解释这个类的用途。我们还可以在类定义中定义变量和函数。"
   ]
  },
  {
   "cell_type": "markdown",
   "id": "fdbe443d",
   "metadata": {},
   "source": [
    "定义一个叫做 `Point` 的类会创建一个**对象类(object class)**。"
   ]
  },
  {
   "cell_type": "code",
   "execution_count": 3,
   "id": "9af25fc6",
   "metadata": {},
   "outputs": [
    {
     "data": {
      "text/plain": [
       "__main__.Point"
      ]
     },
     "execution_count": 3,
     "metadata": {},
     "output_type": "execute_result"
    }
   ],
   "source": [
    "Point"
   ]
  },
  {
   "cell_type": "markdown",
   "id": "50a97ab4",
   "metadata": {},
   "source": [
    "因为 `Point` 是在程序顶层定义的，它的\"全名\"是 `__main__.Point`。"
   ]
  },
  {
   "cell_type": "markdown",
   "id": "412c0b3d",
   "metadata": {},
   "source": [
    "类对象像一个创建对象的工厂。要新建一个 `Point` 对象，可以把 `Point` 当作函数来调用:"
   ]
  },
  {
   "cell_type": "code",
   "execution_count": 4,
   "id": "1e946710",
   "metadata": {},
   "outputs": [
    {
     "data": {
      "text/plain": [
       "<__main__.Point at 0x7fa820710e50>"
      ]
     },
     "execution_count": 4,
     "metadata": {},
     "output_type": "execute_result"
    }
   ],
   "source": [
    "blank = Point()\n",
    "blank"
   ]
  },
  {
   "cell_type": "markdown",
   "id": "d12169c3",
   "metadata": {},
   "source": [
    "返回值是到一个 `Point` 对象的引用，我们将它赋值给变量 `blank`。"
   ]
  },
  {
   "cell_type": "markdown",
   "id": "ed948ce0",
   "metadata": {},
   "source": [
    "新建一个对象的过程称为**实例化(instantiation)**，而对象是这个类的一个**实例**。"
   ]
  },
  {
   "cell_type": "markdown",
   "id": "062bc847",
   "metadata": {},
   "source": [
    "在打印一个实例时，Python 会告诉你它所属的类型，以及存储在内存中的位置(`0x` 表示后面的数字是十六进制的)。"
   ]
  },
  {
   "cell_type": "markdown",
   "id": "a48bebb7",
   "metadata": {},
   "source": [
    "每个对象都是某个类的实例，所以 \"对象\" 和 \"实例\" 这两个词在很多情况下都可以互换。但是，本章中我们使用 \"实例\" 来表示一个自定义类型的对象。"
   ]
  },
  {
   "cell_type": "markdown",
   "id": "a49c9efb",
   "metadata": {},
   "source": [
    "## 属性"
   ]
  },
  {
   "cell_type": "markdown",
   "id": "667c5310",
   "metadata": {},
   "source": [
    "可以使用句点表示法来给实例赋值:"
   ]
  },
  {
   "cell_type": "code",
   "execution_count": 10,
   "id": "427f7c35",
   "metadata": {},
   "outputs": [],
   "source": [
    "blank.x = 3.0\n",
    "blank.y = 4.0"
   ]
  },
  {
   "cell_type": "markdown",
   "id": "b1a53ed6",
   "metadata": {},
   "source": [
    "这个语法和从模块中选择变量的语法类似，如 `math.pi` 或者 `string.whitespace`，但在这种情况下，我们是将值赋给一个对象的有命名的元素。这些元素称为**属性(attribute)**。"
   ]
  },
  {
   "cell_type": "markdown",
   "id": "b96f8c2f",
   "metadata": {},
   "source": [
    "下面的图表展示了这些赋值的结果。展示一个对象和其属性的状态图称为**对象图(object diagram)**。"
   ]
  },
  {
   "cell_type": "markdown",
   "id": "f49208cd",
   "metadata": {},
   "source": [
    "<img src='figures/15-1.jpg'>"
   ]
  },
  {
   "cell_type": "markdown",
   "id": "188c0b48",
   "metadata": {},
   "source": [
    "变量 `blank` 引用向一个 `Point` 对象，它包含了两个属性。每个属性引用一个浮点数。"
   ]
  },
  {
   "cell_type": "markdown",
   "id": "c447cb37",
   "metadata": {},
   "source": [
    "可以使用相同的语法来读取一个属性的值:"
   ]
  },
  {
   "cell_type": "code",
   "execution_count": 11,
   "id": "87c49542",
   "metadata": {},
   "outputs": [
    {
     "data": {
      "text/plain": [
       "4.0"
      ]
     },
     "execution_count": 11,
     "metadata": {},
     "output_type": "execute_result"
    }
   ],
   "source": [
    "blank.y"
   ]
  },
  {
   "cell_type": "code",
   "execution_count": 12,
   "id": "34f30047",
   "metadata": {},
   "outputs": [
    {
     "name": "stdout",
     "output_type": "stream",
     "text": [
      "3.0\n"
     ]
    }
   ],
   "source": [
    "x = blank.x\n",
    "print(x)"
   ]
  },
  {
   "cell_type": "markdown",
   "id": "be692070",
   "metadata": {},
   "source": [
    "上面的表达式 `blank.x` 表示:\"找到 `blank` 引用的对象，并取得它的 `x` 的值\"。在这个例子中，我们将那个值赋值给一个变量 `x`。变量 `x` 和属性 `x` 并不冲突。"
   ]
  },
  {
   "cell_type": "markdown",
   "id": "436a9db6",
   "metadata": {},
   "source": [
    "可以在任意表达式中使用句点表示法。如:"
   ]
  },
  {
   "cell_type": "code",
   "execution_count": 13,
   "id": "a9693a55",
   "metadata": {},
   "outputs": [
    {
     "data": {
      "text/plain": [
       "'(3,4)'"
      ]
     },
     "execution_count": 13,
     "metadata": {},
     "output_type": "execute_result"
    }
   ],
   "source": [
    "'(%g,%g)'%(blank.x,blank.y)"
   ]
  },
  {
   "cell_type": "code",
   "execution_count": 14,
   "id": "5b8b4069",
   "metadata": {},
   "outputs": [
    {
     "name": "stdout",
     "output_type": "stream",
     "text": [
      "5.0\n"
     ]
    }
   ],
   "source": [
    "from math import sqrt\n",
    "\n",
    "distance = sqrt(blank.x**2+blank.y**2)\n",
    "print(distance)"
   ]
  },
  {
   "cell_type": "markdown",
   "id": "e98d5d4f",
   "metadata": {},
   "source": [
    "可以将一个实例作为实参按通常的方式传递。如:"
   ]
  },
  {
   "cell_type": "code",
   "execution_count": 15,
   "id": "14b8a210",
   "metadata": {},
   "outputs": [],
   "source": [
    "def print_point(p):\n",
    "    print('(%g,%g)'%(p.x,p.y))"
   ]
  },
  {
   "cell_type": "markdown",
   "id": "a362a1f5",
   "metadata": {},
   "source": [
    "`print_point` 接收一个点作为形参，并按照数学表达式展示它。可以传入 `blank` 作为实参来调用它:"
   ]
  },
  {
   "cell_type": "code",
   "execution_count": 16,
   "id": "cb9ee56f",
   "metadata": {},
   "outputs": [
    {
     "name": "stdout",
     "output_type": "stream",
     "text": [
      "(3,4)\n"
     ]
    }
   ],
   "source": [
    "print_point(blank)"
   ]
  },
  {
   "cell_type": "markdown",
   "id": "d769f400",
   "metadata": {},
   "source": [
    "在函数中，`p` 是 `blank` 的一个别名，所以如果函数修改了 `p`，则 `blank` 也会改变。"
   ]
  },
  {
   "cell_type": "markdown",
   "id": "5fd7cbc3",
   "metadata": {},
   "source": [
    "## 矩形"
   ]
  },
  {
   "cell_type": "markdown",
   "id": "76c069fa",
   "metadata": {},
   "source": [
    "有时候对象应该有哪些属性非常明显，但有时也需要我们自己决定。例如，假设要设计一个表达矩形的类，要用什么属性来指定矩形的位置和尺寸？为了简单起见，可以假定矩阵不是垂直的就是水平的。"
   ]
  },
  {
   "cell_type": "markdown",
   "id": "703fcb5e",
   "metadata": {},
   "source": [
    "最少有以下两种可能:"
   ]
  },
  {
   "cell_type": "markdown",
   "id": "b7f660ec",
   "metadata": {},
   "source": [
    "* 可以指定一个矩阵的一个角落(或者中心点),宽度以及高度;\n",
    "* 可以指定两个相对的角落。"
   ]
  },
  {
   "cell_type": "markdown",
   "id": "bf335972",
   "metadata": {},
   "source": [
    "作为示例，我们仅先实现第一个。"
   ]
  },
  {
   "cell_type": "markdown",
   "id": "798ed6e9",
   "metadata": {},
   "source": [
    "类的定义如下:"
   ]
  },
  {
   "cell_type": "code",
   "execution_count": 1,
   "id": "90323c81",
   "metadata": {},
   "outputs": [],
   "source": [
    "class Rectangle:\n",
    "    '''\n",
    "    表示一个矩形\n",
    "    ----------\n",
    "    属性:\n",
    "    width:数字,表示矩阵的宽\n",
    "    height:数字，表示矩阵的高\n",
    "    corner:Point对象，指定左下角的顶点\n",
    "    '''\n",
    "    def __init__(self, w=1, h=1, c=Point()):\n",
    "        self.width = w\n",
    "        self.height = h\n",
    "        self.corner = c\n",
    "        \n",
    "    def show(self):\n",
    "        s = 'Rectangle(%s, %f, %f)'%(\n",
    "            self.corner.show(), self.width, self.height)\n",
    "        return s\n",
    "    \n",
    "    def center(self):\n",
    "        p = Point()\n",
    "        p.x = self.corner.x + self.width/2\n",
    "        p.y = self.corner.y + self.height/2\n",
    "        return p"
   ]
  },
  {
   "cell_type": "markdown",
   "id": "97062b51",
   "metadata": {},
   "source": [
    "要表达一个矩形，需要实例化一个 `Rectangle` 对象，并对其属性赋值:"
   ]
  },
  {
   "cell_type": "code",
   "execution_count": 28,
   "id": "98b051cb",
   "metadata": {},
   "outputs": [],
   "source": [
    "box = Rectangle()\n",
    "box.width = 100.0\n",
    "box.height = 200.0\n",
    "box.corner = Point()\n",
    "box.corner.x = 0.0\n",
    "box.corner.y = 0.0"
   ]
  },
  {
   "cell_type": "markdown",
   "id": "83ba9476",
   "metadata": {},
   "source": [
    "表达式 `box.corner.x` 表示，\"去往 `box` 引用的对象，并选择属性 `corner`;接着去往那个对象，并选择属性 `x`\"。"
   ]
  },
  {
   "cell_type": "markdown",
   "id": "c29bcdbf",
   "metadata": {},
   "source": [
    "下图展示了这个对象的状态。作为另一个对象的属性存在的对象是**内嵌**的。"
   ]
  },
  {
   "cell_type": "markdown",
   "id": "97219bb7",
   "metadata": {},
   "source": [
    "<img src='figures/15-2.jpg'>"
   ]
  },
  {
   "cell_type": "markdown",
   "id": "dcb2f720",
   "metadata": {},
   "source": [
    "## 作为返回值的实例"
   ]
  },
  {
   "cell_type": "markdown",
   "id": "4f01378a",
   "metadata": {},
   "source": [
    "函数可以返回实例。例如，下面的函数 `find_center` 接收 `Rectangle` 对象作为参数，并返回一个 `Point` 对象，包含这个 `Rectangle` 的中心点的坐标:"
   ]
  },
  {
   "cell_type": "code",
   "execution_count": 29,
   "id": "65c4e0ed",
   "metadata": {},
   "outputs": [],
   "source": [
    "def find_center(rect):\n",
    "    p = Point()\n",
    "    p.x = rect.corner.x + rect.width/2\n",
    "    p.y = rect.corner.y + rect.height/2\n",
    "    return p"
   ]
  },
  {
   "cell_type": "markdown",
   "id": "c323b585",
   "metadata": {},
   "source": [
    "下面给出一个示例，传入 `box` 作为实参，并将结果的 `Point` 对象赋给变量 `center`:"
   ]
  },
  {
   "cell_type": "code",
   "execution_count": 30,
   "id": "9f793626",
   "metadata": {},
   "outputs": [
    {
     "name": "stdout",
     "output_type": "stream",
     "text": [
      "(50,100)\n"
     ]
    }
   ],
   "source": [
    "center = find_center(box)\n",
    "print_point(center)"
   ]
  },
  {
   "cell_type": "markdown",
   "id": "8e728d21",
   "metadata": {},
   "source": [
    "## 对象是可变的"
   ]
  },
  {
   "cell_type": "markdown",
   "id": "0acee45e",
   "metadata": {},
   "source": [
    "可以通过给一个对象的某个属性赋值来修改它的状态。例如，要修改一个矩阵的尺寸而保持它的位置不变，可以修改 `width` 和 `height` 的值:"
   ]
  },
  {
   "cell_type": "code",
   "execution_count": 31,
   "id": "5673aa34",
   "metadata": {},
   "outputs": [],
   "source": [
    "box.width = box.width + 50\n",
    "box.height = box.height + 100"
   ]
  },
  {
   "cell_type": "markdown",
   "id": "b489f1f1",
   "metadata": {},
   "source": [
    "也可以编写函数来修改对象。例如，下面的函数 `grow_rectangle` 接收一个 `Rectangle` 对象和两个数，`dwidth` 和 `dheight`，并把这些数加到矩形的宽度和高度上:"
   ]
  },
  {
   "cell_type": "code",
   "execution_count": 32,
   "id": "3069908a",
   "metadata": {},
   "outputs": [],
   "source": [
    "def grow_rectangle(rect,dwidth,dheight):\n",
    "    rect.width +=dwidth\n",
    "    rect.height +=dheight"
   ]
  },
  {
   "cell_type": "markdown",
   "id": "19908cfd",
   "metadata": {},
   "source": [
    "展示以下函数效果:"
   ]
  },
  {
   "cell_type": "code",
   "execution_count": 33,
   "id": "7d8ac74f",
   "metadata": {},
   "outputs": [
    {
     "data": {
      "text/plain": [
       "(150.0, 300.0)"
      ]
     },
     "execution_count": 33,
     "metadata": {},
     "output_type": "execute_result"
    }
   ],
   "source": [
    "box.width,box.height"
   ]
  },
  {
   "cell_type": "code",
   "execution_count": 34,
   "id": "233765f8",
   "metadata": {},
   "outputs": [
    {
     "data": {
      "text/plain": [
       "(200.0, 400.0)"
      ]
     },
     "execution_count": 34,
     "metadata": {},
     "output_type": "execute_result"
    }
   ],
   "source": [
    "grow_rectangle(box,50,100)\n",
    "box.width,box.height"
   ]
  },
  {
   "cell_type": "markdown",
   "id": "b34b287c",
   "metadata": {},
   "source": [
    "在函数中，`rect` 是 `box` 的别名，所以如果当修改了 `rect` 时，`box` 也改变。"
   ]
  },
  {
   "cell_type": "markdown",
   "id": "34c06810",
   "metadata": {},
   "source": [
    "## 复制"
   ]
  },
  {
   "cell_type": "markdown",
   "id": "558949c5",
   "metadata": {},
   "source": [
    "别名的使用有时候会让程序更难阅读，因为一个地方的修改可能会给其他地方带来意想不到的变化。要跟踪掌握所有引用到一个给定对象的变量非常困难。"
   ]
  },
  {
   "cell_type": "markdown",
   "id": "63e1d464",
   "metadata": {},
   "source": [
    "使用别名的常用替代方案是复制对象。`copy` 模块里有一个函数 `copy` 可以复制任何对象:"
   ]
  },
  {
   "cell_type": "code",
   "execution_count": 35,
   "id": "23f67de0",
   "metadata": {},
   "outputs": [],
   "source": [
    "p1 = Point()\n",
    "p1.x = 3.0\n",
    "p1.y = 4.0"
   ]
  },
  {
   "cell_type": "code",
   "execution_count": 38,
   "id": "12faa5bb",
   "metadata": {},
   "outputs": [],
   "source": [
    "import copy\n",
    "p2 = copy.copy(p1)"
   ]
  },
  {
   "cell_type": "markdown",
   "id": "ce99581e",
   "metadata": {},
   "source": [
    "`p1` 和 `p2` 包含相同的数据，但它们不是同一个 `Point` 对象。"
   ]
  },
  {
   "cell_type": "code",
   "execution_count": 39,
   "id": "7c440111",
   "metadata": {},
   "outputs": [
    {
     "name": "stdout",
     "output_type": "stream",
     "text": [
      "(3,4)\n"
     ]
    }
   ],
   "source": [
    "print_point(p1)"
   ]
  },
  {
   "cell_type": "code",
   "execution_count": 40,
   "id": "7fae5401",
   "metadata": {},
   "outputs": [
    {
     "name": "stdout",
     "output_type": "stream",
     "text": [
      "(3,4)\n"
     ]
    }
   ],
   "source": [
    "print_point(p2)"
   ]
  },
  {
   "cell_type": "code",
   "execution_count": 41,
   "id": "dcfaf3d1",
   "metadata": {},
   "outputs": [
    {
     "data": {
      "text/plain": [
       "False"
      ]
     },
     "execution_count": 41,
     "metadata": {},
     "output_type": "execute_result"
    }
   ],
   "source": [
    "p1 is p2"
   ]
  },
  {
   "cell_type": "code",
   "execution_count": 42,
   "id": "13f9842b",
   "metadata": {},
   "outputs": [
    {
     "data": {
      "text/plain": [
       "False"
      ]
     },
     "execution_count": 42,
     "metadata": {},
     "output_type": "execute_result"
    }
   ],
   "source": [
    "p1 == p2"
   ]
  },
  {
   "cell_type": "markdown",
   "id": "c76e43b3",
   "metadata": {},
   "source": [
    "正如我们预料，`is` 操作符告诉我们 `p1` 和 `p2` 不是同一个对象。但是 `==` 得到的也是 `False`。这是因为对于实例来说，`==` 操作符的默认行为和 `is` 操作符相同，它会检查对象同一性，而不是对象相等性。这是因为对于用户自定义类型，Python 不知道怎么算才相等。"
   ]
  },
  {
   "cell_type": "markdown",
   "id": "15b82672",
   "metadata": {},
   "source": [
    "如果使用 `copy.copy` 复制一个 `Rectangle`，会发现它复制了 `Rectangle` 对象但并不复制内嵌的 `Point` 对象:"
   ]
  },
  {
   "cell_type": "code",
   "execution_count": 43,
   "id": "fd3c2f2b",
   "metadata": {},
   "outputs": [
    {
     "data": {
      "text/plain": [
       "False"
      ]
     },
     "execution_count": 43,
     "metadata": {},
     "output_type": "execute_result"
    }
   ],
   "source": [
    "box2 = copy.copy(box)\n",
    "box2 is box "
   ]
  },
  {
   "cell_type": "code",
   "execution_count": 44,
   "id": "e9f177bc",
   "metadata": {},
   "outputs": [
    {
     "data": {
      "text/plain": [
       "True"
      ]
     },
     "execution_count": 44,
     "metadata": {},
     "output_type": "execute_result"
    }
   ],
   "source": [
    "box2.corner is box.corner"
   ]
  },
  {
   "cell_type": "markdown",
   "id": "64323154",
   "metadata": {},
   "source": [
    "下图展示了这个操作的对象图。这个操作称为**浅复制**，因为它复制对象及其包含的任何引用，但不复制内嵌对象。"
   ]
  },
  {
   "cell_type": "markdown",
   "id": "261f40ae",
   "metadata": {},
   "source": [
    "<img src='figures/15-3.jpg'>"
   ]
  },
  {
   "cell_type": "markdown",
   "id": "cd0fd12e",
   "metadata": {},
   "source": [
    "大多数情况下，这不是我们想要的结果。在这个例子里，对一个 `Rectangle` 对象调用 `grow_rectangle` 并不会影响其他对象，但对任何一个 `Rectangle` 对象调用 `move_rectangle` 都会影响全部两个对象。这种行为既混乱不清，又容易导致错误。"
   ]
  },
  {
   "cell_type": "markdown",
   "id": "fcc3020d",
   "metadata": {},
   "source": [
    "不过，`copy` 还提供了一个名为 `deepcopy` 的方法，它不但复制对象，还会复制对象中引用的对象，甚至它们引用的对象，依此类推。因此，相对地，我们称这个操作为**深复制**。"
   ]
  },
  {
   "cell_type": "code",
   "execution_count": 45,
   "id": "fd7c06c4",
   "metadata": {},
   "outputs": [
    {
     "data": {
      "text/plain": [
       "False"
      ]
     },
     "execution_count": 45,
     "metadata": {},
     "output_type": "execute_result"
    }
   ],
   "source": [
    "box3 = copy.deepcopy(box)\n",
    "box3 is box"
   ]
  },
  {
   "cell_type": "code",
   "execution_count": 46,
   "id": "94f4808e",
   "metadata": {},
   "outputs": [
    {
     "data": {
      "text/plain": [
       "False"
      ]
     },
     "execution_count": 46,
     "metadata": {},
     "output_type": "execute_result"
    }
   ],
   "source": [
    "box3.corner is box.corner"
   ]
  },
  {
   "cell_type": "markdown",
   "id": "1d2c5a59",
   "metadata": {},
   "source": [
    "`box3` 和 `box` 是两个完全分开的对象。"
   ]
  },
  {
   "cell_type": "markdown",
   "id": "439b65be",
   "metadata": {},
   "source": [
    "## 调试"
   ]
  },
  {
   "cell_type": "markdown",
   "id": "99228256",
   "metadata": {},
   "source": [
    "开始操作对象时，可能会遇到一些新的异常。如果试图访问一个并不存在的属性，会得到 `AttributeError`:"
   ]
  },
  {
   "cell_type": "code",
   "execution_count": 47,
   "id": "46d26b97",
   "metadata": {},
   "outputs": [
    {
     "ename": "AttributeError",
     "evalue": "'Point' object has no attribute 'z'",
     "output_type": "error",
     "traceback": [
      "\u001b[0;31m---------------------------------------------------------------------------\u001b[0m",
      "\u001b[0;31mAttributeError\u001b[0m                            Traceback (most recent call last)",
      "\u001b[0;32m/tmp/ipykernel_6704/229373536.py\u001b[0m in \u001b[0;36m<module>\u001b[0;34m\u001b[0m\n\u001b[1;32m      2\u001b[0m \u001b[0mp\u001b[0m\u001b[0;34m.\u001b[0m\u001b[0mx\u001b[0m \u001b[0;34m=\u001b[0m \u001b[0;36m3\u001b[0m\u001b[0;34m\u001b[0m\u001b[0;34m\u001b[0m\u001b[0m\n\u001b[1;32m      3\u001b[0m \u001b[0mp\u001b[0m\u001b[0;34m.\u001b[0m\u001b[0my\u001b[0m \u001b[0;34m=\u001b[0m \u001b[0;36m4\u001b[0m\u001b[0;34m\u001b[0m\u001b[0;34m\u001b[0m\u001b[0m\n\u001b[0;32m----> 4\u001b[0;31m \u001b[0mp\u001b[0m\u001b[0;34m.\u001b[0m\u001b[0mz\u001b[0m\u001b[0;34m\u001b[0m\u001b[0;34m\u001b[0m\u001b[0m\n\u001b[0m",
      "\u001b[0;31mAttributeError\u001b[0m: 'Point' object has no attribute 'z'"
     ]
    }
   ],
   "source": [
    "p = Point()\n",
    "p.x = 3\n",
    "p.y = 4\n",
    "p.z"
   ]
  },
  {
   "cell_type": "markdown",
   "id": "69c7562e",
   "metadata": {},
   "source": [
    "如果不清楚一个对象是什么类型，可以用 `type`:"
   ]
  },
  {
   "cell_type": "code",
   "execution_count": 48,
   "id": "ab0cde40",
   "metadata": {},
   "outputs": [
    {
     "data": {
      "text/plain": [
       "__main__.Point"
      ]
     },
     "execution_count": 48,
     "metadata": {},
     "output_type": "execute_result"
    }
   ],
   "source": [
    "type(p)"
   ]
  },
  {
   "cell_type": "markdown",
   "id": "7f95798e",
   "metadata": {},
   "source": [
    "也可以使用 `isinstance` 来检查对象是否是某个类的实例:"
   ]
  },
  {
   "cell_type": "code",
   "execution_count": 49,
   "id": "4916455e",
   "metadata": {},
   "outputs": [
    {
     "data": {
      "text/plain": [
       "True"
      ]
     },
     "execution_count": 49,
     "metadata": {},
     "output_type": "execute_result"
    }
   ],
   "source": [
    "isinstance(p,Point)"
   ]
  },
  {
   "cell_type": "markdown",
   "id": "8677164e",
   "metadata": {},
   "source": [
    "如果不确定一个对象是否拥有某个特定的属性，可以使用内置函数 `hasattr`:"
   ]
  },
  {
   "cell_type": "code",
   "execution_count": 50,
   "id": "fbeb9309",
   "metadata": {},
   "outputs": [
    {
     "data": {
      "text/plain": [
       "True"
      ]
     },
     "execution_count": 50,
     "metadata": {},
     "output_type": "execute_result"
    }
   ],
   "source": [
    "hasattr(p,'x')"
   ]
  },
  {
   "cell_type": "code",
   "execution_count": 51,
   "id": "b2869320",
   "metadata": {},
   "outputs": [
    {
     "data": {
      "text/plain": [
       "False"
      ]
     },
     "execution_count": 51,
     "metadata": {},
     "output_type": "execute_result"
    }
   ],
   "source": [
    "hasattr(p,'z')"
   ]
  },
  {
   "cell_type": "markdown",
   "id": "5b2b6332",
   "metadata": {},
   "source": [
    "第一个形参可以是任何对象，第二个形参是一个包含属性名称的字符串。"
   ]
  },
  {
   "cell_type": "markdown",
   "id": "0c5e2a1d",
   "metadata": {},
   "source": [
    "也可以使用 `try` 语句来尝试对象是否拥有你需要的属性:"
   ]
  },
  {
   "cell_type": "code",
   "execution_count": 52,
   "id": "df54fad4",
   "metadata": {},
   "outputs": [],
   "source": [
    "try:\n",
    "    x = p.x\n",
    "except AttributeError:\n",
    "    x = 0"
   ]
  },
  {
   "cell_type": "markdown",
   "id": "85ce0038",
   "metadata": {},
   "source": [
    "这种方法可以使编写适用于不同类型的函数更加容易。"
   ]
  }
 ],
 "metadata": {
  "kernelspec": {
   "display_name": "Python 3",
   "language": "python",
   "name": "python3"
  },
  "language_info": {
   "codemirror_mode": {
    "name": "ipython",
    "version": 3
   },
   "file_extension": ".py",
   "mimetype": "text/x-python",
   "name": "python",
   "nbconvert_exporter": "python",
   "pygments_lexer": "ipython3",
   "version": "3.8.10"
  }
 },
 "nbformat": 4,
 "nbformat_minor": 5
}
