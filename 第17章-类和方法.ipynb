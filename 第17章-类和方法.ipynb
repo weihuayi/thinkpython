{
 "cells": [
  {
   "cell_type": "markdown",
   "id": "839f7f6e",
   "metadata": {},
   "source": [
    "虽然我们已经使用了 Python 的一些面向对象特性，但前两章的程序还算不上真正的面向对象，因为它们没有体现用户自定义类型之间的关联，以及操作它们的函数。下一步是将那些函数转换为方法，让这种关联更加明显。"
   ]
  },
  {
   "cell_type": "markdown",
   "id": "8694b788",
   "metadata": {},
   "source": [
    "## 面向对象特性"
   ]
  },
  {
   "cell_type": "markdown",
   "id": "3485ed36",
   "metadata": {},
   "source": [
    "Python 是一门 **面向对象编程语言**，它提供了一些面向对象的编程的语言特性，这些特性有如下明确的特征:"
   ]
  },
  {
   "cell_type": "markdown",
   "id": "ab8e6528",
   "metadata": {},
   "source": [
    "* 程序包括类定义和方法定义\n",
    "* 大部分计算都通过对象的操作来表达\n",
    "* 每个对象定义对应真实世界的某些对象或概念，而方法则对应真实世界中对象之间交互的方式。"
   ]
  },
  {
   "cell_type": "markdown",
   "id": "cd314198",
   "metadata": {},
   "source": [
    "例如，上一章中定义的 `Time` 类对应于人们记录一天中的时间的方式，而其中我们定义的函数对应于人们平时处理时间所做的事情。类似地，`Point` 和 `Rectangle` 类对应于数学中点和矩形的概念。"
   ]
  },
  {
   "cell_type": "markdown",
   "id": "cf6f970e",
   "metadata": {},
   "source": [
    "目前为止，我们还没有利用上 Python 所提供的面向对象编程特性。严格地说，这些特性并不是必需的; 它们中大部分都是我们已经做过的事情的另一种选择方案。但在很多情况下，这种方案更简洁，更能准确地表达程序的结构。"
   ]
  },
  {
   "cell_type": "markdown",
   "id": "6e019376",
   "metadata": {},
   "source": [
    "在上一章，我们写了 `add_times`,`increment` 等函数，这些函数都是围绕 `Time` 对象来写的，每个函数都至少接收一个 `Time` 对象作为参数。"
   ]
  },
  {
   "cell_type": "markdown",
   "id": "aed88a4d",
   "metadata": {},
   "source": [
    "这种现象就是 **方法** 的由来。**一个方法即是和某个特定类相关联的函数**。我们已经见过字符串,列表,字典和元组的方法。本章中，我们会为用户定义类型定义方法。"
   ]
  },
  {
   "cell_type": "markdown",
   "id": "2e1c027e",
   "metadata": {},
   "source": [
    "方法和函数在语义上是一样的，但在语法上有两个区别。"
   ]
  },
  {
   "cell_type": "markdown",
   "id": "17fd1966",
   "metadata": {},
   "source": [
    "* 方法定义写在类定义之中，更明确的表示类和方法的关联\n",
    "* 调用方法和调用函数的语法形式不同"
   ]
  },
  {
   "cell_type": "markdown",
   "id": "47d1e2c7",
   "metadata": {},
   "source": [
    "在接下来几节，我们会将前两章中定义的函数转换为方法。这种转换是纯机械式的，可以依照一些列步骤完成它。如果你能够轻松地在方法和函数之间转换，也就能够在任何情况下选择最适合的形式了。"
   ]
  },
  {
   "cell_type": "markdown",
   "id": "f191a952",
   "metadata": {},
   "source": [
    "## 打印对象"
   ]
  },
  {
   "cell_type": "markdown",
   "id": "22575c85",
   "metadata": {},
   "source": [
    "上一章写过一个名为 `print_time` 的函数:"
   ]
  },
  {
   "cell_type": "code",
   "execution_count": 55,
   "id": "a6802161",
   "metadata": {},
   "outputs": [],
   "source": [
    "class Time:\n",
    "    '''\n",
    "    表示一天中的时间\n",
    "    '''\n",
    "    \n",
    "def print_time(time):\n",
    "    print('%.2d:%.2d:%.2d'%(time.hour,time.minute,time.second))"
   ]
  },
  {
   "cell_type": "markdown",
   "id": "00116e78",
   "metadata": {},
   "source": [
    "要调用这个函数，需要传入一个 `Time` 对象作为实参:"
   ]
  },
  {
   "cell_type": "code",
   "execution_count": 56,
   "id": "b1bc5857",
   "metadata": {},
   "outputs": [
    {
     "name": "stdout",
     "output_type": "stream",
     "text": [
      "09:45:00\n"
     ]
    }
   ],
   "source": [
    "start = Time()\n",
    "start.hour = 9\n",
    "start.minute = 45\n",
    "start.second = 0\n",
    "print_time(start)"
   ]
  },
  {
   "cell_type": "markdown",
   "id": "0dc9c6fa",
   "metadata": {},
   "source": [
    "要把 `print_time` 转换为方法，只需要将函数定义移动到类定义中即可。注意缩进的改变。"
   ]
  },
  {
   "cell_type": "code",
   "execution_count": 57,
   "id": "1c96295a",
   "metadata": {},
   "outputs": [],
   "source": [
    "class Time:\n",
    "    def print_time(time):\n",
    "        print('%.2d:%.2d:%.2d'%(time.hour,time.minute,time.second))"
   ]
  },
  {
   "cell_type": "markdown",
   "id": "92c00469",
   "metadata": {},
   "source": [
    "现在有两种方式可以调用 `print_time`。第一种方式是使用函数调用语法，这种语法不太常用:"
   ]
  },
  {
   "cell_type": "code",
   "execution_count": 58,
   "id": "6bc4e8ee",
   "metadata": {},
   "outputs": [
    {
     "name": "stdout",
     "output_type": "stream",
     "text": [
      "09:45:00\n"
     ]
    }
   ],
   "source": [
    "start = Time()\n",
    "start.hour = 9\n",
    "start.minute = 45\n",
    "start.second = 0\n",
    "Time.print_time(start)"
   ]
  },
  {
   "cell_type": "markdown",
   "id": "8aa6fb28",
   "metadata": {},
   "source": [
    "在这里的点表示法中，`Time` 是类的名称，而 `print_time` 是方法的名称。`start` 是作为参数传入的。"
   ]
  },
  {
   "cell_type": "markdown",
   "id": "db20b325",
   "metadata": {},
   "source": [
    "另一种方式是使用方法调用语法:"
   ]
  },
  {
   "cell_type": "code",
   "execution_count": 59,
   "id": "d3d72b2c",
   "metadata": {},
   "outputs": [
    {
     "name": "stdout",
     "output_type": "stream",
     "text": [
      "09:45:00\n"
     ]
    }
   ],
   "source": [
    "start.print_time()"
   ]
  },
  {
   "cell_type": "markdown",
   "id": "244753bb",
   "metadata": {},
   "source": [
    "在这里的点表示法中，`print_time` 是方法的名称，而 `start` 是调用这个方法的对象，也称为**主体(subject)**。和一句话中主语用来表示这句话是关于什么东西的一样，方法调用的主题表示这个方法是关于哪个对象的。"
   ]
  },
  {
   "cell_type": "markdown",
   "id": "8c222e02",
   "metadata": {},
   "source": [
    "在方法中，主体会被赋值给第一个形参，所以本例中 `start` 被赋值给 `time `。"
   ]
  },
  {
   "cell_type": "markdown",
   "id": "cbf4b8fb",
   "metadata": {},
   "source": [
    "依惯例来，方法的第一个形参通常叫做 `self`，所以 `print_time` 通常被写成如下形式:"
   ]
  },
  {
   "cell_type": "code",
   "execution_count": 60,
   "id": "01f51b24",
   "metadata": {},
   "outputs": [],
   "source": [
    "class Time:\n",
    "    def print_time(self):\n",
    "        print('%.2d:%.2d:%.2d'%(time.hour,time.minute,time.second)) "
   ]
  },
  {
   "cell_type": "markdown",
   "id": "2c4b3e3c",
   "metadata": {},
   "source": [
    "这种惯例的原因是一个隐喻:"
   ]
  },
  {
   "cell_type": "markdown",
   "id": "0ed15d5e",
   "metadata": {},
   "source": [
    "* 函数调用的语法 `print_time(start)` 暗示函数是活动主体。\n",
    "* 在面向对象编程中，对象是活动主体。"
   ]
  },
  {
   "cell_type": "markdown",
   "id": "9a92ec50",
   "metadata": {},
   "source": [
    "这种方式是否有用还不明显。在已经见过的例子中，它也许没有更有用。但有时候将函数的责任转到对象上，使我们能够编写功能更丰富的函数或方法，也使代码的维护和复用更容易。"
   ]
  },
  {
   "cell_type": "markdown",
   "id": "7c4c250d",
   "metadata": {},
   "source": [
    "## 另一个示例"
   ]
  },
  {
   "cell_type": "markdown",
   "id": "ba0120eb",
   "metadata": {},
   "source": [
    "下面是函数 `increment` 的另一个重写成了方法的版本:"
   ]
  },
  {
   "cell_type": "code",
   "execution_count": 11,
   "id": "68d91779",
   "metadata": {},
   "outputs": [],
   "source": [
    "def int_to_time(seconds):\n",
    "    time = Time()\n",
    "    minutes, time.second = divmod(seconds,60)\n",
    "    time.hour,time.minute = divmod(minutes,60)\n",
    "    return time\n",
    "\n",
    "class Time:\n",
    "    def print_time(self):\n",
    "        print('%.2d:%.2d:%.2d'%(self.hour,self.minute,self.second))     \n",
    "    \n",
    "    def increment(self,seconds):\n",
    "        seconds += self.time_to_int()\n",
    "        return int_to_time(seconds)\n",
    "    \n",
    "    def time_to_int(self):\n",
    "        minutes = self.hour*60 + self.minute\n",
    "        seconds = minutes*60 + self.second\n",
    "        return seconds\n",
    "    "
   ]
  },
  {
   "cell_type": "markdown",
   "id": "614c9d6f",
   "metadata": {},
   "source": [
    "这里的`increment` 是一个纯函数。给出调用 `increment` 的方式:"
   ]
  },
  {
   "cell_type": "code",
   "execution_count": 71,
   "id": "b3a1eeb9",
   "metadata": {},
   "outputs": [
    {
     "name": "stdout",
     "output_type": "stream",
     "text": [
      "09:45:00\n"
     ]
    }
   ],
   "source": [
    "start = Time()\n",
    "start.hour = 9\n",
    "start.minute = 45\n",
    "start.second = 0\n",
    "start.print_time()"
   ]
  },
  {
   "cell_type": "code",
   "execution_count": 72,
   "id": "b74d1bc4",
   "metadata": {},
   "outputs": [
    {
     "name": "stdout",
     "output_type": "stream",
     "text": [
      "10:07:17\n"
     ]
    }
   ],
   "source": [
    "end = start.increment(1337)\n",
    "end.print_time()"
   ]
  },
  {
   "cell_type": "markdown",
   "id": "e62093db",
   "metadata": {},
   "source": [
    "这种机制有时也会带来困惑，尤其在当程序出错的时候。例如，如果使用两个实参调用 `increment`，则会得到:"
   ]
  },
  {
   "cell_type": "code",
   "execution_count": 73,
   "id": "b9749721",
   "metadata": {},
   "outputs": [
    {
     "ename": "TypeError",
     "evalue": "increment() takes 2 positional arguments but 3 were given",
     "output_type": "error",
     "traceback": [
      "\u001b[0;31m---------------------------------------------------------------------------\u001b[0m",
      "\u001b[0;31mTypeError\u001b[0m                                 Traceback (most recent call last)",
      "\u001b[0;32m/tmp/ipykernel_21081/927682821.py\u001b[0m in \u001b[0;36m<module>\u001b[0;34m\u001b[0m\n\u001b[0;32m----> 1\u001b[0;31m \u001b[0mend\u001b[0m \u001b[0;34m=\u001b[0m \u001b[0mstart\u001b[0m\u001b[0;34m.\u001b[0m\u001b[0mincrement\u001b[0m\u001b[0;34m(\u001b[0m\u001b[0;36m1337\u001b[0m\u001b[0;34m,\u001b[0m\u001b[0;36m460\u001b[0m\u001b[0;34m)\u001b[0m\u001b[0;34m\u001b[0m\u001b[0;34m\u001b[0m\u001b[0m\n\u001b[0m",
      "\u001b[0;31mTypeError\u001b[0m: increment() takes 2 positional arguments but 3 were given"
     ]
    }
   ],
   "source": [
    "end = start.increment(1337,460)"
   ]
  },
  {
   "cell_type": "markdown",
   "id": "4d0a3651",
   "metadata": {},
   "source": [
    "错误信息初看似乎很令人困惑，因为括号里只有两个实参。但调用的主题也被看作一个实参，所以其实总共有 3 个。"
   ]
  },
  {
   "cell_type": "markdown",
   "id": "b0bb0f0e",
   "metadata": {},
   "source": [
    "另外，**按位实参(positional argument)** 指的是没有指定名称的实参，也就是说，它不是一个**关键词实参**。在下面这个函数调用中，`parrot` 和 `cage` 是按位实参，而 `dead` 是一个关键词实参:"
   ]
  },
  {
   "cell_type": "markdown",
   "id": "1dd05025",
   "metadata": {},
   "source": [
    "```python\n",
    "sketch(parrot,cage,dead = True)\n",
    "```"
   ]
  },
  {
   "cell_type": "markdown",
   "id": "b86fb2a2",
   "metadata": {},
   "source": [
    "## 一个更复杂的示例"
   ]
  },
  {
   "cell_type": "markdown",
   "id": "e8372ab3",
   "metadata": {},
   "source": [
    "重写函数 `is_after` 稍微复杂一些，因为它接收两个 `Time` 对象作为形参。这种情形下，依惯例，第一个形参命名为 `self`，而第二个形参命名为 `other`:"
   ]
  },
  {
   "cell_type": "code",
   "execution_count": 74,
   "id": "86f6f26d",
   "metadata": {},
   "outputs": [],
   "source": [
    "class Time:\n",
    "    def print_time(self):\n",
    "        print('%.2d:%.2d:%.2d'%(self.hour,self.minute,self.second))     \n",
    "    \n",
    "    def increment(self,seconds):\n",
    "        seconds += self.time_to_int()\n",
    "        return int_to_time(seconds)\n",
    "    \n",
    "    def time_to_int(self):\n",
    "        minutes = self.hour*60 + self.minute\n",
    "        seconds = minutes*60 + self.second\n",
    "        return seconds\n",
    "    \n",
    "    def is_after(self,other):\n",
    "        return self.time_to_int() > other.time_to_int()"
   ]
  },
  {
   "cell_type": "markdown",
   "id": "b9b77998",
   "metadata": {},
   "source": [
    "要使用这个方法，需要在一个对象上调用它，并传入另一个对象作为实参:"
   ]
  },
  {
   "cell_type": "code",
   "execution_count": 75,
   "id": "6656e393",
   "metadata": {},
   "outputs": [
    {
     "data": {
      "text/plain": [
       "True"
      ]
     },
     "execution_count": 75,
     "metadata": {},
     "output_type": "execute_result"
    }
   ],
   "source": [
    "start = Time()\n",
    "start.hour = 9\n",
    "start.minute = 45\n",
    "start.second = 0\n",
    "\n",
    "end = start.increment(1337)\n",
    "end.is_after(start)"
   ]
  },
  {
   "cell_type": "markdown",
   "id": "c984f331",
   "metadata": {},
   "source": [
    "这种语法的一个好处是，阅读起来几乎和英语一样:\"end is after start?\""
   ]
  },
  {
   "cell_type": "markdown",
   "id": "9bd82af0",
   "metadata": {},
   "source": [
    "## init 方法"
   ]
  },
  {
   "cell_type": "markdown",
   "id": "78c76a28",
   "metadata": {},
   "source": [
    "`init` 方法(即 \"initialization\" 的简写，意思是初始化)是一个特殊方法，当对象初始化时会被调用。它的全名是 `__init__`。`Time` 类的 `init` 方法可能如下所示:"
   ]
  },
  {
   "cell_type": "code",
   "execution_count": 3,
   "id": "33a88bb0",
   "metadata": {},
   "outputs": [],
   "source": [
    "class Time:\n",
    "    '''\n",
    "    表示一天中的时间\n",
    "    '''\n",
    "    def __init__(self,hour=0,minute=0,second=0):\n",
    "        self.hour = hour\n",
    "        self.minute = minute\n",
    "        self.second = second\n",
    "        \n",
    "    def print_time(self):\n",
    "        print('%.2d:%.2d:%.2d'%(self.hour,self.minute,self.second)) "
   ]
  },
  {
   "cell_type": "markdown",
   "id": "111bf343",
   "metadata": {},
   "source": [
    "`__init__` 的形参和类的属性名称常常是相同的。语句"
   ]
  },
  {
   "cell_type": "markdown",
   "id": "2e73222c",
   "metadata": {},
   "source": [
    "```python\n",
    "self.hour = hour\n",
    "```"
   ]
  },
  {
   "cell_type": "markdown",
   "id": "754ec45e",
   "metadata": {},
   "source": [
    "将形参 `hour` 的值存储为 `self` 的一个属性。"
   ]
  },
  {
   "cell_type": "markdown",
   "id": "e90f2507",
   "metadata": {},
   "source": [
    "形参是可选的，所以当你不使用任何实参调用 `Time` 时，会得到默认值:"
   ]
  },
  {
   "cell_type": "code",
   "execution_count": 4,
   "id": "cae16b14",
   "metadata": {},
   "outputs": [
    {
     "name": "stdout",
     "output_type": "stream",
     "text": [
      "00:00:00\n"
     ]
    }
   ],
   "source": [
    "time = Time()\n",
    "time.print_time()"
   ]
  },
  {
   "cell_type": "markdown",
   "id": "b2b5c3e1",
   "metadata": {},
   "source": [
    "如果提供 1 个实参，它会覆盖 `hour`:"
   ]
  },
  {
   "cell_type": "code",
   "execution_count": 5,
   "id": "71f44552",
   "metadata": {},
   "outputs": [
    {
     "name": "stdout",
     "output_type": "stream",
     "text": [
      "09:00:00\n"
     ]
    }
   ],
   "source": [
    "time = Time(9)\n",
    "time.print_time()"
   ]
  },
  {
   "cell_type": "markdown",
   "id": "41d9ffc6",
   "metadata": {},
   "source": [
    "如果提供 2 个实参，它会覆盖 `hour` 和 `minute`:"
   ]
  },
  {
   "cell_type": "code",
   "execution_count": 6,
   "id": "f014e2c7",
   "metadata": {},
   "outputs": [
    {
     "name": "stdout",
     "output_type": "stream",
     "text": [
      "09:45:00\n"
     ]
    }
   ],
   "source": [
    "time = Time(9,45)\n",
    "time.print_time()"
   ]
  },
  {
   "cell_type": "markdown",
   "id": "69701f28",
   "metadata": {},
   "source": [
    "如果提供 3 个实参，它们会覆盖全部 3 个默认值。"
   ]
  },
  {
   "cell_type": "markdown",
   "id": "ab79cb34",
   "metadata": {},
   "source": [
    "## `__str__` 方法"
   ]
  },
  {
   "cell_type": "markdown",
   "id": "ac6e80f6",
   "metadata": {},
   "source": [
    "`__str__` 和 `__init__` 类似，是一个特殊方法，它用来返回对象的字符串表达形式。"
   ]
  },
  {
   "cell_type": "markdown",
   "id": "46947684",
   "metadata": {},
   "source": [
    "例如，下面是一个 `Time` 对象的 `str` 方法:"
   ]
  },
  {
   "cell_type": "code",
   "execution_count": 7,
   "id": "72230e8e",
   "metadata": {},
   "outputs": [],
   "source": [
    "class Time:\n",
    "    '''\n",
    "    表示一天中的时间\n",
    "    '''\n",
    "    def __init__(self,hour=0,minute=0,second=0):\n",
    "        self.hour = hour\n",
    "        self.minute = minute\n",
    "        self.second = second\n",
    "        \n",
    "    def __str__(self):\n",
    "        return '%.2d:%.2d:%.2d'%(self.hour,self.minute,self.second) "
   ]
  },
  {
   "cell_type": "markdown",
   "id": "2fc0b590",
   "metadata": {},
   "source": [
    "当打印对象时，Python 会调用 `str` 方法。"
   ]
  },
  {
   "cell_type": "code",
   "execution_count": 8,
   "id": "43eb4845",
   "metadata": {},
   "outputs": [
    {
     "name": "stdout",
     "output_type": "stream",
     "text": [
      "09:45:00\n"
     ]
    }
   ],
   "source": [
    "time = Time(9,45)\n",
    "print(time)"
   ]
  },
  {
   "cell_type": "markdown",
   "id": "cca4c1d6",
   "metadata": {},
   "source": [
    "当编写一个新类时，我们一般首先要写 `__init__`，以便初始化对象，然后视情况可以写 `__str__`，以便调试。"
   ]
  },
  {
   "cell_type": "markdown",
   "id": "d0b6460b",
   "metadata": {},
   "source": [
    "## 操作符重载"
   ]
  },
  {
   "cell_type": "markdown",
   "id": "c6deb62d",
   "metadata": {},
   "source": [
    "通过定义其他的特殊方法，你可以为用户定义类型的各种操作符指定行为。例如，如果你为 `Time` 类定义一个 `__add__` 方法，则可以在 `Time` 对象上使用 `+` 操作符。给出这个方法的定义:"
   ]
  },
  {
   "cell_type": "code",
   "execution_count": 12,
   "id": "340d811d",
   "metadata": {},
   "outputs": [],
   "source": [
    "class Time:\n",
    "    '''\n",
    "    表示一天中的时间\n",
    "    '''\n",
    "    def __init__(self,hour=0,minute=0,second=0):\n",
    "        self.hour = hour\n",
    "        self.minute = minute\n",
    "        self.second = second\n",
    "        \n",
    "    def __str__(self):\n",
    "        return '%.2d:%.2d:%.2d'%(self.hour,self.minute,self.second)\n",
    "    \n",
    "    def __add__(self,other):\n",
    "        seconds = self.time_to_int() + other.time_to_int()\n",
    "        return int_to_time(seconds)\n",
    "\n",
    "    def time_to_int(self):\n",
    "        minutes = self.hour*60 + self.minute\n",
    "        seconds = minutes*60 + self.second\n",
    "        return seconds"
   ]
  },
  {
   "cell_type": "markdown",
   "id": "bdf1df2d",
   "metadata": {},
   "source": [
    "下面是如何使用它:"
   ]
  },
  {
   "cell_type": "code",
   "execution_count": 13,
   "id": "500107dc",
   "metadata": {},
   "outputs": [
    {
     "name": "stdout",
     "output_type": "stream",
     "text": [
      "11:20:00\n"
     ]
    }
   ],
   "source": [
    "start = Time(9,45)\n",
    "duration = Time(1,35)\n",
    "print(start+duration)"
   ]
  },
  {
   "cell_type": "markdown",
   "id": "2f60accd",
   "metadata": {},
   "source": [
    "当对 `Time` 对象应用 `+` 操作符时，Python 会调用 `__add__`。当打印结果时，Python 会调用 `__str__`。幕后其实发生了很多事情。"
   ]
  },
  {
   "cell_type": "markdown",
   "id": "22a2e2b8",
   "metadata": {},
   "source": [
    "修改操作符的行为以便它能够作用于用户定义类型，这个过程称为 **操作符重载**。对每一个操作符，Python 都提供了一个对应的特殊方法，如 `__add__`。"
   ]
  },
  {
   "cell_type": "markdown",
   "id": "381dc7a5",
   "metadata": {},
   "source": [
    "## 基于类型的分发"
   ]
  },
  {
   "cell_type": "markdown",
   "id": "b6dc230c",
   "metadata": {},
   "source": [
    "在前面一节中我们将两个 `Time` 对象相加，但你也可能会想要将一个 `Time` 对象加上一个整数。接下来是 `__add__` 的一个版本，检查 `other` 的类型，并调用 `add_time` 或 `increment`:"
   ]
  },
  {
   "cell_type": "code",
   "execution_count": 14,
   "id": "540b3d7e",
   "metadata": {},
   "outputs": [],
   "source": [
    "class Time:\n",
    "    '''\n",
    "    表示一天中的时间\n",
    "    '''\n",
    "    def __init__(self,hour=0,minute=0,second=0):\n",
    "        self.hour = hour\n",
    "        self.minute = minute\n",
    "        self.second = second\n",
    "        \n",
    "    def __str__(self):\n",
    "        return '%.2d:%.2d:%.2d'%(self.hour,self.minute,self.second)\n",
    "    \n",
    "    def __add__(self,other):\n",
    "        if isinstance(other,Time):\n",
    "            return self.add_time(other)\n",
    "        else:\n",
    "            return self.increment(other)\n",
    "    \n",
    "    def add_time(self,other):\n",
    "        seconds = self.time_to_int() + other.time_to_int()\n",
    "        return int_to_time(seconds)\n",
    "    \n",
    "    def increment(self,seconds):\n",
    "        seconds += self.time_to_int()\n",
    "        return int_to_time(seconds)\n",
    "\n",
    "    def time_to_int(self):\n",
    "        minutes = self.hour*60 + self.minute\n",
    "        seconds = minutes*60 + self.second\n",
    "        return seconds"
   ]
  },
  {
   "cell_type": "markdown",
   "id": "9e137d27",
   "metadata": {},
   "source": [
    "内置函数 `isinstance` 接收一个值与一个类对象，并当此值是此类的一个实例时返回 `True`。"
   ]
  },
  {
   "cell_type": "markdown",
   "id": "8572d45d",
   "metadata": {},
   "source": [
    "如果 `other` 是一个 `Time` 对象，`__add__` 会调用 `add_time`。否则它认为实参是整数，并调用 `increment`，这个操作称为 **基于类型的分发(type-based dispatch)**，因为它根据形参的类型，将计算分发到不同的方法上。"
   ]
  },
  {
   "cell_type": "markdown",
   "id": "f36bfad9",
   "metadata": {},
   "source": [
    "下面是使用不同类型的实参调用 `+` 操作符的示例:"
   ]
  },
  {
   "cell_type": "code",
   "execution_count": 15,
   "id": "2f55e62a",
   "metadata": {},
   "outputs": [
    {
     "name": "stdout",
     "output_type": "stream",
     "text": [
      "11:20:00\n"
     ]
    }
   ],
   "source": [
    "start = Time(9,45)\n",
    "duration = Time(1,35)\n",
    "print(start + duration)"
   ]
  },
  {
   "cell_type": "code",
   "execution_count": 16,
   "id": "7237bc65",
   "metadata": {},
   "outputs": [
    {
     "name": "stdout",
     "output_type": "stream",
     "text": [
      "10:07:17\n"
     ]
    }
   ],
   "source": [
    "print(start+1337)"
   ]
  },
  {
   "cell_type": "markdown",
   "id": "d1eb5d46",
   "metadata": {},
   "source": [
    "不过这个加法的实现并不满足交换律。如果整数是第一个操作数，则会得到:"
   ]
  },
  {
   "cell_type": "code",
   "execution_count": 17,
   "id": "20ef05c8",
   "metadata": {},
   "outputs": [
    {
     "ename": "TypeError",
     "evalue": "unsupported operand type(s) for +: 'int' and 'Time'",
     "output_type": "error",
     "traceback": [
      "\u001b[0;31m---------------------------------------------------------------------------\u001b[0m",
      "\u001b[0;31mTypeError\u001b[0m                                 Traceback (most recent call last)",
      "\u001b[0;32m/tmp/ipykernel_3602/3691621164.py\u001b[0m in \u001b[0;36m<module>\u001b[0;34m\u001b[0m\n\u001b[0;32m----> 1\u001b[0;31m \u001b[0mprint\u001b[0m\u001b[0;34m(\u001b[0m\u001b[0;36m1377\u001b[0m\u001b[0;34m+\u001b[0m\u001b[0mstart\u001b[0m\u001b[0;34m)\u001b[0m\u001b[0;34m\u001b[0m\u001b[0;34m\u001b[0m\u001b[0m\n\u001b[0m",
      "\u001b[0;31mTypeError\u001b[0m: unsupported operand type(s) for +: 'int' and 'Time'"
     ]
    }
   ],
   "source": [
    "print(1377+start)"
   ]
  },
  {
   "cell_type": "markdown",
   "id": "90474015",
   "metadata": {},
   "source": [
    "问题在于，这里和之前询问一个 `Time` 对象加上一个整数不同，Python 在询问一个整数去加上一个 `Time` 对象，而它不知道如何去做到。但这个问题也有一个聪明的解决方案:特别方法 `__radd__`，意即\"右加法\"(right-side add)。当 `Time` 对象出现在 `+` 号的右侧时，会调用这个方法。下面是它的定义:"
   ]
  },
  {
   "cell_type": "code",
   "execution_count": 18,
   "id": "81688142",
   "metadata": {},
   "outputs": [],
   "source": [
    "class Time:\n",
    "    '''\n",
    "    表示一天中的时间\n",
    "    '''\n",
    "    def __init__(self,hour=0,minute=0,second=0):\n",
    "        self.hour = hour\n",
    "        self.minute = minute\n",
    "        self.second = second\n",
    "        \n",
    "    def __str__(self):\n",
    "        return '%.2d:%.2d:%.2d'%(self.hour,self.minute,self.second)\n",
    "    \n",
    "    def __add__(self,other):\n",
    "        if isinstance(other,Time):\n",
    "            return self.add_time(other)\n",
    "        else:\n",
    "            return self.increment(other)\n",
    "    def __radd__(self,other):\n",
    "        return self.__add__(other)\n",
    "    \n",
    "    def add_time(self,other):\n",
    "        seconds = self.time_to_int() + other.time_to_int()\n",
    "        return int_to_time(seconds)\n",
    "    \n",
    "    def increment(self,seconds):\n",
    "        seconds += self.time_to_int()\n",
    "        return int_to_time(seconds)\n",
    "\n",
    "    def time_to_int(self):\n",
    "        minutes = self.hour*60 + self.minute\n",
    "        seconds = minutes*60 + self.second\n",
    "        return seconds"
   ]
  },
  {
   "cell_type": "code",
   "execution_count": 19,
   "id": "8094879d",
   "metadata": {},
   "outputs": [
    {
     "name": "stdout",
     "output_type": "stream",
     "text": [
      "10:07:17\n"
     ]
    }
   ],
   "source": [
    "start = Time(9,45)\n",
    "duration = Time(1,35)\n",
    "print(1337 + start)"
   ]
  },
  {
   "cell_type": "markdown",
   "id": "dbb02d35",
   "metadata": {},
   "source": [
    "## 多态"
   ]
  },
  {
   "cell_type": "markdown",
   "id": "b89d94a4",
   "metadata": {},
   "source": [
    "当需要时，基于类型的分发很有用，但我们并不总是需要它。通常可以编写函数处理不同类型的参数来避免它。"
   ]
  },
  {
   "cell_type": "markdown",
   "id": "98f7d18a",
   "metadata": {},
   "source": [
    "我们编写的很多处理字符串的函数，实际上对其他序列类型也可以用。例如，在 11.1 节中，我们使用 `histogram` 来记录单词中每个字母出现的次数:"
   ]
  },
  {
   "cell_type": "code",
   "execution_count": 20,
   "id": "facee6bf",
   "metadata": {},
   "outputs": [],
   "source": [
    "def histogram(s):\n",
    "    d = dict()\n",
    "    for c in s:\n",
    "        if c not in d:\n",
    "            d[c] = 1\n",
    "        else:\n",
    "            d[c] = d[c]+1\n",
    "    return d"
   ]
  },
  {
   "cell_type": "markdown",
   "id": "bc895526",
   "metadata": {},
   "source": [
    "这个函数对列表,元组甚至是字典都可以用，只要 `s` 的元素是可散列的，因而可以用作 `d` 的键即可:"
   ]
  },
  {
   "cell_type": "code",
   "execution_count": 21,
   "id": "b3e44c87",
   "metadata": {},
   "outputs": [
    {
     "data": {
      "text/plain": [
       "{'spam': 4, 'egg': 1, 'bacom': 1}"
      ]
     },
     "execution_count": 21,
     "metadata": {},
     "output_type": "execute_result"
    }
   ],
   "source": [
    "t = ['spam','egg','spam','spam','bacom','spam']\n",
    "histogram(t)"
   ]
  },
  {
   "cell_type": "markdown",
   "id": "5164542d",
   "metadata": {},
   "source": [
    "处理多个类型的函数称为 **多态(polymorphic**。多态可以促进代码复用。例如，用来计算一个序列所有元素的和的内置函数 `sum`，对所有其元素支持加法的序列都可用。"
   ]
  },
  {
   "cell_type": "markdown",
   "id": "2e8faf86",
   "metadata": {},
   "source": [
    "由于 `Time` 对象提供了 `add` 方法，它们也可以使用 `sum`:"
   ]
  },
  {
   "cell_type": "code",
   "execution_count": 22,
   "id": "c018ed67",
   "metadata": {},
   "outputs": [
    {
     "name": "stdout",
     "output_type": "stream",
     "text": [
      "23:01:00\n"
     ]
    }
   ],
   "source": [
    "t1 = Time(7,43)\n",
    "t2 = Time(7,41)\n",
    "t3 = Time(7,37)\n",
    "total = sum([t1,t2,t3])\n",
    "print(total)"
   ]
  },
  {
   "cell_type": "markdown",
   "id": "388814cc",
   "metadata": {},
   "source": [
    "总的来说，如果函数内部所有的操作都支持某种类型，那么这个函数就可以用于那种类型。"
   ]
  },
  {
   "cell_type": "markdown",
   "id": "3fcf2eeb",
   "metadata": {},
   "source": [
    "当你发现一个写好的函数，竟有出人意料的效果，可以用于没有计划过的类型时，这才是最好的多态。"
   ]
  },
  {
   "cell_type": "markdown",
   "id": "9f09161f",
   "metadata": {},
   "source": [
    "## 接口和实现"
   ]
  },
  {
   "cell_type": "markdown",
   "id": "576c8d76",
   "metadata": {},
   "source": [
    "面向对象设计的目标之一是提高软件的可维护性，也就是说，当系统的其他部分改变时，程序还能够保持正确运行，并且能够修改程序来适应新的需求。"
   ]
  },
  {
   "cell_type": "markdown",
   "id": "01bfaa30",
   "metadata": {},
   "source": [
    "将接口和实现分离的设计理念，可以帮我们更容易达到这个目标。对于对象来说，那意味着类所提供的方法应该不依赖于其属性的表达方式。"
   ]
  },
  {
   "cell_type": "markdown",
   "id": "ea7a6595",
   "metadata": {},
   "source": [
    "例如，本章中我们开发了一个类来表达一天中的时间。这个类提供的方法包括 `time_to_int`,`is_after` 和 `add_time`。"
   ]
  },
  {
   "cell_type": "markdown",
   "id": "26337ae3",
   "metadata": {},
   "source": [
    "我们可以使用几种不同的方式来实现这些方法。实现的细节依赖于我们表达时间概念的方式。在本章中，`Time` 对象的属性是 `hour`,`minute`和 `second`。"
   ]
  },
  {
   "cell_type": "markdown",
   "id": "2afa3d22",
   "metadata": {},
   "source": [
    "用另一种方案，我们可以将这些属性替换成一个整数，表示从凌晨开始到现在的秒数。这种实现可能会让一些方法，如 `is_after`, 更容易实现，但也会让另一些方法更难实现。"
   ]
  },
  {
   "cell_type": "markdown",
   "id": "521d5b75",
   "metadata": {},
   "source": [
    "在部署一个新类时，你可能会发现更好的实现。如果程序中其他部分用到你的类，则修改接口会非常消耗时间，并且容易产生错误。"
   ]
  },
  {
   "cell_type": "markdown",
   "id": "2c1de232",
   "metadata": {},
   "source": [
    "但是，如果很谨慎小心地设计接口，则可以在不修改接口的情况下修改实现，这样程序的其他部分就不需要跟着修改。"
   ]
  },
  {
   "cell_type": "markdown",
   "id": "2155e9a9",
   "metadata": {},
   "source": [
    "## 调试"
   ]
  },
  {
   "cell_type": "markdown",
   "id": "36fc6c11",
   "metadata": {},
   "source": [
    "在程序运行的任何时刻，往对象上添加属性都是合法的，但如果遵守更严格的类型理论，让对象拥有相同的类型却有不同的属性组，会很容易导致错误。通常来说，在 `__init__` 方法中初始化对象的全部属性是个好习惯。"
   ]
  },
  {
   "cell_type": "markdown",
   "id": "7e94185e",
   "metadata": {},
   "source": [
    "如果并不清楚一个对象是否拥有某个属性，可以使用内置函数 `hasattr`。"
   ]
  },
  {
   "cell_type": "markdown",
   "id": "abba3c70",
   "metadata": {},
   "source": [
    "另一种访问一个对象的属性的方法是使用内置函数 `vars`，它接收一个对象，并返回一个将属性名字(字符串形式)映射到属性值的字典对象:"
   ]
  },
  {
   "cell_type": "code",
   "execution_count": 1,
   "id": "8ab3d784",
   "metadata": {},
   "outputs": [
    {
     "data": {
      "text/plain": [
       "{'x': 3, 'y': 4}"
      ]
     },
     "execution_count": 1,
     "metadata": {},
     "output_type": "execute_result"
    }
   ],
   "source": [
    "class Point:\n",
    "    '''\n",
    "    表示二维空间中的点\n",
    "    '''\n",
    "    \n",
    "    def __init__(self,x=0.0,y=0.0):\n",
    "        self.x = x\n",
    "        self.y = y\n",
    "        \n",
    "    def show(self):\n",
    "        s = 'Point(%f,%f)'%(self.x,self.y)\n",
    "        return s\n",
    "p = Point(3,4)\n",
    "vars(p)"
   ]
  },
  {
   "cell_type": "markdown",
   "id": "b3130e9e",
   "metadata": {},
   "source": [
    "为了调试，你可能会发现将这个函数放在手边是很有用的:"
   ]
  },
  {
   "cell_type": "code",
   "execution_count": 2,
   "id": "688d74d6",
   "metadata": {},
   "outputs": [],
   "source": [
    "def print_attributes(obj):\n",
    "    for attr in vars(obj):\n",
    "        print(attr,getattr(obj,attr))"
   ]
  },
  {
   "cell_type": "markdown",
   "id": "2a064b3c",
   "metadata": {},
   "source": [
    "`print_attributes` 遍历对象的属性字典，并打印出每个属性的名称和相应的值。"
   ]
  },
  {
   "cell_type": "markdown",
   "id": "c9e9b3ae",
   "metadata": {},
   "source": [
    "内置函数 `getattr` 接收一个对象以及一个属性名称(字符串形式)并返回属性的值。"
   ]
  }
 ],
 "metadata": {
  "kernelspec": {
   "display_name": "Python 3",
   "language": "python",
   "name": "python3"
  },
  "language_info": {
   "codemirror_mode": {
    "name": "ipython",
    "version": 3
   },
   "file_extension": ".py",
   "mimetype": "text/x-python",
   "name": "python",
   "nbconvert_exporter": "python",
   "pygments_lexer": "ipython3",
   "version": "3.8.10"
  }
 },
 "nbformat": 4,
 "nbformat_minor": 5
}
