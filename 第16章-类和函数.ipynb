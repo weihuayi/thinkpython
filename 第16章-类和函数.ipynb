{
 "cells": [
  {
   "cell_type": "markdown",
   "id": "4a26d62d",
   "metadata": {},
   "source": [
    "我们已经学习了如何创建新的类型，下一步是接收用户定义对象作为参数或者将其当作结果返回的函数。"
   ]
  },
  {
   "cell_type": "markdown",
   "id": "ebdab8b5",
   "metadata": {},
   "source": [
    "## 时间"
   ]
  },
  {
   "cell_type": "markdown",
   "id": "c93da28d",
   "metadata": {},
   "source": [
    "给出一个用户定义类型的例子。定义一个叫作 `Time` 的类，用于记录一天里的时间，并赋予小时数,分钟数和秒数的属性:"
   ]
  },
  {
   "cell_type": "code",
   "execution_count": 1,
   "id": "de7e138c",
   "metadata": {},
   "outputs": [],
   "source": [
    "class Time:\n",
    "    '''\n",
    "    表示时间\n",
    "    ----------\n",
    "    属性:hour,minute,second\n",
    "    '''\n",
    "    def __init__(self,hour=12.0,minute=0.0,second=0.0):\n",
    "        self.hour = hour\n",
    "        self.minute = minute\n",
    "        self.second = second"
   ]
  },
  {
   "cell_type": "markdown",
   "id": "8f473eeb",
   "metadata": {},
   "source": [
    "我们可以创建一个 `Time` 对象并给其属性重新赋值:"
   ]
  },
  {
   "cell_type": "code",
   "execution_count": 2,
   "id": "35450a9c",
   "metadata": {},
   "outputs": [],
   "source": [
    "time = Time()\n",
    "time.hour = 11\n",
    "time.minute = 59\n",
    "time.second = 30"
   ]
  },
  {
   "cell_type": "markdown",
   "id": "2d48e365",
   "metadata": {},
   "source": [
    "编写一个函数 `print_time`，接受一个 `Time` 对象作为形参并以 `hour:minute:second` 的格式打印它:"
   ]
  },
  {
   "cell_type": "code",
   "execution_count": 3,
   "id": "72fc43a3",
   "metadata": {},
   "outputs": [],
   "source": [
    "def print_time(t):\n",
    "    hour = t.hour\n",
    "    minute = t.minute\n",
    "    second = t.second\n",
    "    print('%.2d:%.2d:%.2d'%(hour,minute,second))"
   ]
  },
  {
   "cell_type": "markdown",
   "id": "3ab06b46",
   "metadata": {},
   "source": [
    "## 纯函数"
   ]
  },
  {
   "cell_type": "markdown",
   "id": "c5cf18f8",
   "metadata": {},
   "source": [
    "在下面几节中，我们会编写两个用来增加时间值的函数，它们展示了两种不同类型的函数:**纯函数和修改器**。它们也展示了称为 **原型和补丁(prototype and patch)** 的开发计划。这是一种应对复杂问题的方法，从一个简单的原型开始，并逐渐解决更多的复杂情况。"
   ]
  },
  {
   "cell_type": "markdown",
   "id": "8be13916",
   "metadata": {},
   "source": [
    "下面是 `add_time` 的一个简单原型:"
   ]
  },
  {
   "cell_type": "code",
   "execution_count": 16,
   "id": "d9e688a5",
   "metadata": {},
   "outputs": [],
   "source": [
    "def add_time(t1,t2):\n",
    "    s = Time()\n",
    "    s.hour = t1.hour + t2.hour\n",
    "    s.minute = t1.minute + t2.minute\n",
    "    s.second = t1.second + t2.second\n",
    "    return s"
   ]
  },
  {
   "cell_type": "markdown",
   "id": "00fdb6c3",
   "metadata": {},
   "source": [
    "这个函数创建一个新的 `Time` 对象，初始化它的属性，并返回这个新对象的一个引用。这被称为是一个**纯函数**，因为它除了返回一个值外，并不修改实参传入的任何对象，也没有任何如显示值或者获得用户输入之类的副作用。总的来说，**纯函数即不修改任何形参对象的函数**。**大部分纯函数都有返回值。**"
   ]
  },
  {
   "cell_type": "markdown",
   "id": "aaf8341c",
   "metadata": {},
   "source": [
    "为了测试该函数，创建两个 `Time` 对象:`start`,存放一个电影的开始时间;`duration` 存放电影的播放时间，这里记为 1 小时 35分钟。"
   ]
  },
  {
   "cell_type": "markdown",
   "id": "cd3118e4",
   "metadata": {},
   "source": [
    "`add_time` 计算处电影何时结束。"
   ]
  },
  {
   "cell_type": "code",
   "execution_count": 17,
   "id": "e8737277",
   "metadata": {},
   "outputs": [],
   "source": [
    "start = Time()\n",
    "start.hour = 9\n",
    "start.minute = 45\n",
    "start.second = 0"
   ]
  },
  {
   "cell_type": "code",
   "execution_count": 18,
   "id": "b5885a07",
   "metadata": {},
   "outputs": [],
   "source": [
    "duration = Time()\n",
    "duration.hour = 1\n",
    "duration.minute = 35\n",
    "duration.second = 0"
   ]
  },
  {
   "cell_type": "code",
   "execution_count": 19,
   "id": "4e8e3066",
   "metadata": {},
   "outputs": [
    {
     "name": "stdout",
     "output_type": "stream",
     "text": [
      "10:80:00\n"
     ]
    }
   ],
   "source": [
    "done = add_time(start,duration)\n",
    "print_time(done)"
   ]
  },
  {
   "cell_type": "markdown",
   "id": "e5d17d0f",
   "metadata": {},
   "source": [
    "这个结果并不是我们想要的。问题在于这个函数并没有处理好秒数或者分钟数超过 60 的情况。此时，我们需要将多余的秒数\"进位\"到分钟数，将多余的分钟数\"进位\"到小时数。给出一个改进的版本:"
   ]
  },
  {
   "cell_type": "code",
   "execution_count": 21,
   "id": "f830d64e",
   "metadata": {},
   "outputs": [],
   "source": [
    "def add_time(t1,t2):\n",
    "    s = Time()\n",
    "    s.hour = t1.hour + t2.hour\n",
    "    s.minute = t1.minute + t2.minute\n",
    "    s.second = t1.second + t2.second\n",
    "    \n",
    "    if s.second >=60:\n",
    "        s.second -= 60\n",
    "        s.minute += 60\n",
    "    \n",
    "    if s.minute >=60:\n",
    "        s.minute -= 60\n",
    "        s.hour += 1\n",
    "    \n",
    "    return s"
   ]
  },
  {
   "cell_type": "code",
   "execution_count": 22,
   "id": "41de1b19",
   "metadata": {},
   "outputs": [
    {
     "name": "stdout",
     "output_type": "stream",
     "text": [
      "11:20:00\n"
     ]
    }
   ],
   "source": [
    "start = Time()\n",
    "start.hour = 9\n",
    "start.minute = 45\n",
    "start.second = 0\n",
    "\n",
    "duration = Time()\n",
    "duration.hour = 1\n",
    "duration.minute = 35\n",
    "duration.second = 0\n",
    "\n",
    "done = add_time(start,duration)\n",
    "print_time(done)"
   ]
  },
  {
   "cell_type": "markdown",
   "id": "3e6ed957",
   "metadata": {},
   "source": [
    "虽然这个函数是正确的，但它已经开始变大了。我们会在后面看到一个更短的版本。"
   ]
  },
  {
   "cell_type": "markdown",
   "id": "3dcff84c",
   "metadata": {},
   "source": [
    "## 修改器"
   ]
  },
  {
   "cell_type": "markdown",
   "id": "b1a97f57",
   "metadata": {},
   "source": [
    "有时用函数修改传入的参数对象是很有用的。在这种情况下，修改对调用者是可见的，这样工作的函数称为**修改器(modifier)**。"
   ]
  },
  {
   "cell_type": "markdown",
   "id": "4c00a62e",
   "metadata": {},
   "source": [
    "函数 `increment` 给一个 `Time` 对象增加指定的秒数，可以自然地写为一个修改器。下面是初始版本:"
   ]
  },
  {
   "cell_type": "code",
   "execution_count": 23,
   "id": "565d67e5",
   "metadata": {},
   "outputs": [],
   "source": [
    "def increment(time,seconds):\n",
    "    time.second += seconds\n",
    "    if time.second >=60:\n",
    "        time.second -= 60\n",
    "        time.minute += 1\n",
    "    \n",
    "    if time.minute >= 60:\n",
    "        time.minute -= 60\n",
    "        time.hour += 1"
   ]
  },
  {
   "cell_type": "markdown",
   "id": "f6acea76",
   "metadata": {},
   "source": [
    "第一行进行基础操作，后面的代码处理前面的特殊情况。"
   ]
  },
  {
   "cell_type": "markdown",
   "id": "52fa2349",
   "metadata": {},
   "source": [
    "但这个函数并不正确，例如，如果 `seconds` 比 60 大很多，那么只进位一次显然是不够的。当然可以使用 `while` 语句来替代 `if` 语句，但这样并不高效。因此，我们还需要对函数进行修改:"
   ]
  },
  {
   "cell_type": "code",
   "execution_count": 24,
   "id": "e6abaad4",
   "metadata": {},
   "outputs": [],
   "source": [
    "def increment(time,seconds):\n",
    "    time.second += seconds\n",
    "    if time.second >=60:\n",
    "        m = time.second//60\n",
    "        time.second = time.second%60\n",
    "        time.minute += m\n",
    "    \n",
    "    if time.minute >= 60:\n",
    "        h = time.minute//60\n",
    "        time.minute = time.minute%60\n",
    "        time.hour += h"
   ]
  },
  {
   "cell_type": "markdown",
   "id": "e250a077",
   "metadata": {},
   "source": [
    "任何可以使用修改器做到的功能都可以使用纯函数实现。事实上，有的编程语言只允许使用纯函数。有证据表明使用纯函数的程序比使用修改器的程序开发更快，错误更少。但有时使用修改器还是很方便的，并且函数式程序的运行效率不那么高。"
   ]
  },
  {
   "cell_type": "markdown",
   "id": "aadeebf8",
   "metadata": {},
   "source": [
    "## 原型和计划"
   ]
  },
  {
   "cell_type": "markdown",
   "id": "5d7a5248",
   "metadata": {},
   "source": [
    "刚才展示的开发计划称为 \"原型和补丁\": **对每个函数，编写一个可以进行基本计算的原型，再测试它，从中发现错误并打补丁。**"
   ]
  },
  {
   "cell_type": "markdown",
   "id": "cfad7fe7",
   "metadata": {},
   "source": [
    "这种方法在对问题的理解并不深入时尤其有效。但增量地修正可能会导致代码过度复杂(因为它们需要处理很多特殊情况)，并且也不够可靠(因为很难知道你是否找到了所有错误)。"
   ]
  },
  {
   "cell_type": "markdown",
   "id": "12791744",
   "metadata": {},
   "source": [
    "另一种方法是 **有规划开发(designed development)**。对问题有更高阶的理解能够让编程简单得多。在上面的问题中，如果更深入地理解，可以发现 `Time` 对象实际上是六十进制数里的三位数，`second` 属性是\"个位数\"，`minute` 属性是\"60位数\"，而 `hour` 属性是 \"360位数\"。"
   ]
  },
  {
   "cell_type": "markdown",
   "id": "e40123ab",
   "metadata": {},
   "source": [
    "在编写 `add_time` 和 `increment` 时，我们实际上是在六十进制上进行加减，因此才需要从一位进位到另一位。"
   ]
  },
  {
   "cell_type": "markdown",
   "id": "260dd191",
   "metadata": {},
   "source": [
    "这个观察让我们可以考虑整个问题的另一种解决方法————我们可以将 `Time` 对象转换为整数，并利用计算机知道如何做整数运算的事实。"
   ]
  },
  {
   "cell_type": "markdown",
   "id": "e57c20a2",
   "metadata": {},
   "source": [
    "下面是一个将 `Time` 对象转换为整数的函数:"
   ]
  },
  {
   "cell_type": "code",
   "execution_count": 25,
   "id": "c54fcd26",
   "metadata": {},
   "outputs": [],
   "source": [
    "def time_to_int(time):\n",
    "    minutes = time.hour*60 + time.minute\n",
    "    seconds = minutes*60 + time.second\n",
    "    return seconds"
   ]
  },
  {
   "cell_type": "markdown",
   "id": "cf962076",
   "metadata": {},
   "source": [
    "而下面是一个将整数转换回 `Time` 对象的函数(记着 `divmod` 函数将第一个参数除以第二个参数，并以元组的形式返回商和余数):"
   ]
  },
  {
   "cell_type": "code",
   "execution_count": 26,
   "id": "356cf57b",
   "metadata": {},
   "outputs": [],
   "source": [
    "def int_to_time(seconds):\n",
    "    time = Time()\n",
    "    minutes, time.second = divmod(seconds,60)\n",
    "    time.hour,time.minute = divmod(minutes,60)\n",
    "    return time"
   ]
  },
  {
   "cell_type": "markdown",
   "id": "851311d2",
   "metadata": {},
   "source": [
    "我们还需要对函数进行测试。一种测试它们的方法是对很多 `x` 值检查 `time_to_int(int_to_time(x))==x`。这是一致性检验的一个例子。"
   ]
  },
  {
   "cell_type": "markdown",
   "id": "a31760fb",
   "metadata": {},
   "source": [
    "一旦确认它们是正确的，就可以使用它们重写 `add_time`:"
   ]
  },
  {
   "cell_type": "code",
   "execution_count": 27,
   "id": "8115dd3e",
   "metadata": {},
   "outputs": [],
   "source": [
    "def add_time(t1,t2):\n",
    "    seconds = time_to_int(t1) + time_to_int(t2)\n",
    "    return int_to_time(seconds)"
   ]
  },
  {
   "cell_type": "markdown",
   "id": "2f397ea1",
   "metadata": {},
   "source": [
    "这个版本比最初版本短得多，并且也很容易检验。"
   ]
  },
  {
   "cell_type": "markdown",
   "id": "1aca48f8",
   "metadata": {},
   "source": [
    "从某个角度看，在六十进制和十进制之间来回转换比只处理时间更难。进制转换更加抽象; 我们对时间值的直觉更好。"
   ]
  },
  {
   "cell_type": "markdown",
   "id": "c4d5a280",
   "metadata": {},
   "source": [
    "但如果我们将时间看作六十进制数，并做好了编写转换函数的先期投入，就能得到一个更短，更可读，也更可靠的函数。"
   ]
  },
  {
   "cell_type": "markdown",
   "id": "ff1781cb",
   "metadata": {},
   "source": [
    "它也让我们今后更容易添加功能。例如，假设将两个 `Time` 对象相减来获得它们之间的时间间隔。简单的做法是使用借位实现减法。而使用转换函数则更简单，且更容易正确。"
   ]
  },
  {
   "cell_type": "markdown",
   "id": "4e3177fc",
   "metadata": {},
   "source": [
    "**有时候把一个问题弄得更难(更通用)反而会让它更简单(因为会有更少的特殊情况以及更少的出错机会)。**"
   ]
  },
  {
   "cell_type": "markdown",
   "id": "5d3a02c4",
   "metadata": {},
   "source": [
    "## 调试"
   ]
  },
  {
   "cell_type": "markdown",
   "id": "3c58ead7",
   "metadata": {},
   "source": [
    "一个 `Time` 对象当 `minute` 和 `second` 的值在 0 到 60 之间(包含 0 但不包含 60)以及 `hour` 是正值时，是合法的。`hour` 和 `minute` 应当是整数值，但我们也许需要允许 `second` 拥有小数值。"
   ]
  },
  {
   "cell_type": "markdown",
   "id": "039634d4",
   "metadata": {},
   "source": [
    "这些需求称为**不变式**，因为它们应当总是为真。换句话说，如果它们不为真，则一定有什么地方出错了。"
   ]
  },
  {
   "cell_type": "markdown",
   "id": "e2002bba",
   "metadata": {},
   "source": [
    "编写diamante来检查不变式可以帮你探测错误并找寻它们的根源。例如，你可以写一个像 `valid_time` 这样的函数，接收 `Time` 对象，并在它违反了一个不变式时，返回 `False`:"
   ]
  },
  {
   "cell_type": "code",
   "execution_count": 28,
   "id": "308b2c6e",
   "metadata": {},
   "outputs": [],
   "source": [
    "def valid_time(time):\n",
    "    if time.hour <0 or time.minute < 0 or time.second < 0:\n",
    "        return False\n",
    "    if time.minute >=60 or time.second >= 60:\n",
    "        return False\n",
    "    return True"
   ]
  },
  {
   "cell_type": "markdown",
   "id": "369df239",
   "metadata": {},
   "source": [
    "接着在每个函数的开头，可以检查参数，确保它们是有效的:"
   ]
  },
  {
   "cell_type": "code",
   "execution_count": null,
   "id": "a09e1d47",
   "metadata": {},
   "outputs": [],
   "source": [
    "def add_time(t1,t2):\n",
    "    if not valid_time(t1) or not valid_time(t2):\n",
    "        raise ValueError('invalid Time object in add_time')\n",
    "    seconds = time_to_int(t1) + time_to_int(t2)\n",
    "    return int_to_time(seconds)"
   ]
  },
  {
   "cell_type": "code",
   "execution_count": 29,
   "id": "fb2f8afb",
   "metadata": {},
   "outputs": [],
   "source": [
    "def add_time(t1,t2):\n",
    "    assert valid_time(t1) or not valid_time(t2):\n",
    "    seconds = time_to_int(t1) + time_to_int(t2)\n",
    "    return int_to_time(seconds)"
   ]
  },
  {
   "cell_type": "markdown",
   "id": "23a0e64b",
   "metadata": {},
   "source": [
    "`assert` 语句很有用，因为它们区分了处理普通条件的代码和检查错误的代码。"
   ]
  }
 ],
 "metadata": {
  "kernelspec": {
   "display_name": "Python 3",
   "language": "python",
   "name": "python3"
  },
  "language_info": {
   "codemirror_mode": {
    "name": "ipython",
    "version": 3
   },
   "file_extension": ".py",
   "mimetype": "text/x-python",
   "name": "python",
   "nbconvert_exporter": "python",
   "pygments_lexer": "ipython3",
   "version": "3.8.10"
  }
 },
 "nbformat": 4,
 "nbformat_minor": 5
}
