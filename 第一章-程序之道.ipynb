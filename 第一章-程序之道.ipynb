{
 "cells": [
  {
   "cell_type": "markdown",
   "metadata": {},
   "source": [
    "# 程序之道"
   ]
  },
  {
   "cell_type": "markdown",
   "metadata": {},
   "source": [
    "## 什么是程序"
   ]
  },
  {
   "cell_type": "markdown",
   "metadata": {},
   "source": [
    "**程序**: 一组定义如何进行计算的指令。"
   ]
  },
  {
   "cell_type": "markdown",
   "metadata": {},
   "source": [
    "**五种基本指令**\n",
    "* 输入：从键盘、文件或者其他设备中获取数据；\n",
    "* 输出：将数据显示到屏幕上，保存到文件中，或者发送到网络上等；\n",
    "* 数学：进行基本数学操作，如加法或乘法；\n",
    "* 条件执行：检查某种条件的状态，并执行相应的代码；\n",
    "* 重复：重复执行某种动作，往往在重复中有一些变化.\n",
    "\n",
    "所有程序, 都是由类似上面这些指令组成。"
   ]
  },
  {
   "cell_type": "markdown",
   "metadata": {},
   "source": [
    "## 运行Python"
   ]
  },
  {
   "cell_type": "markdown",
   "metadata": {},
   "source": [
    "安装Python3：https://www.python.org/downloads/"
   ]
  },
  {
   "cell_type": "markdown",
   "metadata": {},
   "source": [
    "**Python解释器**是一个读取并执行Python代码的程序。根据所在环境不同，可能需要点击程序图标，或者在命令行中键入python命令来启动解释器。启动后可看到如下输出"
   ]
  },
  {
   "cell_type": "markdown",
   "metadata": {},
   "source": [
    "```\n",
    "Python 3.8.10 (default, Jun  2 2021, 10:49:15) \n",
    "[GCC 9.4.0] on linux\n",
    "Type \"help\", \"copyright\", \"credits\" or \"license\" for more information.\n",
    ">>>\n",
    "```"
   ]
  },
  {
   "cell_type": "markdown",
   "metadata": {},
   "source": [
    "从信息中可以得到解释器和所运行的操作系统的信息，最后一行是一个 **提示符**，键入代码并按下Enter键，则会运行该行代码"
   ]
  },
  {
   "cell_type": "markdown",
   "metadata": {},
   "source": [
    "## 第一个程序"
   ]
  },
  {
   "cell_type": "markdown",
   "metadata": {},
   "source": [
    "依照传统，用新语言编写第一个程序 \"Hello,World\""
   ]
  },
  {
   "cell_type": "code",
   "execution_count": 6,
   "metadata": {},
   "outputs": [
    {
     "name": "stdout",
     "output_type": "stream",
     "text": [
      "Hello World!\n"
     ]
    }
   ],
   "source": [
    "print('Hello World!')"
   ]
  },
  {
   "cell_type": "markdown",
   "metadata": {},
   "source": [
    "## 算术操作符"
   ]
  },
  {
   "cell_type": "markdown",
   "metadata": {},
   "source": [
    "Python提供了**操作符**：\n",
    "* \\+ 加法运算\n",
    "* \\- 减法运算\n",
    "* \\* 乘法运算\n",
    "* \\/ 除法运算\n",
    "* ** 指数运算\n",
    "* // 除法运算, 保留整数位\n",
    "* % 取余运算"
   ]
  },
  {
   "cell_type": "markdown",
   "metadata": {},
   "source": [
    "## 值和类型"
   ]
  },
  {
   "cell_type": "markdown",
   "metadata": {},
   "source": [
    "**值**(value)是程序操作的最基本的东西，如一个字母或者数字。"
   ]
  },
  {
   "cell_type": "markdown",
   "metadata": {},
   "source": [
    "值可以分为不同的**类型**，例如，2是**整型**(integer)，42.0是**浮点型**(floating-point)，'Hello,World!'是**字符串**(string)类型的。"
   ]
  },
  {
   "cell_type": "markdown",
   "metadata": {},
   "source": [
    "Python的标准数据类型：\n",
    "+ number(数字)：\n",
    "    1. int(有符号整型)    \n",
    "    1. float(浮点型)\n",
    "    1. complex(复数)\n",
    "    1. bool(布尔型)\n",
    "+ list(列表)\n",
    "+ str(字符串)\n",
    "+ dict(字典)\n",
    "+ tuple(元组)\n",
    "+ set(集合)"
   ]
  },
  {
   "cell_type": "markdown",
   "metadata": {},
   "source": [
    "可以用type()确认值的类型"
   ]
  },
  {
   "cell_type": "code",
   "execution_count": 2,
   "metadata": {},
   "outputs": [
    {
     "data": {
      "text/plain": [
       "int"
      ]
     },
     "execution_count": 2,
     "metadata": {},
     "output_type": "execute_result"
    }
   ],
   "source": [
    "type(2)"
   ]
  },
  {
   "cell_type": "code",
   "execution_count": 3,
   "metadata": {},
   "outputs": [
    {
     "data": {
      "text/plain": [
       "float"
      ]
     },
     "execution_count": 3,
     "metadata": {},
     "output_type": "execute_result"
    }
   ],
   "source": [
    "type(42.0)"
   ]
  },
  {
   "cell_type": "code",
   "execution_count": 4,
   "metadata": {},
   "outputs": [
    {
     "data": {
      "text/plain": [
       "str"
      ]
     },
     "execution_count": 4,
     "metadata": {},
     "output_type": "execute_result"
    }
   ],
   "source": [
    "type('Hello,World!')"
   ]
  },
  {
   "cell_type": "code",
   "execution_count": 5,
   "metadata": {},
   "outputs": [
    {
     "data": {
      "text/plain": [
       "str"
      ]
     },
     "execution_count": 5,
     "metadata": {},
     "output_type": "execute_result"
    }
   ],
   "source": [
    "type('2')"
   ]
  },
  {
   "cell_type": "code",
   "execution_count": 6,
   "metadata": {},
   "outputs": [
    {
     "data": {
      "text/plain": [
       "str"
      ]
     },
     "execution_count": 6,
     "metadata": {},
     "output_type": "execute_result"
    }
   ],
   "source": [
    "type('42.0')"
   ]
  },
  {
   "cell_type": "markdown",
   "metadata": {},
   "source": [
    "## 形式语言和自然语言"
   ]
  },
  {
   "cell_type": "markdown",
   "metadata": {},
   "source": [
    "**自然语言**：人们所说的语言，如汉语、英语、西班牙语和法语等。它们不是由人设计而来的，而是自然演化而来的。"
   ]
  },
  {
   "cell_type": "markdown",
   "metadata": {},
   "source": [
    "**形式语言**：人们为了特殊用途设计的语言。例如，数学上使用的符号体系是一种特别擅于表示数字和符号之间的形式语言。而**编程语言是人们为了表达计算过程而设计出来的形式语言**。"
   ]
  },
  {
   "cell_type": "markdown",
   "metadata": {},
   "source": [
    "编程语言的要素：\n",
    "* 记号(token)：程序语法结构的最基本单位，类似于自然语言中的词；\n",
    "* 结构(structure)：指定记号所组合的方式；\n",
    "* 语法(syntax)：用于控制程序结构的规则；\n",
    "* 语义(semantics)：程序表达的含义。"
   ]
  },
  {
   "cell_type": "markdown",
   "metadata": {},
   "source": [
    "形式语言与自然语言的区别：\n",
    "* **歧义性：** 自然语言充满歧义，需要通过上下文线索和其他信息来处理歧义；形式语言几乎或完全没有歧义，不论上下文环境如何，任何表达式都只有一个含义。\n",
    "* **冗余性：** 为了弥补歧义，自然语言采用大量冗余；形式语言相对不那么冗余，更加简洁。\n",
    "* **字面性：** 自然语言充满了习惯用语和比喻；形式语言则严格按照它的字面意思表达含义。"
   ]
  },
  {
   "cell_type": "markdown",
   "metadata": {},
   "source": [
    "## 调试"
   ]
  },
  {
   "cell_type": "markdown",
   "metadata": {},
   "source": [
    "程序是很容易出错的，程序错误被称为bug，查补bug的过程称为调试(debugging)。"
   ]
  },
  {
   "cell_type": "markdown",
   "metadata": {},
   "source": [
    "程序中出现的错误可分为三种类型：\n",
    "* **语法错误：** 代码不符合程序的基本语法规范，无法进行语法解析，也不能被解释器执行。\n",
    "* **运行时错误：** 程序执行后才会出现，程序执行过程中导致程序终止失败的错误。\n",
    "* **语义错误：** 程序所做的事情不是程序员设想的，"
   ]
  },
  {
   "cell_type": "code",
   "execution_count": null,
   "metadata": {},
   "outputs": [],
   "source": []
  }
 ],
 "metadata": {
  "kernelspec": {
   "display_name": "Python 3",
   "language": "python",
   "name": "python3"
  },
  "language_info": {
   "codemirror_mode": {
    "name": "ipython",
    "version": 3
   },
   "file_extension": ".py",
   "mimetype": "text/x-python",
   "name": "python",
   "nbconvert_exporter": "python",
   "pygments_lexer": "ipython3",
   "version": "3.8.10"
  }
 },
 "nbformat": 4,
 "nbformat_minor": 2
}
