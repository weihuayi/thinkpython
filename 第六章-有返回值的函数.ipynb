{
 "cells": [
  {
   "cell_type": "markdown",
   "metadata": {},
   "source": [
    "## 返回值"
   ]
  },
  {
   "cell_type": "markdown",
   "metadata": {},
   "source": [
    "调用函数会产生一个返回值，我们一般会将它赋值给一个变量或者用作表达式的组成部分:"
   ]
  },
  {
   "cell_type": "code",
   "execution_count": 2,
   "metadata": {},
   "outputs": [],
   "source": [
    "import math\n",
    "e = math.exp(1.0)"
   ]
  },
  {
   "cell_type": "markdown",
   "metadata": {},
   "source": [
    "之前，我们只写了无返回值函数，他们返回的值是 `None`。在本章，我们会学习有返回值函数。例如:"
   ]
  },
  {
   "cell_type": "code",
   "execution_count": 19,
   "metadata": {},
   "outputs": [],
   "source": [
    "def area(radius):\n",
    "    a = math.pi*radius**2\n",
    "    return a"
   ]
  },
  {
   "cell_type": "markdown",
   "metadata": {},
   "source": [
    "在有返回值函数中，`return` 语句包含了一个表达式。这个语句的意思是:“立即从这个函数中返回，并使用后面的表达式作为返回值。”表达式可以任意复杂，所以我们可以把这个函数写得更紧凑:"
   ]
  },
  {
   "cell_type": "code",
   "execution_count": 5,
   "metadata": {},
   "outputs": [],
   "source": [
    "def area(radius):\n",
    "    return math.pi*radius**2"
   ]
  },
  {
   "cell_type": "markdown",
   "metadata": {},
   "source": [
    "不过，类似于a这样的**临时变量**常常会让调试更容易。临时变量即指在复杂计算中用于保存中间计算值的变量。"
   ]
  },
  {
   "cell_type": "markdown",
   "metadata": {},
   "source": [
    "有时函数中针对不同的条件分支，各有各的返回语句会很有用处:"
   ]
  },
  {
   "cell_type": "code",
   "execution_count": 6,
   "metadata": {},
   "outputs": [],
   "source": [
    "def absolute_value(x):\n",
    "    if x<0:\n",
    "        return -x\n",
    "    else:\n",
    "        return x"
   ]
  },
  {
   "cell_type": "markdown",
   "metadata": {},
   "source": [
    "需要注意，一旦 `return` 语句运行，当前的函数就会终结，后面的语句就不会执行。`return` 语句之后的代码，或者在其他程序流程中永远不可能达到的地方的代码，称为**无效代码**。因此在有返回函数中，保证每个可能执行路径上都会遇到 `return` 语句，是个很好的主要。"
   ]
  },
  {
   "cell_type": "markdown",
   "metadata": {},
   "source": [
    "## 增量开发"
   ]
  },
  {
   "cell_type": "markdown",
   "metadata": {},
   "source": [
    "**增量开发**是一种开发复杂函数的策略。它的目标是通过每次只增加和测试一小部分代码，来避免长时间的调试过程。"
   ]
  },
  {
   "cell_type": "markdown",
   "metadata": {},
   "source": [
    "举例来说明，编写一个计算两点距离的函数。\n",
    "\n",
    "首先需要思考的是，需要输入什么，输出什么。计算两点距离，因此我们需要输入两个点的数据，可以输入两个点的 $x$, $y$ 坐标共四个数据。需要输出距离，故返回值为距离。"
   ]
  },
  {
   "cell_type": "markdown",
   "metadata": {},
   "source": [
    "因此可以初步写出该函数:"
   ]
  },
  {
   "cell_type": "code",
   "execution_count": 8,
   "metadata": {},
   "outputs": [],
   "source": [
    "def distance(x1,y1,x2,y2):\n",
    "    return 0.0"
   ]
  },
  {
   "cell_type": "markdown",
   "metadata": {},
   "source": [
    "显然目前计算的不是距离，它返回 0。不过它的语法结构正确，且能运行，因此可以在继续开发更复杂的功能前对它进行初步的测试。"
   ]
  },
  {
   "cell_type": "markdown",
   "metadata": {},
   "source": [
    "要测试这个函数，可以使用样本参数调用它:"
   ]
  },
  {
   "cell_type": "code",
   "execution_count": 16,
   "metadata": {},
   "outputs": [
    {
     "name": "stdout",
     "output_type": "stream",
     "text": [
      "dsquared is: 25\n"
     ]
    },
    {
     "data": {
      "text/plain": [
       "0.0"
      ]
     },
     "execution_count": 16,
     "metadata": {},
     "output_type": "execute_result"
    }
   ],
   "source": [
    "distance(1,2,4,6)"
   ]
  },
  {
   "cell_type": "markdown",
   "metadata": {},
   "source": [
    "之所以选择这组数据，是因为这两点是 3-4-5 直角三角形的斜边，即结果是 5。测试一个函数时，事先知道正确的结果也是很重要的。"
   ]
  },
  {
   "cell_type": "markdown",
   "metadata": {},
   "source": [
    "在确认函数的语法形式正确后，就可以给函数体添加代码了。给定坐标 $(x_1,y_1),(x_2,y_2)$，则距离为 \n",
    "\n",
    "$$\n",
    "\\sqrt{(x_2-x_1)^2+(y_2-y1)^2}\n",
    "$$\n",
    "\n",
    "因此，下一个步骤为找到距离差 $x_2-x_1$ 和 $y_2-y_1$。"
   ]
  },
  {
   "cell_type": "code",
   "execution_count": 12,
   "metadata": {},
   "outputs": [
    {
     "name": "stdout",
     "output_type": "stream",
     "text": [
      "dx is 3\n",
      "dy is 4\n"
     ]
    },
    {
     "data": {
      "text/plain": [
       "0.0"
      ]
     },
     "execution_count": 12,
     "metadata": {},
     "output_type": "execute_result"
    }
   ],
   "source": [
    "def distance(x1,y1,x2,y2):\n",
    "    dx = x2-x1\n",
    "    dy = y2-y1\n",
    "    print('dx is',dx)\n",
    "    print('dy is',dy)\n",
    "    return 0.0\n",
    "distance(1,2,4,6)"
   ]
  },
  {
   "cell_type": "markdown",
   "metadata": {},
   "source": [
    "由显示可得，函数正确地获得了实参，并正确地执行了第一步计算。因此下一步计算 $dx$ 和 $dy$ 的平方和"
   ]
  },
  {
   "cell_type": "code",
   "execution_count": 15,
   "metadata": {},
   "outputs": [
    {
     "name": "stdout",
     "output_type": "stream",
     "text": [
      "dsquared is: 25\n"
     ]
    },
    {
     "data": {
      "text/plain": [
       "0.0"
      ]
     },
     "execution_count": 15,
     "metadata": {},
     "output_type": "execute_result"
    }
   ],
   "source": [
    "def distance(x1,y1,x2,y2):\n",
    "    dx = x2-x1\n",
    "    dy = y2-y1\n",
    "    dsquared = dx**2+dy**2\n",
    "    print('dsquared is:',dsquared)\n",
    "    return 0.0\n",
    "distance(1,2,4,6)"
   ]
  },
  {
   "cell_type": "markdown",
   "metadata": {},
   "source": [
    "输出正确，因此进行下一步，使用 `math.sqrt` 计算并返回结果"
   ]
  },
  {
   "cell_type": "code",
   "execution_count": 18,
   "metadata": {},
   "outputs": [
    {
     "data": {
      "text/plain": [
       "5.0"
      ]
     },
     "execution_count": 18,
     "metadata": {},
     "output_type": "execute_result"
    }
   ],
   "source": [
    "def distance(x1,y1,x2,y2):\n",
    "    dx = x2-x1\n",
    "    dy = y2-y1\n",
    "    dsquared = dx**2+dy**2\n",
    "    result = math.sqrt(dsquared)\n",
    "    return result\n",
    "distance(1,2,4,6)"
   ]
  },
  {
   "cell_type": "markdown",
   "metadata": {},
   "source": [
    "注意到，最终版本的代码中，我们删掉了 `print` 语句。虽然 `print` 语句在调试中很有用，但最终版本的代码中并不需要他们。这种代码称为**脚手架代码(scaffolding)**,因为他们在构建程序的过程中很有用，但并不是最终产品的一部分。"
   ]
  },
  {
   "cell_type": "markdown",
   "metadata": {},
   "source": [
    "增量开发的过程中有几个关键点                                                                  : "
   ]
  },
  {
   "cell_type": "markdown",
   "metadata": {},
   "source": [
    "* 以一个可以正确运行的程序开始，每次只做小的增量修改。这样每次都知道错误在哪里修改。\n",
    "\n",
    "* 使用临时变量保存计算的中间结果，可以用于显示和检查。\n",
    "\n",
    "* 整个程序完成后，可以删除掉某些脚手架代码或者把多个语句综合到一个复杂表达式中。"
   ]
  },
  {
   "cell_type": "markdown",
   "metadata": {},
   "source": [
    "## 组合"
   ]
  },
  {
   "cell_type": "markdown",
   "metadata": {},
   "source": [
    "我们可以将几个函数组合起来，将简单的函数组合实现更复杂的功能。例如，利用上面写好的函数 `distance()` 和 `area()`，来计算圆的面积。给定圆心的坐标和圆周上某点的坐标，有"
   ]
  },
  {
   "cell_type": "code",
   "execution_count": 20,
   "metadata": {},
   "outputs": [],
   "source": [
    "def circle_area(xc,yc,xp,yp):\n",
    "    radius = distance(xc,yc,xp,yp)\n",
    "    result = area(radius)\n",
    "    return result"
   ]
  },
  {
   "cell_type": "markdown",
   "metadata": {},
   "source": [
    "临时变量 `radius` 和 `result` 在开发和调试时有用，不过程序能够正常运行后，我们就可以使用函数组合来简化函数:"
   ]
  },
  {
   "cell_type": "code",
   "execution_count": 21,
   "metadata": {},
   "outputs": [],
   "source": [
    "def circle_area(xc,yc,xp,yp):\n",
    "    return area(distance(xc,yc,xp,yp))"
   ]
  },
  {
   "cell_type": "markdown",
   "metadata": {},
   "source": [
    "## 布尔函数"
   ]
  },
  {
   "cell_type": "markdown",
   "metadata": {},
   "source": [
    "函数可以返回布尔值，这样可以很方便地隐藏函数内复杂的检测。"
   ]
  },
  {
   "cell_type": "code",
   "execution_count": 22,
   "metadata": {},
   "outputs": [],
   "source": [
    "def is_divisible(x,y):\n",
    "    if x%y==0:\n",
    "        return True\n",
    "    else:\n",
    "        return False"
   ]
  },
  {
   "cell_type": "markdown",
   "metadata": {},
   "source": [
    "一般我们把布尔函数都命名为这种**是/否的问句**。该函数返回 `True` 或 `False`，表示 `x` 是否可以被 `y` 整除。"
   ]
  },
  {
   "cell_type": "code",
   "execution_count": 28,
   "metadata": {},
   "outputs": [
    {
     "name": "stdout",
     "output_type": "stream",
     "text": [
      "False\n",
      "True\n"
     ]
    }
   ],
   "source": [
    "print(is_divisible(6,4))\n",
    "print(is_divisible(6,3))"
   ]
  },
  {
   "cell_type": "markdown",
   "metadata": {},
   "source": [
    "`==` 操作符的结果是一个布尔值，所以我们可以把这个函数写得更紧凑:"
   ]
  },
  {
   "cell_type": "code",
   "execution_count": 26,
   "metadata": {},
   "outputs": [],
   "source": [
    "def is_divisible(x,y):\n",
    "    return x%y ==0"
   ]
  },
  {
   "cell_type": "markdown",
   "metadata": {},
   "source": [
    "我们可以把布尔函数用于条件语句:"
   ]
  },
  {
   "cell_type": "code",
   "execution_count": 31,
   "metadata": {},
   "outputs": [
    {
     "name": "stdout",
     "output_type": "stream",
     "text": [
      "x is divisible by y\n"
     ]
    }
   ],
   "source": [
    "x = 6\n",
    "y = 3\n",
    "if is_divisible(x,y):\n",
    "    print('x is divisible by y')"
   ]
  },
  {
   "cell_type": "markdown",
   "metadata": {},
   "source": [
    "## 再谈递归"
   ]
  },
  {
   "cell_type": "markdown",
   "metadata": {},
   "source": [
    "至今为止，我们只涉及 Python 的一个很小的子集，但这个子集已经是一个完备的编程语言，也就是说，任何可以计算的问题，都可以用这个子集语言来完成。任何已有的程序，都可以用现在已经学会的语言特性重写出来。 \n",
    "\n",
    "证明这个论断并不简单。该证明最早是由图灵完成的，因此，这被称为图灵问题。"
   ]
  },
  {
   "cell_type": "markdown",
   "metadata": {},
   "source": [
    "为了初步了解如何使用我们现在学会的工具，我们再来考虑一个递归定义的数学函数。以**阶乘(!)** 为例，其定义为\n",
    "\n",
    "$$\n",
    "0!=1, \\quad n!=n(n-1)！\n",
    "$$"
   ]
  },
  {
   "cell_type": "markdown",
   "metadata": {},
   "source": [
    "这个定义说明 0 的阶乘是 1，而任意其他值 n 的阶乘是 n-1 的阶乘乘 n。我们可以使用递归定义来藐视阶乘，自然就可以使用 Python 程序来计算它。"
   ]
  },
  {
   "cell_type": "code",
   "execution_count": 3,
   "metadata": {},
   "outputs": [],
   "source": [
    "def factorial(n):\n",
    "    if n==0:\n",
    "        return 1\n",
    "    else:\n",
    "        recurse = factorial(n-1)\n",
    "        result = n*recurse\n",
    "        return result"
   ]
  },
  {
   "cell_type": "markdown",
   "metadata": {},
   "source": [
    "若我们使用实参值 3 调用 `factorial()`\n",
    "* 因为 3 不是0 ，我们使用第二个分支，计算 n-1 的阶乘......\n",
    "    * 因为 2 不是0，我们使用第二个分支，计算 n-1 的阶乘......\n",
    "        * 因为 1 不是 0，我们使用第二个分支，计算 n-1 的阶乘......\n",
    "            * 因为 0 等于 0，我们使用第一个分支并返回 1，不再需要进行任何递归调用了\n",
    "        * 返回值 (1) 乘 n=1，结果返回\n",
    "    * 返回值 (1) 乘 n=2，结果返回\n",
    "* 返回值 (2) 乘 n=3，结果是 6，而这个结果就是整个函数的返回值"
   ]
  },
  {
   "cell_type": "markdown",
   "metadata": {},
   "source": [
    "<img src='figures/栈图6-1.jpg'>"
   ]
  },
  {
   "cell_type": "markdown",
   "metadata": {},
   "source": [
    "栈图如上所示。结果值在图中显示为沿着栈向上回传。在每个帧中，返回值是 `result` 的值，即 `n` 和 `recurse` 的乘积。"
   ]
  },
  {
   "cell_type": "markdown",
   "metadata": {},
   "source": [
    "最后一帧中，局部变量 `recurse` 和 `result` 不存在，因为新建它们的分支并没有运行。"
   ]
  },
  {
   "cell_type": "markdown",
   "metadata": {},
   "source": [
    "## 坚持信念"
   ]
  },
  {
   "cell_type": "markdown",
   "metadata": {},
   "source": [
    "跟踪程序执行的流程是阅读程序的一个办法，但这种办法效率较低。"
   ]
  },
  {
   "cell_type": "markdown",
   "metadata": {},
   "source": [
    "这里介绍另一个方法:**坚持信念**，即假定函数是正确工作的，能够返回正确的结果。"
   ]
  },
  {
   "cell_type": "markdown",
   "metadata": {},
   "source": [
    "事实上，在使用内置函数时，我们已经在这样尝试着坚持信念了。我们一般不会怀疑内置函数会出现错误。对于我们自己写的函数，我们也要有这种信念，这种信念并不是盲目的相信，而是对我们的函数经过测试和检查所得到的结果，在确信这个函数是正确的之后，我们就可以直接使用它，而不需要再细看内部实现了。"
   ]
  },
  {
   "cell_type": "markdown",
   "metadata": {},
   "source": [
    "## 另一个示例"
   ]
  },
  {
   "cell_type": "markdown",
   "metadata": {},
   "source": [
    "除阶乘 factorial 之外，最常见的递归数学定义是斐波那契数列，其定义如下:\n",
    "\n",
    "fibonacci(0)=0\n",
    "\n",
    "fibonacci(1)=1\n",
    "\n",
    "fibonacci(n)=fibonacci(n-1)+fibonacci(n-2)"
   ]
  },
  {
   "cell_type": "markdown",
   "metadata": {},
   "source": [
    "用python来写，为"
   ]
  },
  {
   "cell_type": "code",
   "execution_count": 4,
   "metadata": {},
   "outputs": [],
   "source": [
    "def fibonacci(n):\n",
    "    if n==0:\n",
    "        return 0\n",
    "    elif n==1:\n",
    "        return 1\n",
    "    else:\n",
    "        return fibonacci(n-1) + fibonacci(n-2)"
   ]
  },
  {
   "cell_type": "markdown",
   "metadata": {},
   "source": [
    "## 检查类型"
   ]
  },
  {
   "cell_type": "markdown",
   "metadata": {},
   "source": [
    "若我们调用 `factorial` 函数，并给定 1.5 作为实参"
   ]
  },
  {
   "cell_type": "code",
   "execution_count": 6,
   "metadata": {},
   "outputs": [
    {
     "ename": "RecursionError",
     "evalue": "maximum recursion depth exceeded in comparison",
     "output_type": "error",
     "traceback": [
      "\u001b[0;31m---------------------------------------------------------------------------\u001b[0m",
      "\u001b[0;31mRecursionError\u001b[0m                            Traceback (most recent call last)",
      "\u001b[0;32m<ipython-input-6-3520c8deda00>\u001b[0m in \u001b[0;36m<module>\u001b[0;34m\u001b[0m\n\u001b[0;32m----> 1\u001b[0;31m \u001b[0mprint\u001b[0m\u001b[0;34m(\u001b[0m\u001b[0mfactorial\u001b[0m\u001b[0;34m(\u001b[0m\u001b[0;36m1.5\u001b[0m\u001b[0;34m)\u001b[0m\u001b[0;34m)\u001b[0m\u001b[0;34m\u001b[0m\u001b[0;34m\u001b[0m\u001b[0m\n\u001b[0m",
      "\u001b[0;32m<ipython-input-3-6cffe41a5468>\u001b[0m in \u001b[0;36mfactorial\u001b[0;34m(n)\u001b[0m\n\u001b[1;32m      3\u001b[0m         \u001b[0;32mreturn\u001b[0m \u001b[0;36m1\u001b[0m\u001b[0;34m\u001b[0m\u001b[0;34m\u001b[0m\u001b[0m\n\u001b[1;32m      4\u001b[0m     \u001b[0;32melse\u001b[0m\u001b[0;34m:\u001b[0m\u001b[0;34m\u001b[0m\u001b[0;34m\u001b[0m\u001b[0m\n\u001b[0;32m----> 5\u001b[0;31m         \u001b[0mrecurse\u001b[0m \u001b[0;34m=\u001b[0m \u001b[0mfactorial\u001b[0m\u001b[0;34m(\u001b[0m\u001b[0mn\u001b[0m\u001b[0;34m-\u001b[0m\u001b[0;36m1\u001b[0m\u001b[0;34m)\u001b[0m\u001b[0;34m\u001b[0m\u001b[0;34m\u001b[0m\u001b[0m\n\u001b[0m\u001b[1;32m      6\u001b[0m         \u001b[0mresult\u001b[0m \u001b[0;34m=\u001b[0m \u001b[0mn\u001b[0m\u001b[0;34m*\u001b[0m\u001b[0mrecurse\u001b[0m\u001b[0;34m\u001b[0m\u001b[0;34m\u001b[0m\u001b[0m\n\u001b[1;32m      7\u001b[0m         \u001b[0;32mreturn\u001b[0m \u001b[0mresult\u001b[0m\u001b[0;34m\u001b[0m\u001b[0;34m\u001b[0m\u001b[0m\n",
      "... last 1 frames repeated, from the frame below ...\n",
      "\u001b[0;32m<ipython-input-3-6cffe41a5468>\u001b[0m in \u001b[0;36mfactorial\u001b[0;34m(n)\u001b[0m\n\u001b[1;32m      3\u001b[0m         \u001b[0;32mreturn\u001b[0m \u001b[0;36m1\u001b[0m\u001b[0;34m\u001b[0m\u001b[0;34m\u001b[0m\u001b[0m\n\u001b[1;32m      4\u001b[0m     \u001b[0;32melse\u001b[0m\u001b[0;34m:\u001b[0m\u001b[0;34m\u001b[0m\u001b[0;34m\u001b[0m\u001b[0m\n\u001b[0;32m----> 5\u001b[0;31m         \u001b[0mrecurse\u001b[0m \u001b[0;34m=\u001b[0m \u001b[0mfactorial\u001b[0m\u001b[0;34m(\u001b[0m\u001b[0mn\u001b[0m\u001b[0;34m-\u001b[0m\u001b[0;36m1\u001b[0m\u001b[0;34m)\u001b[0m\u001b[0;34m\u001b[0m\u001b[0;34m\u001b[0m\u001b[0m\n\u001b[0m\u001b[1;32m      6\u001b[0m         \u001b[0mresult\u001b[0m \u001b[0;34m=\u001b[0m \u001b[0mn\u001b[0m\u001b[0;34m*\u001b[0m\u001b[0mrecurse\u001b[0m\u001b[0;34m\u001b[0m\u001b[0;34m\u001b[0m\u001b[0m\n\u001b[1;32m      7\u001b[0m         \u001b[0;32mreturn\u001b[0m \u001b[0mresult\u001b[0m\u001b[0;34m\u001b[0m\u001b[0;34m\u001b[0m\u001b[0m\n",
      "\u001b[0;31mRecursionError\u001b[0m: maximum recursion depth exceeded in comparison"
     ]
    }
   ],
   "source": [
    "print(factorial(1.5))"
   ]
  },
  {
   "cell_type": "markdown",
   "metadata": {},
   "source": [
    "发现会报出无限递归的错误，这是因为函数中有一个基准情形:当 `n==0` 时。但如果 `n` 不是整数，我们就可能错过这个基准情形，而永远递归下去。"
   ]
  },
  {
   "cell_type": "markdown",
   "metadata": {},
   "source": [
    "为了处理这种情况，我们有两个选择，第一可以尝试泛化函数 `factorial`，使之能正确处理浮点数，或者可以让 `factorial` 检查其实参的类型。我们选择第二个。我们使用内置函数 `isinstance()` 来检查实参的类型。"
   ]
  },
  {
   "cell_type": "code",
   "execution_count": 7,
   "metadata": {},
   "outputs": [],
   "source": [
    "def factorial(n):\n",
    "    if not isinstance(n,int):\n",
    "        print('Factorial is only defined for integers.')\n",
    "        return None\n",
    "    elif n<0:\n",
    "        print('Factorial is not defined for negative integers')\n",
    "        return None\n",
    "    elif n==0:\n",
    "        return 1\n",
    "    else:\n",
    "        return n*factorial(n-1)"
   ]
  },
  {
   "cell_type": "markdown",
   "metadata": {},
   "source": [
    "第一个基准情况处理非整数，第二个处理负数。这两种情况下，程序打印一个错误信息并返回 `None`,表示出现了问题"
   ]
  },
  {
   "cell_type": "code",
   "execution_count": 8,
   "metadata": {},
   "outputs": [
    {
     "name": "stdout",
     "output_type": "stream",
     "text": [
      "Factorial is only defined for integers.\n"
     ]
    }
   ],
   "source": [
    "factorial('fred')"
   ]
  },
  {
   "cell_type": "code",
   "execution_count": 9,
   "metadata": {},
   "outputs": [
    {
     "name": "stdout",
     "output_type": "stream",
     "text": [
      "Factorial is not defined for negative integers\n"
     ]
    }
   ],
   "source": [
    "factorial(-2)"
   ]
  },
  {
   "cell_type": "markdown",
   "metadata": {},
   "source": [
    "如果我们通过了这两个测试，就能确保知道 `n` 是正数或 `0`，所以我们可以证明递归必然终结。"
   ]
  },
  {
   "cell_type": "markdown",
   "metadata": {},
   "source": [
    "我们把这种编程模式称为**守卫**，即使用条件语句来检查并处理可能产生错误的情形。在这个示例中，前两个条件就像守卫一样，保护后面的代码，以免出现错误。守卫使得证明代码的正确性成为可能。"
   ]
  },
  {
   "cell_type": "markdown",
   "metadata": {},
   "source": [
    "## 调试"
   ]
  },
  {
   "cell_type": "markdown",
   "metadata": {},
   "source": [
    "如果一个函数不能正常工作，可以考虑三种可能性:\n",
    "1. 函数获得的实参有问题，某个**前置条件**没有达到\n",
    "1. 函数本身有问题，某个**后置条件**没有达到\n",
    "1. 函数的返回值有问题，或者使用的方式不正确"
   ]
  },
  {
   "cell_type": "markdown",
   "metadata": {},
   "source": [
    "要排除第一种可能性，可以在函数开始的地方加上 `print` 语句，显示实参的值(以及他们的类型)。或者可以添加代码来显式地检查前置条件。"
   ]
  },
  {
   "cell_type": "markdown",
   "metadata": {},
   "source": [
    "如果实参看起来没错，在每个 `return` 语句前添加 `print` 语句，显示返回值。如果有可能，手动检查返回值。考虑使用能更容易检验结果的实参来调用函数。"
   ]
  },
  {
   "cell_type": "markdown",
   "metadata": {},
   "source": [
    "如果函数看起来正常，检查调用它的代码，确保返回值被正常使用。"
   ]
  },
  {
   "cell_type": "markdown",
   "metadata": {},
   "source": [
    "在函数的开端和结尾处增加 `print` 语句，能帮助我们更清晰地了解函数的执行流程。"
   ]
  },
  {
   "cell_type": "code",
   "execution_count": 10,
   "metadata": {},
   "outputs": [],
   "source": [
    "def factorial(n):\n",
    "    space=' '*(4*n)\n",
    "    print(space,'factorial',n)\n",
    "    if n==0:\n",
    "        print(space,'returning 1')\n",
    "        return 1\n",
    "    else:\n",
    "        recurse = factorial(n-1)\n",
    "        result = n*recurse\n",
    "        print(space,'returning',result)\n",
    "        return result"
   ]
  },
  {
   "cell_type": "markdown",
   "metadata": {},
   "source": [
    "我们写了一个添加了 `print` 语句的 `factorial` 函数，space 是一个字符串，包含多个空格，用来控制输出内容的缩进。下面是调用 `factorial` 的结果:"
   ]
  },
  {
   "cell_type": "code",
   "execution_count": 11,
   "metadata": {},
   "outputs": [
    {
     "name": "stdout",
     "output_type": "stream",
     "text": [
      "                 factorial 4\n",
      "             factorial 3\n",
      "         factorial 2\n",
      "     factorial 1\n",
      " factorial 0\n",
      " returning 1\n",
      "     returning 1\n",
      "         returning 2\n",
      "             returning 6\n",
      "                 returning 24\n"
     ]
    },
    {
     "data": {
      "text/plain": [
       "24"
      ]
     },
     "execution_count": 11,
     "metadata": {},
     "output_type": "execute_result"
    }
   ],
   "source": [
    "factorial(4)"
   ]
  },
  {
   "cell_type": "markdown",
   "metadata": {},
   "source": [
    "如果对函数调用的流程有困惑，这种输出可以帮忙。开发有效的脚手架需要花费时间，但一点点脚手架可以节省大量的调试。"
   ]
  }
 ],
 "metadata": {
  "kernelspec": {
   "display_name": "Python 3 (ipykernel)",
   "language": "python",
   "name": "python3"
  },
  "language_info": {
   "codemirror_mode": {
    "name": "ipython",
    "version": 3
   },
   "file_extension": ".py",
   "mimetype": "text/x-python",
   "name": "python",
   "nbconvert_exporter": "python",
   "pygments_lexer": "ipython3",
   "version": "3.8.10"
  }
 },
 "nbformat": 4,
 "nbformat_minor": 2
}
