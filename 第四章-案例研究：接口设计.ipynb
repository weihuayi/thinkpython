{
 "cells": [
  {
   "cell_type": "markdown",
   "metadata": {},
   "source": [
    "Turtle库是Python语言中绘制图形的流行库。就像一只小海龟，从一个坐标系统的原点(0,0)开始，横轴为x，纵轴为y，在一组函数指令的控制下在平面坐标系统中移动，从而沿着它的爬行路径画出一个图。"
   ]
  },
  {
   "cell_type": "markdown",
   "metadata": {},
   "source": [
    "因为在jupyter notbook中使用turtle模块会出现不少问题，因此在课件中不进行turtle相关代码的运行。"
   ]
  },
  {
   "cell_type": "markdown",
   "metadata": {},
   "source": [
    "```python\n",
    "import turtle\n",
    "bob = turtle.Turtle()\n",
    "print(bob)\n",
    "turtle.mainloop()\n",
    "```"
   ]
  },
  {
   "cell_type": "markdown",
   "metadata": {},
   "source": [
    "turtle模块提供一个叫作Trutle的函数，它会创建一个Turtle对象，我们将其赋值到bob变量。"
   ]
  },
  {
   "cell_type": "markdown",
   "metadata": {},
   "source": [
    "mainloop告诉窗口去等待用户进行某些操作，不过目前除了关闭窗口之外，并没有提供给用户多少有用的操作。"
   ]
  },
  {
   "cell_type": "markdown",
   "metadata": {},
   "source": [
    "创建好一个乌龟(Turtle)后，就可以调用它的一个**方法**来在窗口中移动。方法和函数类似，但是使用的语法略有不同。例如，要让乌龟向前移动:"
   ]
  },
  {
   "cell_type": "markdown",
   "metadata": {},
   "source": [
    "```python\n",
    "bob.fd(100)\n",
    "```"
   ]
  },
  {
   "cell_type": "markdown",
   "metadata": {},
   "source": [
    "这个方法fd和我们称为bob的乌龟对象是关联的。调用方法和发出一个请求类似:你在请求bob去向前移动。fd的参数是移动的距离，以像素为单位，所以实际移动的距离依赖于显示器的分辨率。"
   ]
  },
  {
   "cell_type": "markdown",
   "metadata": {},
   "source": [
    "Turtle对象的其他方法包括bk(用于前进和后退),lt和rt(用于左转和右转)。lt和rt的参数是旋转的角度，单位是度。"
   ]
  },
  {
   "cell_type": "markdown",
   "metadata": {},
   "source": [
    "## 简单重复"
   ]
  },
  {
   "cell_type": "markdown",
   "metadata": {},
   "source": [
    "若你想画一个正方形，可能会写如下代码:"
   ]
  },
  {
   "cell_type": "markdown",
   "metadata": {},
   "source": [
    "```python\n",
    "bob.fd(100)\n",
    "bob.lt(90)\n",
    "\n",
    "bob.fd(100)\n",
    "bob.lt(90)\n",
    "\n",
    "bob.fd(100)\n",
    "bob.lt(90)\n",
    "\n",
    "bob.fd(100)\n",
    "```"
   ]
  },
  {
   "cell_type": "markdown",
   "metadata": {},
   "source": [
    "但我们使用for语句，可以更紧凑地实现同样功能。"
   ]
  },
  {
   "cell_type": "code",
   "execution_count": 3,
   "metadata": {},
   "outputs": [
    {
     "name": "stdout",
     "output_type": "stream",
     "text": [
      "Hello!\n",
      "Hello!\n",
      "Hello!\n",
      "Hello!\n"
     ]
    }
   ],
   "source": [
    "for i in range(4):\n",
    "    print('Hello!')"
   ]
  },
  {
   "cell_type": "markdown",
   "metadata": {},
   "source": [
    "这是for语句的最简单用法。因此，我们用for循环再来实现刚刚画正方形的程序，则为"
   ]
  },
  {
   "cell_type": "markdown",
   "metadata": {},
   "source": [
    "```python\n",
    "for i in range(4):\n",
    "    bob.fd(100)\n",
    "```"
   ]
  },
  {
   "cell_type": "markdown",
   "metadata": {},
   "source": [
    "for语句也被称为**循环**语句，因为执行流程会遍历语句体，之后从语句体的最开头重新循环执行。在这个例子里，语句体执行了4次。"
   ]
  },
  {
   "cell_type": "markdown",
   "metadata": {},
   "source": [
    "## 封装与泛化"
   ]
  },
  {
   "cell_type": "markdown",
   "metadata": {},
   "source": [
    "我们将画正方形的代码放到一个函数定义中，并调用该函数，有"
   ]
  },
  {
   "cell_type": "markdown",
   "metadata": {},
   "source": [
    "```python\n",
    "def square(t):\n",
    "    for i in range(4):\n",
    "        t.fd(100)\n",
    "        t.lt(90)\n",
    "square(bob)\n",
    "```"
   ]
  },
  {
   "cell_type": "markdown",
   "metadata": {},
   "source": [
    "我们称这种行为称为封装，**封装**即把一段代码用函数包裹起来，称为封装。使用封装，可以给这段代码一个有意思的名称，增加可读性。另外，当重复使用这段代码时，调用一次函数比复制粘贴代码要简易地多。"
   ]
  },
  {
   "cell_type": "markdown",
   "metadata": {},
   "source": [
    "之后，我们给square函数添加一个length函数"
   ]
  },
  {
   "cell_type": "markdown",
   "metadata": {},
   "source": [
    "```python\n",
    "def square(t,length):\n",
    "    for i in range(4):\n",
    "        t.df(length)\n",
    "        t.lt(90)\n",
    "square(bob,100)\n",
    "```"
   ]
  },
  {
   "cell_type": "markdown",
   "metadata": {},
   "source": [
    "给函数添加参数的过程称为**泛化**，即将一些不必要的具体值(如一个数字)替换为合适的通用参数或变量的过程，它可以让函数变得更通用。"
   ]
  },
  {
   "cell_type": "markdown",
   "metadata": {},
   "source": [
    "我们可以继续进行泛化，使得其可以绘制任意边数的多边形。"
   ]
  },
  {
   "cell_type": "markdown",
   "metadata": {},
   "source": [
    "```python\n",
    "def polygon(t,n,length)：\n",
    "    angle = 360/n\n",
    "    for i in range(n):\n",
    "        t.fd(length)\n",
    "        t.lt(angle)\n",
    "polygon(bob,7,70)\n",
    "```"
   ]
  },
  {
   "cell_type": "markdown",
   "metadata": {},
   "source": [
    "这个例子绘制一个7边形，边长是70。"
   ]
  },
  {
   "cell_type": "markdown",
   "metadata": {},
   "source": [
    "如果函数的形参比较多，很容易忘掉每一个具体是什么，或者忘掉他们的顺序。所以在Python中，调用函数时可以加上形参名称:\n",
    "```python\n",
    "polygon(bob,n=7,length=70)\n",
    "```"
   ]
  },
  {
   "cell_type": "markdown",
   "metadata": {},
   "source": [
    "这些参数被称为**关键词参数**，因为他们使用\"关键词\"的形式带上了形参的名称调用。 这个语法使得程序更加可读，它也同样提示了我们实参和形参的工作方式:当调用函数时，实参传入并赋值给形参。"
   ]
  },
  {
   "cell_type": "markdown",
   "metadata": {},
   "source": [
    "## 接口设计"
   ]
  },
  {
   "cell_type": "markdown",
   "metadata": {},
   "source": [
    "接下来我们写画圆的circle函数，接受形参r，表示圆的半径。"
   ]
  },
  {
   "cell_type": "markdown",
   "metadata": {},
   "source": [
    "```python\n",
    "import math\n",
    "\n",
    "def circle(t,r):\n",
    "    circumference = 2*math.pi*r\n",
    "    n=50\n",
    "    length=circumference/n\n",
    "    polygon(t,n,length)\n",
    "```"
   ]
  },
  {
   "cell_type": "markdown",
   "metadata": {},
   "source": [
    "n是我们用于近似画圆的多边形的边数，所以length是每个边的长度。因此，polygon画出一个50边形，近似于一个半径为r的圆。"
   ]
  },
  {
   "cell_type": "markdown",
   "metadata": {},
   "source": [
    "这个解决方案的缺点之一是n是一个常量，解决方法之一是泛化这个函数，加上形参n。这样可以给用户更多的控制选择，但接口就不那么清晰整洁了。"
   ]
  },
  {
   "cell_type": "markdown",
   "metadata": {},
   "source": [
    "函数的接口是如何使用它的概要说明，即该函数的参数有哪些，函数的作用是什么，函数的返回值是什么。一个**整洁**的接口可以让调用者完成所想的事情，而不需要处理多余的细节。"
   ]
  },
  {
   "cell_type": "markdown",
   "metadata": {},
   "source": [
    "## 重构"
   ]
  },
  {
   "cell_type": "markdown",
   "metadata": {},
   "source": [
    "当写circle函数时，可以复用polygon，因为边数很多的正多边形是圆的很好的近似。但arc并不容易去写。因此可以先复制一个polygon函数，再通过修改得到arc函数。"
   ]
  },
  {
   "cell_type": "markdown",
   "metadata": {},
   "source": [
    "```python\n",
    "def arc(t,r,angle):\n",
    "    arc_length = 2*math.pi*r*angle/360\n",
    "    n = int(arc_length/3)+1\n",
    "    step_length = arc_length/n\n",
    "    \n",
    "    for i in range(n):\n",
    "        t.fd(step_length)\n",
    "        t.lt(step_angle)\n",
    "```"
   ]
  },
  {
   "cell_type": "markdown",
   "metadata": {},
   "source": [
    "该函数的第二部分很像polygon的实现，但如果不修改polygon的接口，无法直接复用。我们也可以泛化polygon函数以接受第三个参数表示圆弧的角度，不过polygon这个名称就不合适了，因此我们将这个更泛化的函数称为polyline:"
   ]
  },
  {
   "cell_type": "markdown",
   "metadata": {},
   "source": [
    "```python\n",
    "def polyline(t,n,length,angle):\n",
    "    for i in range(n):\n",
    "        t.fd(length)\n",
    "        t.lt(angle)\n",
    "```"
   ]
  },
  {
   "cell_type": "markdown",
   "metadata": {},
   "source": [
    "现在重写polygongg和arc，让它们调用polyline:"
   ]
  },
  {
   "cell_type": "markdown",
   "metadata": {},
   "source": [
    "```python\n",
    "def polygon(t,n,length):\n",
    "    angle=360.0/n\n",
    "    polyline(t,n,length,angle)\n",
    "\n",
    "def arc(t,r,angle):\n",
    "    arc_length = 2*math.pi*r*angle/360\n",
    "    n = int(arc_length/3)+1\n",
    "    step_length = arc_length/n\n",
    "    step_angle = float(angle)/n\n",
    "    polyline(t,n,step_length,step_angle)\n",
    "```"
   ]
  },
  {
   "cell_type": "markdown",
   "metadata": {},
   "source": [
    "最后，我们可以重写circle，改为调用arc:"
   ]
  },
  {
   "cell_type": "markdown",
   "metadata": {},
   "source": [
    "```python\n",
    "def circle(t,r):\n",
    "    arc(t,r,360)\n",
    "```"
   ]
  },
  {
   "cell_type": "markdown",
   "metadata": {},
   "source": [
    "像上面这样，重新组织程序，以改善接口，提高代码复用的过程称为**重构**。"
   ]
  },
  {
   "cell_type": "markdown",
   "metadata": {},
   "source": [
    "## 开发计划"
   ]
  },
  {
   "cell_type": "markdown",
   "metadata": {},
   "source": [
    "开发计划是写程序的过程，我们通过\"封装与泛化\"来完成它，边开发边设计，具体步骤为\n",
    "* 最开始写一些小程序，不需要函数定义\n",
    "* 程序运行成功后，识别出其中一段完整的部分，将它封装到一个函数中，并加以命名\n",
    "* 泛化这个函数，添加合适的形参\n",
    "* 重复步骤1到3，直到得到一组可行的参数。\n",
    "* 寻找可以使用重构来改善程序的机会"
   ]
  },
  {
   "cell_type": "markdown",
   "metadata": {},
   "source": [
    "## 文档字符串"
   ]
  },
  {
   "cell_type": "markdown",
   "metadata": {},
   "source": [
    "**文档字符串(docstring):** 文档字符串是在函数开头用来解释其接口的字符串。"
   ]
  },
  {
   "cell_type": "markdown",
   "metadata": {},
   "source": [
    "文档字符串一般都使用三引号括起来。文档字符串虽然简介，但已经包含了其他人需要知道的关于函数的基本信息，它简明地解释了函数是做什么的，并解释了每个形参对函数行为的影响效果以及每个形参应有的类型。"
   ]
  },
  {
   "cell_type": "code",
   "execution_count": 1,
   "metadata": {},
   "outputs": [],
   "source": [
    "def print_twice(bruce):\n",
    "    '''\n",
    "    bruce:字符串类型，可以是任意一个字符串\n",
    "    该程序将输入的字符串输出两次\n",
    "    '''\n",
    "    print(bruce)\n",
    "    print(bruce)"
   ]
  },
  {
   "cell_type": "markdown",
   "metadata": {},
   "source": [
    "例如，上述函数中就通过文档字符串说明了函数中对输入形参的要求以及该函数的功能。"
   ]
  },
  {
   "cell_type": "markdown",
   "metadata": {},
   "source": [
    "编写这类文档是接口设计的重要部分。一个设计良好的接口，应该很简单就能解释清楚。"
   ]
  },
  {
   "cell_type": "markdown",
   "metadata": {},
   "source": [
    "## 调试"
   ]
  },
  {
   "cell_type": "markdown",
   "metadata": {},
   "source": [
    "函数的接口，作用就像是函数和调用者之间签订的一个合同。调用者同意提供某些参数，而函数则同意使用这些参数做某种工作。"
   ]
  },
  {
   "cell_type": "markdown",
   "metadata": {},
   "source": [
    "在函数调用开始前应当满足的条件称为**前置条件**，函数结束的时候需要满足的条件称为**后置条件**。"
   ]
  },
  {
   "cell_type": "markdown",
   "metadata": {},
   "source": [
    "满足前置条件是调用者的职责，如果调用者违反了一个前置条件，导致函数没有正确运行，则bug在调用者，不在函数本身。"
   ]
  },
  {
   "cell_type": "markdown",
   "metadata": {},
   "source": [
    "如果前置条件已经满足，但后置条件没有满足，那么bug就出现在函数本身。"
   ]
  }
 ],
 "metadata": {
  "kernelspec": {
   "display_name": "Python 3",
   "language": "python",
   "name": "python3"
  },
  "language_info": {
   "codemirror_mode": {
    "name": "ipython",
    "version": 3
   },
   "file_extension": ".py",
   "mimetype": "text/x-python",
   "name": "python",
   "nbconvert_exporter": "python",
   "pygments_lexer": "ipython3",
   "version": "3.8.10"
  }
 },
 "nbformat": 4,
 "nbformat_minor": 2
}
