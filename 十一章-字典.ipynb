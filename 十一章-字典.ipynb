{
 "cells": [
  {
   "cell_type": "markdown",
   "id": "fc948c1a",
   "metadata": {},
   "source": [
    "本章介绍另一种内置类型:字典。字典是 Python 最好的语言特性之一，它是很多高效而优雅的算法的基本构建块。"
   ]
  },
  {
   "cell_type": "markdown",
   "id": "4ce61384",
   "metadata": {},
   "source": [
    "## 字典是一种映射"
   ]
  },
  {
   "cell_type": "markdown",
   "id": "2edceab3",
   "metadata": {},
   "source": [
    "**字典** 类似于列表，但更加通用。在列表中，下表必须是整数；而在字典中，下标几乎可以是任意类型。"
   ]
  },
  {
   "cell_type": "code",
   "execution_count": 3,
   "id": "1167f7aa",
   "metadata": {},
   "outputs": [
    {
     "name": "stdout",
     "output_type": "stream",
     "text": [
      "{'a': 1, 'b': 2, 'c': 3}\n"
     ]
    }
   ],
   "source": [
    "dic = {'a':1, 'b':2, 'c':3}\n",
    "print(dic)"
   ]
  },
  {
   "cell_type": "markdown",
   "id": "f1977449",
   "metadata": {},
   "source": [
    "字典包含下标集合和值集合，字典中的下标也成为**键(key)**。每个键都与一个**值(value)**关联。键和值之间的关联被称为**键值对(key-value-pair)**，或者有时称为一**项(item)**。\n",
    "\n",
    "在上面的例子中，我们创立了一个字典，其中包含三项，冒号前的部分为键，冒号后的部分为值，每两项之间用逗号分隔。"
   ]
  },
  {
   "cell_type": "markdown",
   "id": "320dc34e",
   "metadata": {},
   "source": [
    "用数学语言来描述，字典体现了键到值的**映射(mapping)**，所谓映射，是一个集合中的每个元素与另一个集合中的元素所产生的关联。我们可以说，每个键\"映射\"到一个值。"
   ]
  },
  {
   "cell_type": "markdown",
   "id": "98a20157",
   "metadata": {},
   "source": [
    "作为示例，我们构建一个字典，将英语单词映射到汉语中，所以键和值的类型都是字符串。"
   ]
  },
  {
   "cell_type": "markdown",
   "id": "60e09886",
   "metadata": {},
   "source": [
    "函数 `dict` 新建一个不包含任何项的字典"
   ]
  },
  {
   "cell_type": "code",
   "execution_count": 4,
   "id": "e25b2dd1",
   "metadata": {},
   "outputs": [
    {
     "name": "stdout",
     "output_type": "stream",
     "text": [
      "{}\n"
     ]
    }
   ],
   "source": [
    "eng2cn = dict()\n",
    "print(eng2cn)"
   ]
  },
  {
   "cell_type": "markdown",
   "id": "891e7466",
   "metadata": {},
   "source": [
    "花括号表示一个空的字典，若想要给字典添加新项，可以使用方括号操作符:"
   ]
  },
  {
   "cell_type": "code",
   "execution_count": 5,
   "id": "1f4e49e8",
   "metadata": {},
   "outputs": [],
   "source": [
    "eng2cn['one'] = '一'"
   ]
  },
  {
   "cell_type": "markdown",
   "id": "f88b61ab",
   "metadata": {},
   "source": [
    "这一行代码创建一个新项，将键 `'one'` 映射到值 `'一'` 上。如果我们再次打印这个字典，可以看到一个键值对，以冒号分隔:"
   ]
  },
  {
   "cell_type": "code",
   "execution_count": 6,
   "id": "86c1d70c",
   "metadata": {},
   "outputs": [
    {
     "name": "stdout",
     "output_type": "stream",
     "text": [
      "{'one': '一'}\n"
     ]
    }
   ],
   "source": [
    "print(eng2cn)"
   ]
  },
  {
   "cell_type": "markdown",
   "id": "de3e8fd4",
   "metadata": {},
   "source": [
    "这种输出格式也是输入的格式，我们按照这种格式创建一个包含三项的字典:"
   ]
  },
  {
   "cell_type": "code",
   "execution_count": 11,
   "id": "5f24be51",
   "metadata": {},
   "outputs": [
    {
     "name": "stdout",
     "output_type": "stream",
     "text": [
      "{'one': '一', 'two': '二', 'three': '三'}\n"
     ]
    }
   ],
   "source": [
    "eng2cn = {'one':'一','two':'二','three':'三'}\n",
    "print(eng2cn)"
   ]
  },
  {
   "cell_type": "markdown",
   "id": "6b14fa40",
   "metadata": {},
   "source": [
    "需要注意的是，字典中键值对的顺序可能并不相同，虽然我这里输出是按顺序输出，不过不同的电脑输出的可能是另一个不同的结果。"
   ]
  },
  {
   "cell_type": "markdown",
   "id": "27e7a9b1",
   "metadata": {},
   "source": [
    "不过，字典中的元素并不使用整数下标进行查找。相对地，它使用键来查找对应的值:"
   ]
  },
  {
   "cell_type": "code",
   "execution_count": 14,
   "id": "87c97c75",
   "metadata": {},
   "outputs": [
    {
     "data": {
      "text/plain": [
       "'二'"
      ]
     },
     "execution_count": 14,
     "metadata": {},
     "output_type": "execute_result"
    }
   ],
   "source": [
    "eng2cn['two']"
   ]
  },
  {
   "cell_type": "markdown",
   "id": "e421d695",
   "metadata": {},
   "source": [
    "如果一个键不在字典之中，会得到一个异常:"
   ]
  },
  {
   "cell_type": "code",
   "execution_count": 17,
   "id": "a5b1747a",
   "metadata": {},
   "outputs": [
    {
     "ename": "KeyError",
     "evalue": "'four'",
     "output_type": "error",
     "traceback": [
      "\u001b[0;31m---------------------------------------------------------------------------\u001b[0m",
      "\u001b[0;31mKeyError\u001b[0m                                  Traceback (most recent call last)",
      "\u001b[0;32m/tmp/ipykernel_17428/1385976668.py\u001b[0m in \u001b[0;36m<module>\u001b[0;34m\u001b[0m\n\u001b[0;32m----> 1\u001b[0;31m \u001b[0meng2cn\u001b[0m\u001b[0;34m[\u001b[0m\u001b[0;34m'four'\u001b[0m\u001b[0;34m]\u001b[0m\u001b[0;34m\u001b[0m\u001b[0;34m\u001b[0m\u001b[0m\n\u001b[0m",
      "\u001b[0;31mKeyError\u001b[0m: 'four'"
     ]
    }
   ],
   "source": [
    "eng2cn['four']"
   ]
  },
  {
   "cell_type": "markdown",
   "id": "3a51bd83",
   "metadata": {},
   "source": [
    "`len` 函数也可以用在字典上，它返回键值对的数量:"
   ]
  },
  {
   "cell_type": "code",
   "execution_count": 16,
   "id": "22bfad6e",
   "metadata": {},
   "outputs": [
    {
     "data": {
      "text/plain": [
       "3"
      ]
     },
     "execution_count": 16,
     "metadata": {},
     "output_type": "execute_result"
    }
   ],
   "source": [
    "len(eng2cn)"
   ]
  },
  {
   "cell_type": "markdown",
   "id": "b8e12921",
   "metadata": {},
   "source": [
    "`in` 操作符也可以用在字典上，它告诉你一个值是不是字典中的键(是字典中的值则不算)"
   ]
  },
  {
   "cell_type": "code",
   "execution_count": 18,
   "id": "20dc07ef",
   "metadata": {},
   "outputs": [
    {
     "data": {
      "text/plain": [
       "True"
      ]
     },
     "execution_count": 18,
     "metadata": {},
     "output_type": "execute_result"
    }
   ],
   "source": [
    "'one' in eng2cn"
   ]
  },
  {
   "cell_type": "code",
   "execution_count": null,
   "id": "cf834d44",
   "metadata": {},
   "outputs": [],
   "source": []
  },
  {
   "cell_type": "code",
   "execution_count": 19,
   "id": "2b90c38d",
   "metadata": {},
   "outputs": [
    {
     "data": {
      "text/plain": [
       "False"
      ]
     },
     "execution_count": 19,
     "metadata": {},
     "output_type": "execute_result"
    }
   ],
   "source": [
    "'一' in eng2cn"
   ]
  },
  {
   "cell_type": "markdown",
   "id": "dd5c2e32",
   "metadata": {},
   "source": [
    "若要查看一个值是不是出现在字典的值中，可以使用方法`values`，它会返回一个值集合，并可以应用 `in` 操作符:"
   ]
  },
  {
   "cell_type": "code",
   "execution_count": 20,
   "id": "0774068e",
   "metadata": {},
   "outputs": [
    {
     "data": {
      "text/plain": [
       "True"
      ]
     },
     "execution_count": 20,
     "metadata": {},
     "output_type": "execute_result"
    }
   ],
   "source": [
    "vals = eng2cn.values()\n",
    "'一' in vals"
   ]
  },
  {
   "cell_type": "markdown",
   "id": "968ebbd5",
   "metadata": {},
   "source": [
    "`in` 操作符对列表和字典使用不同的算法实现。对于列表，它按顺序搜索列表的元素。当列表变长时，搜索时间会随之变长。"
   ]
  },
  {
   "cell_type": "markdown",
   "id": "fc4f1300",
   "metadata": {},
   "source": [
    "而对于字典，Python 使用一个称为 **散列表** 的算法，不管字典中有多少项，`in` 操作符花费的时间都差不多。"
   ]
  },
  {
   "cell_type": "markdown",
   "id": "432251ac",
   "metadata": {},
   "source": [
    "## 使用字典作为计数器集合"
   ]
  },
  {
   "cell_type": "markdown",
   "id": "4dfef2ed",
   "metadata": {},
   "source": [
    "假设给定一个字符串，若想计算每个字母出现的次数，有几种可能的实现方法:"
   ]
  },
  {
   "cell_type": "markdown",
   "id": "98c7dbaf",
   "metadata": {},
   "source": [
    "* 可以创建26个变量，每个变量对应字母表上的一个字母。接着遍历字符串，对每一个字符，增加对应的计数器。可能需要使用一个链式条件判断。\n",
    "* 可以创建一个包含26个元素的列表。接着可以将每个字符转换为一个数字(使用内置函数`ord`),使用这个数字作为列表的下标，并增加对应的计数器。\n",
    "* 可以建立一个字典，以字符作为键，以计数器作为相应的值。第一次遇到某个字符时，在字典中添加对应的项。之后可以增加一个已经存在的项的值。"
   ]
  },
  {
   "cell_type": "markdown",
   "id": "107219b3",
   "metadata": {},
   "source": [
    "这几种方案进行相同的计算，但实现计算的方式不一样。"
   ]
  },
  {
   "cell_type": "markdown",
   "id": "1bdfdc9d",
   "metadata": {},
   "source": [
    "**实现(implementation)** 是进行某种计算的一个具体方式。有的实现比其他的更好。例如，字典实现的优势之一是我们并不需要预先知道字符串中可能会出现哪些字母，因而只需为真正出现过的字母分配空间。"
   ]
  },
  {
   "cell_type": "markdown",
   "id": "f5748bb4",
   "metadata": {},
   "source": [
    "实现代码如下:"
   ]
  },
  {
   "cell_type": "code",
   "execution_count": 1,
   "id": "0fbebeca",
   "metadata": {},
   "outputs": [],
   "source": [
    "def histogram(s):\n",
    "    d = dict()\n",
    "    for c in s:\n",
    "        if c not in d:\n",
    "            d[c] = 1\n",
    "        else:\n",
    "            d[c] += 1\n",
    "    return d"
   ]
  },
  {
   "cell_type": "markdown",
   "id": "3495ecae",
   "metadata": {},
   "source": [
    "这个函数的名称是**直方图(histogram)**,它是一个统计学术语，表示一个计数器(或者说频率)的集合。"
   ]
  },
  {
   "cell_type": "markdown",
   "id": "9aed2376",
   "metadata": {},
   "source": [
    "函数第一行创建一个空的字典。 `for` 循环遍历字符串。每次迭代中，如果字符 `c` 不在字典中，我们就创建一个新项，其键是 `c`，其初始化为1。如果 `c` 已经在字典之中，我们增加 `d[c]`。"
   ]
  },
  {
   "cell_type": "markdown",
   "id": "99bbdae5",
   "metadata": {},
   "source": [
    "函数使用方式如下:"
   ]
  },
  {
   "cell_type": "code",
   "execution_count": 2,
   "id": "19749a55",
   "metadata": {},
   "outputs": [
    {
     "name": "stdout",
     "output_type": "stream",
     "text": [
      "{'b': 1, 'r': 2, 'o': 2, 'n': 1, 't': 1, 's': 2, 'a': 1, 'u': 2}\n"
     ]
    }
   ],
   "source": [
    "h = histogram('brontosaurus')\n",
    "print(h)"
   ]
  },
  {
   "cell_type": "markdown",
   "id": "df7c0264",
   "metadata": {},
   "source": [
    "这个直方图显示，字母 `a` 和 `b` 出现了一次，`o` 出现了两次，依此类推。"
   ]
  },
  {
   "cell_type": "markdown",
   "id": "e727c90e",
   "metadata": {},
   "source": [
    "字典有一个方法`get`，接收一个键以及一个默认值。如果键出现在字典中，`get` 返回对应的值，否则返回默认值。例如:"
   ]
  },
  {
   "cell_type": "code",
   "execution_count": 3,
   "id": "fb39be3a",
   "metadata": {},
   "outputs": [
    {
     "name": "stdout",
     "output_type": "stream",
     "text": [
      "{'a': 1}\n"
     ]
    }
   ],
   "source": [
    "h = histogram('a')\n",
    "print(h)"
   ]
  },
  {
   "cell_type": "code",
   "execution_count": 6,
   "id": "10f01cc2",
   "metadata": {},
   "outputs": [
    {
     "data": {
      "text/plain": [
       "1"
      ]
     },
     "execution_count": 6,
     "metadata": {},
     "output_type": "execute_result"
    }
   ],
   "source": [
    "h.get('a',0)"
   ]
  },
  {
   "cell_type": "code",
   "execution_count": 5,
   "id": "b7a51f0a",
   "metadata": {},
   "outputs": [
    {
     "data": {
      "text/plain": [
       "0"
      ]
     },
     "execution_count": 5,
     "metadata": {},
     "output_type": "execute_result"
    }
   ],
   "source": [
    "h.get('b',0)"
   ]
  },
  {
   "cell_type": "markdown",
   "id": "c2cd4a01",
   "metadata": {},
   "source": [
    "## 循环和字典"
   ]
  },
  {
   "cell_type": "markdown",
   "id": "fb6edb55",
   "metadata": {},
   "source": [
    "如果在 `for` 循环中使用字典，会遍历字典的键。例如，下面的函数 `print_hist` 函数打印字典的每一个键以及对应的值:"
   ]
  },
  {
   "cell_type": "code",
   "execution_count": 7,
   "id": "d3f118b9",
   "metadata": {},
   "outputs": [],
   "source": [
    "def print_hist(h):\n",
    "    for c in h:\n",
    "        print(c,h[c])"
   ]
  },
  {
   "cell_type": "markdown",
   "id": "fb23f7b7",
   "metadata": {},
   "source": [
    "函数输出如下:"
   ]
  },
  {
   "cell_type": "code",
   "execution_count": 8,
   "id": "2b96ae88",
   "metadata": {},
   "outputs": [
    {
     "name": "stdout",
     "output_type": "stream",
     "text": [
      "p 1\n",
      "a 1\n",
      "r 2\n",
      "o 1\n",
      "t 1\n"
     ]
    }
   ],
   "source": [
    "h = histogram('parrot')\n",
    "print_hist(h)"
   ]
  },
  {
   "cell_type": "markdown",
   "id": "c51b20ad",
   "metadata": {},
   "source": [
    "同样地，键的出现没有特定的顺序。要按顺序遍历所有键，可以使用内置函数 `sorted`:"
   ]
  },
  {
   "cell_type": "code",
   "execution_count": 9,
   "id": "c3e76c3b",
   "metadata": {},
   "outputs": [
    {
     "name": "stdout",
     "output_type": "stream",
     "text": [
      "a 1\n",
      "o 1\n",
      "p 1\n",
      "r 2\n",
      "t 1\n"
     ]
    }
   ],
   "source": [
    "for key in sorted(h):\n",
    "    print(key,h[key])"
   ]
  },
  {
   "cell_type": "markdown",
   "id": "78f3af04",
   "metadata": {},
   "source": [
    "## 反向查找"
   ]
  },
  {
   "cell_type": "markdown",
   "id": "57f69555",
   "metadata": {},
   "source": [
    "给定一个字典 `d` 和键 `k`，找到对应的值 `v = d[k]` 非常容易。这个操作称为**查找**。"
   ]
  },
  {
   "cell_type": "markdown",
   "id": "44cf5d19",
   "metadata": {},
   "source": [
    "但有时我们只有 `v`，而需要找到 `k`。这时有两个问题需要摆在面前:\n",
    "* 可能存在多个键映射到同一个值`v`上。随不同的应用场景，也许可以挑其中一个，也许需要建立一个列表来保存所有的键\n",
    "* 并没有可以进行 **反向查找** 的简单语法"
   ]
  },
  {
   "cell_type": "code",
   "execution_count": null,
   "id": "3f0b85b8",
   "metadata": {},
   "outputs": [],
   "source": []
  },
  {
   "cell_type": "markdown",
   "id": "c23af2dc",
   "metadata": {},
   "source": [
    "下面的函数接收一个值，并返回映射到该值的第一个键:"
   ]
  },
  {
   "cell_type": "code",
   "execution_count": 10,
   "id": "221bfb3d",
   "metadata": {},
   "outputs": [],
   "source": [
    "def reverse_lookup(d,v):\n",
    "    for k in d:\n",
    "        if d[k] == v:\n",
    "            return k\n",
    "    raise LookupError()"
   ]
  },
  {
   "cell_type": "markdown",
   "id": "0f5dfd0f",
   "metadata": {},
   "source": [
    "这个函数是搜素模式的又一个示例。但它使用了一个我们还没见过的语言特性， `raise` 语句。 **`raise` 语句** 会生成一个异常; 在这个例子里，它生成一个 `LookupError`，这是一个内置异常，通常用来表示查找操作失败。"
   ]
  },
  {
   "cell_type": "markdown",
   "id": "e234386f",
   "metadata": {},
   "source": [
    "如果我们到达了循环的结尾，就意味着 `v` 在字典中没有作为值出现过，所以我们抛出一个异常。"
   ]
  },
  {
   "cell_type": "markdown",
   "id": "94ddc884",
   "metadata": {},
   "source": [
    "下面我们展示一个成功的反向查找:"
   ]
  },
  {
   "cell_type": "code",
   "execution_count": 11,
   "id": "652738c2",
   "metadata": {},
   "outputs": [
    {
     "name": "stdout",
     "output_type": "stream",
     "text": [
      "r\n"
     ]
    }
   ],
   "source": [
    "h = histogram('parrot')\n",
    "k = reverse_lookup(h,2)\n",
    "print(k)"
   ]
  },
  {
   "cell_type": "markdown",
   "id": "81b8e2aa",
   "metadata": {},
   "source": [
    "再展示一个不成功的反向查找:"
   ]
  },
  {
   "cell_type": "code",
   "execution_count": 12,
   "id": "a5e10033",
   "metadata": {},
   "outputs": [
    {
     "ename": "LookupError",
     "evalue": "",
     "output_type": "error",
     "traceback": [
      "\u001b[0;31m---------------------------------------------------------------------------\u001b[0m",
      "\u001b[0;31mLookupError\u001b[0m                               Traceback (most recent call last)",
      "\u001b[0;32m/tmp/ipykernel_13578/1375209978.py\u001b[0m in \u001b[0;36m<module>\u001b[0;34m\u001b[0m\n\u001b[0;32m----> 1\u001b[0;31m \u001b[0mk\u001b[0m \u001b[0;34m=\u001b[0m \u001b[0mreverse_lookup\u001b[0m\u001b[0;34m(\u001b[0m\u001b[0mh\u001b[0m\u001b[0;34m,\u001b[0m\u001b[0;36m3\u001b[0m\u001b[0;34m)\u001b[0m\u001b[0;34m\u001b[0m\u001b[0;34m\u001b[0m\u001b[0m\n\u001b[0m",
      "\u001b[0;32m/tmp/ipykernel_13578/508223625.py\u001b[0m in \u001b[0;36mreverse_lookup\u001b[0;34m(d, v)\u001b[0m\n\u001b[1;32m      3\u001b[0m         \u001b[0;32mif\u001b[0m \u001b[0md\u001b[0m\u001b[0;34m[\u001b[0m\u001b[0mk\u001b[0m\u001b[0;34m]\u001b[0m \u001b[0;34m==\u001b[0m \u001b[0mv\u001b[0m\u001b[0;34m:\u001b[0m\u001b[0;34m\u001b[0m\u001b[0;34m\u001b[0m\u001b[0m\n\u001b[1;32m      4\u001b[0m             \u001b[0;32mreturn\u001b[0m \u001b[0mk\u001b[0m\u001b[0;34m\u001b[0m\u001b[0;34m\u001b[0m\u001b[0m\n\u001b[0;32m----> 5\u001b[0;31m     \u001b[0;32mraise\u001b[0m \u001b[0mLookupError\u001b[0m\u001b[0;34m(\u001b[0m\u001b[0;34m)\u001b[0m\u001b[0;34m\u001b[0m\u001b[0;34m\u001b[0m\u001b[0m\n\u001b[0m",
      "\u001b[0;31mLookupError\u001b[0m: "
     ]
    }
   ],
   "source": [
    "k = reverse_lookup(h,3)"
   ]
  },
  {
   "cell_type": "markdown",
   "id": "37b0e08a",
   "metadata": {},
   "source": [
    "当你自己抛出异常时，效果和 Python 抛出异常是一样的: 它会打印出一个回溯和一个错误信息。"
   ]
  },
  {
   "cell_type": "markdown",
   "id": "ecd26222",
   "metadata": {},
   "source": [
    "`raise` 语句也可以接收一个可选的参数用来详细描述错误，例如:"
   ]
  },
  {
   "cell_type": "code",
   "execution_count": 13,
   "id": "d70c5c97",
   "metadata": {},
   "outputs": [],
   "source": [
    "def reverse_lookup(d,v):\n",
    "    for k in d:\n",
    "        if d[k] == v:\n",
    "            return k\n",
    "    raise LookupError('值不在所找的字典中')"
   ]
  },
  {
   "cell_type": "code",
   "execution_count": 15,
   "id": "ba11ba57",
   "metadata": {},
   "outputs": [
    {
     "ename": "LookupError",
     "evalue": "值不在所找的字典中",
     "output_type": "error",
     "traceback": [
      "\u001b[0;31m---------------------------------------------------------------------------\u001b[0m",
      "\u001b[0;31mLookupError\u001b[0m                               Traceback (most recent call last)",
      "\u001b[0;32m/tmp/ipykernel_13578/2728649697.py\u001b[0m in \u001b[0;36m<module>\u001b[0;34m\u001b[0m\n\u001b[1;32m      1\u001b[0m \u001b[0mh\u001b[0m \u001b[0;34m=\u001b[0m \u001b[0mhistogram\u001b[0m\u001b[0;34m(\u001b[0m\u001b[0;34m'parrot'\u001b[0m\u001b[0;34m)\u001b[0m\u001b[0;34m\u001b[0m\u001b[0;34m\u001b[0m\u001b[0m\n\u001b[0;32m----> 2\u001b[0;31m \u001b[0mk\u001b[0m \u001b[0;34m=\u001b[0m \u001b[0mreverse_lookup\u001b[0m\u001b[0;34m(\u001b[0m\u001b[0mh\u001b[0m\u001b[0;34m,\u001b[0m\u001b[0;36m3\u001b[0m\u001b[0;34m)\u001b[0m\u001b[0;34m\u001b[0m\u001b[0;34m\u001b[0m\u001b[0m\n\u001b[0m",
      "\u001b[0;32m/tmp/ipykernel_13578/1763711872.py\u001b[0m in \u001b[0;36mreverse_lookup\u001b[0;34m(d, v)\u001b[0m\n\u001b[1;32m      3\u001b[0m         \u001b[0;32mif\u001b[0m \u001b[0md\u001b[0m\u001b[0;34m[\u001b[0m\u001b[0mk\u001b[0m\u001b[0;34m]\u001b[0m \u001b[0;34m==\u001b[0m \u001b[0mv\u001b[0m\u001b[0;34m:\u001b[0m\u001b[0;34m\u001b[0m\u001b[0;34m\u001b[0m\u001b[0m\n\u001b[1;32m      4\u001b[0m             \u001b[0;32mreturn\u001b[0m \u001b[0mk\u001b[0m\u001b[0;34m\u001b[0m\u001b[0;34m\u001b[0m\u001b[0m\n\u001b[0;32m----> 5\u001b[0;31m     \u001b[0;32mraise\u001b[0m \u001b[0mLookupError\u001b[0m\u001b[0;34m(\u001b[0m\u001b[0;34m'值不在所找的字典中'\u001b[0m\u001b[0;34m)\u001b[0m\u001b[0;34m\u001b[0m\u001b[0;34m\u001b[0m\u001b[0m\n\u001b[0m",
      "\u001b[0;31mLookupError\u001b[0m: 值不在所找的字典中"
     ]
    }
   ],
   "source": [
    "h = histogram('parrot')\n",
    "k = reverse_lookup(h,3)"
   ]
  },
  {
   "cell_type": "markdown",
   "id": "69b3a405",
   "metadata": {},
   "source": [
    "反向查找远远慢于正向查找; 如果频繁这么做，或者字典非常大时，会得程序的性能有很大影响。"
   ]
  },
  {
   "cell_type": "markdown",
   "id": "f6e5daa8",
   "metadata": {},
   "source": [
    "## 字典和列表"
   ]
  },
  {
   "cell_type": "markdown",
   "id": "f3eee14e",
   "metadata": {},
   "source": [
    "列表可以在字典中以值的形式出现。例如，如果遇到一个将字母映射到频率的字典，可能会想要反转它; 也就是说，建立一个字典，将频率映射到字母上。因为可能出现多个字母频率相同的情况，在反转的字典中，每项的值应当是字母的列表。"
   ]
  },
  {
   "cell_type": "markdown",
   "id": "80c177eb",
   "metadata": {},
   "source": [
    "下面的函数 `invert_dict` 是一个反转字典的函数:"
   ]
  },
  {
   "cell_type": "code",
   "execution_count": 16,
   "id": "dab26493",
   "metadata": {},
   "outputs": [],
   "source": [
    "def invert_dict(d):\n",
    "    inverse = dict()\n",
    "    for key in d:\n",
    "        val = d[key]\n",
    "        if val not in inverse:\n",
    "            inverse[val] = [key]\n",
    "        else :\n",
    "            inverse[val].append(key)\n",
    "    return inverse"
   ]
  },
  {
   "cell_type": "markdown",
   "id": "523d8e41",
   "metadata": {},
   "source": [
    "每次循环中，`key` 从 `d` 中获得一个键，而 `val` 获得相应的值。如果 `val` 不在 `inverse` 字典中，意味着我们还没有见到过它，所以新建一个项，并将它初始化为一个**单件**(singleton,即只包含一个元素的列表)。否则我们已经见过这个值了，因此将相应的键附加到列表末尾。"
   ]
  },
  {
   "cell_type": "markdown",
   "id": "22e5901d",
   "metadata": {},
   "source": [
    "下面是一个示例:"
   ]
  },
  {
   "cell_type": "code",
   "execution_count": 18,
   "id": "8d3bbc22",
   "metadata": {},
   "outputs": [
    {
     "name": "stdout",
     "output_type": "stream",
     "text": [
      "{'p': 1, 'a': 1, 'r': 2, 'o': 1, 't': 1}\n"
     ]
    }
   ],
   "source": [
    "hist = histogram('parrot')\n",
    "print(hist)"
   ]
  },
  {
   "cell_type": "code",
   "execution_count": 20,
   "id": "06565a8e",
   "metadata": {},
   "outputs": [
    {
     "name": "stdout",
     "output_type": "stream",
     "text": [
      "{1: ['p', 'a', 'o', 't'], 2: ['r']}\n"
     ]
    }
   ],
   "source": [
    "inverse = invert_dict(hist)\n",
    "print(inverse)"
   ]
  },
  {
   "cell_type": "markdown",
   "id": "66dd9747",
   "metadata": {},
   "source": [
    "列表可以用作字典的值，但它们不能用作键。尝试如下;"
   ]
  },
  {
   "cell_type": "code",
   "execution_count": 21,
   "id": "215b5f22",
   "metadata": {},
   "outputs": [
    {
     "ename": "TypeError",
     "evalue": "unhashable type: 'list'",
     "output_type": "error",
     "traceback": [
      "\u001b[0;31m---------------------------------------------------------------------------\u001b[0m",
      "\u001b[0;31mTypeError\u001b[0m                                 Traceback (most recent call last)",
      "\u001b[0;32m/tmp/ipykernel_13578/3762709123.py\u001b[0m in \u001b[0;36m<module>\u001b[0;34m\u001b[0m\n\u001b[1;32m      1\u001b[0m \u001b[0mt\u001b[0m \u001b[0;34m=\u001b[0m \u001b[0;34m[\u001b[0m\u001b[0;36m1\u001b[0m\u001b[0;34m,\u001b[0m\u001b[0;36m2\u001b[0m\u001b[0;34m,\u001b[0m\u001b[0;36m3\u001b[0m\u001b[0;34m]\u001b[0m\u001b[0;34m\u001b[0m\u001b[0;34m\u001b[0m\u001b[0m\n\u001b[1;32m      2\u001b[0m \u001b[0md\u001b[0m \u001b[0;34m=\u001b[0m \u001b[0mdict\u001b[0m\u001b[0;34m(\u001b[0m\u001b[0;34m)\u001b[0m\u001b[0;34m\u001b[0m\u001b[0;34m\u001b[0m\u001b[0m\n\u001b[0;32m----> 3\u001b[0;31m \u001b[0md\u001b[0m\u001b[0;34m[\u001b[0m\u001b[0mt\u001b[0m\u001b[0;34m]\u001b[0m \u001b[0;34m=\u001b[0m \u001b[0;34m'oops'\u001b[0m\u001b[0;34m\u001b[0m\u001b[0;34m\u001b[0m\u001b[0m\n\u001b[0m",
      "\u001b[0;31mTypeError\u001b[0m: unhashable type: 'list'"
     ]
    }
   ],
   "source": [
    "t = [1,2,3]\n",
    "d = dict()\n",
    "d[t] = 'oops'"
   ]
  },
  {
   "cell_type": "code",
   "execution_count": null,
   "id": "fbb4af0f",
   "metadata": {},
   "outputs": [],
   "source": []
  },
  {
   "cell_type": "markdown",
   "id": "ab5b92f5",
   "metadata": {},
   "source": [
    "这是因为字典是通过散列表（hashtable) 的方式实现的，因此键必须是**可散列**的，是不可变的。"
   ]
  },
  {
   "cell_type": "markdown",
   "id": "8807f8b7",
   "metadata": {},
   "source": [
    "**散列**是一个函数，接收(任意类型)的值并返回一个整数称为。字典使用这些被散列值的整数来保存和查找键值对。"
   ]
  },
  {
   "cell_type": "markdown",
   "id": "42dfe456",
   "metadata": {},
   "source": [
    "另外，因为字典是可变的，它也不能用作键，但它可以用作字典的值。"
   ]
  },
  {
   "cell_type": "markdown",
   "id": "67f39792",
   "metadata": {},
   "source": [
    "## 备忘"
   ]
  },
  {
   "cell_type": "markdown",
   "id": "ee750816",
   "metadata": {},
   "source": [
    "之前我们讲过 `fibonacci` 函数"
   ]
  },
  {
   "cell_type": "code",
   "execution_count": 22,
   "id": "92578f4c",
   "metadata": {},
   "outputs": [],
   "source": [
    "def fibonacci(n):\n",
    "    if n==0:\n",
    "        return 0\n",
    "    elif n==1:\n",
    "        return 1\n",
    "    else:\n",
    "        return fibonacci(n-1) + fibonacci(n-2)"
   ]
  },
  {
   "cell_type": "markdown",
   "id": "b90845dc",
   "metadata": {},
   "source": [
    "该函数提供的参数越大，函数运行的时间越长，并且运行时间增长很快。"
   ]
  },
  {
   "cell_type": "markdown",
   "id": "f3b01086",
   "metadata": {},
   "source": [
    "为了更好的理解，给出 `fibonocci` 函数 `n=4` 时的 **调用图**"
   ]
  },
  {
   "cell_type": "markdown",
   "id": "8eee024b",
   "metadata": {},
   "source": [
    "<img src='figures/调用图11-1.jpg'>"
   ]
  },
  {
   "cell_type": "markdown",
   "id": "8da71ccc",
   "metadata": {},
   "source": [
    "调用图显示了一组函数帧，并用箭头将函数的帧和它调用的函数帧连接起来。在图的顶端，`n=4` 的 `fibonacci` 调用了 `n=3` 和 `n=2` 的 `fibonacci`。同样地，`n=3` 的 `fibonacci` 调用了 `n=2` 和 `n=1` 的`fibonacci`。依此类推。"
   ]
  },
  {
   "cell_type": "markdown",
   "id": "8220b0c1",
   "metadata": {},
   "source": [
    "数一下 `fibonacci(0)` 和 `fibonacci(1)` 被调用了多少次。这是本问题的一个很低效的解决方案，而且当参数变大时，事情会变得更糟。"
   ]
  },
  {
   "cell_type": "markdown",
   "id": "3aa6d2fa",
   "metadata": {},
   "source": [
    "一个解决办法是记录已经计算过的值，并将它们保存在一个字典中。将之前计算的值保存起来以便后面使用的方法称为**备忘(memo)**。下面给出一个使用了备忘的 `fibonacci` 版本:"
   ]
  },
  {
   "cell_type": "code",
   "execution_count": 1,
   "id": "634bb5c5",
   "metadata": {},
   "outputs": [],
   "source": [
    "known ={0:0,1:1}\n",
    "\n",
    "def fibonacci(n):\n",
    "    if n in known:\n",
    "        return known[n]\n",
    "    res = fibonacci(n-1)+fibonacci(n-2)\n",
    "    known = res\n",
    "    return res"
   ]
  },
  {
   "cell_type": "markdown",
   "id": "19828430",
   "metadata": {},
   "source": [
    "`known` 是一个用来记录我们已知的 `Fabonacci` 数的字典。开始时它有两项:`0` 映射到 `0`，`1` 映射到 `1`。"
   ]
  },
  {
   "cell_type": "markdown",
   "id": "67a78b00",
   "metadata": {},
   "source": [
    "每当 `fibonacci` 被调用时，它会先检查 `known`。如果结果已经存在，则可以立刻返回。如果不存在，它需要计算这个新值，并将其添加进字典，并返回。"
   ]
  },
  {
   "cell_type": "markdown",
   "id": "effecd5f",
   "metadata": {},
   "source": [
    "如果运行 `fibonacci` 的这个版本，并将其与原始版本进行比较，会发现，这个版本快得多。"
   ]
  },
  {
   "cell_type": "markdown",
   "id": "115e74b0",
   "metadata": {},
   "source": [
    "## 全局变量"
   ]
  },
  {
   "cell_type": "markdown",
   "id": "daa7de99",
   "metadata": {},
   "source": [
    "在前一个例子中，`known` 是函数之外创建的，所以它属于被称为 `__main__` 的特殊帧。`__main__` 之中的变量有时被称为**全局**变量，因为它们可以在任意函数中访问。和局部变量在函数结束消失不同，全局变量可以在不同函数的调用之间持久存在。"
   ]
  },
  {
   "cell_type": "markdown",
   "id": "070cb9ad",
   "metadata": {},
   "source": [
    "全局变量常常用作**标志(flag)**; 它是一种布尔变量，可以标志一个条件是否为真。例如，有的函数使用一个叫 `verbose` 的标志来控制输出的详细程度:"
   ]
  },
  {
   "cell_type": "code",
   "execution_count": 2,
   "id": "102e4fdc",
   "metadata": {},
   "outputs": [],
   "source": [
    "verbose = True\n",
    "\n",
    "def example1():\n",
    "    if verbose:\n",
    "        print('Running example1')"
   ]
  },
  {
   "cell_type": "markdown",
   "id": "7b203409",
   "metadata": {},
   "source": [
    "如果我们尝试给全局变量重新赋值，可能会感到惊讶。下面例子的本意是想记录函数是否有被调用过:"
   ]
  },
  {
   "cell_type": "code",
   "execution_count": 3,
   "id": "622e4928",
   "metadata": {},
   "outputs": [],
   "source": [
    "been_called = False\n",
    "\n",
    "def example2():\n",
    "    been_called = True"
   ]
  },
  {
   "cell_type": "markdown",
   "id": "5164999e",
   "metadata": {},
   "source": [
    "但我们运行它时，会发现 `been_called` 的值并不会变化。问题在于函数 `example2` 会新建一个局部变量 `been_called`。局部变量在函数结束时就会消失，并且对全局变量没有任何影响。"
   ]
  },
  {
   "cell_type": "markdown",
   "id": "c893ed89",
   "metadata": {},
   "source": [
    "要想在函数中给全局变量重新赋值，需要在使用它之前**声明**这个全局变量:"
   ]
  },
  {
   "cell_type": "code",
   "execution_count": 4,
   "id": "20307ea1",
   "metadata": {},
   "outputs": [],
   "source": [
    "been_called = False\n",
    "\n",
    "def example2():\n",
    "    global been_called\n",
    "    been_called = True"
   ]
  },
  {
   "cell_type": "markdown",
   "id": "e0de7a93",
   "metadata": {},
   "source": [
    "`globle` 语句告诉编译器，“在这个函数里，当我说 `been_called` 时，指的是全局变量; 不要新建一个局部变量。”"
   ]
  },
  {
   "cell_type": "markdown",
   "id": "bb70dd2f",
   "metadata": {},
   "source": [
    "下面给出一个尝试更新全局变量的例子:"
   ]
  },
  {
   "cell_type": "code",
   "execution_count": 5,
   "id": "a62aeb7e",
   "metadata": {},
   "outputs": [],
   "source": [
    "count = 0\n",
    "\n",
    "def example3():\n",
    "    count = count + 1"
   ]
  },
  {
   "cell_type": "markdown",
   "id": "28c47e7c",
   "metadata": {},
   "source": [
    "运行该函数,会产生下列错误:"
   ]
  },
  {
   "cell_type": "code",
   "execution_count": 7,
   "id": "ef12c5bc",
   "metadata": {},
   "outputs": [
    {
     "ename": "UnboundLocalError",
     "evalue": "local variable 'count' referenced before assignment",
     "output_type": "error",
     "traceback": [
      "\u001b[0;31m---------------------------------------------------------------------------\u001b[0m",
      "\u001b[0;31mUnboundLocalError\u001b[0m                         Traceback (most recent call last)",
      "\u001b[0;32m/tmp/ipykernel_6035/3305567964.py\u001b[0m in \u001b[0;36m<module>\u001b[0;34m\u001b[0m\n\u001b[0;32m----> 1\u001b[0;31m \u001b[0mexample3\u001b[0m\u001b[0;34m(\u001b[0m\u001b[0;34m)\u001b[0m\u001b[0;34m\u001b[0m\u001b[0;34m\u001b[0m\u001b[0m\n\u001b[0m",
      "\u001b[0;32m/tmp/ipykernel_6035/3308613918.py\u001b[0m in \u001b[0;36mexample3\u001b[0;34m()\u001b[0m\n\u001b[1;32m      2\u001b[0m \u001b[0;34m\u001b[0m\u001b[0m\n\u001b[1;32m      3\u001b[0m \u001b[0;32mdef\u001b[0m \u001b[0mexample3\u001b[0m\u001b[0;34m(\u001b[0m\u001b[0;34m)\u001b[0m\u001b[0;34m:\u001b[0m\u001b[0;34m\u001b[0m\u001b[0;34m\u001b[0m\u001b[0m\n\u001b[0;32m----> 4\u001b[0;31m     \u001b[0mcount\u001b[0m \u001b[0;34m=\u001b[0m \u001b[0mcount\u001b[0m \u001b[0;34m+\u001b[0m \u001b[0;36m1\u001b[0m\u001b[0;34m\u001b[0m\u001b[0;34m\u001b[0m\u001b[0m\n\u001b[0m",
      "\u001b[0;31mUnboundLocalError\u001b[0m: local variable 'count' referenced before assignment"
     ]
    }
   ],
   "source": [
    "example3()"
   ]
  },
  {
   "cell_type": "markdown",
   "id": "4e9c8b30",
   "metadata": {},
   "source": [
    "`Python` 会假设 `count` 是局部的，在这种假定下你在写入它之前先读取了。解决方案也是声明 `count` 为全局变量。"
   ]
  },
  {
   "cell_type": "code",
   "execution_count": 8,
   "id": "74a80afe",
   "metadata": {},
   "outputs": [],
   "source": [
    "def example3():\n",
    "    global count\n",
    "    count += 1"
   ]
  },
  {
   "cell_type": "markdown",
   "id": "b25fd49e",
   "metadata": {},
   "source": [
    "如果全局变量指向的是可变的值，可以不用声明该变量就可以修改该值:"
   ]
  },
  {
   "cell_type": "code",
   "execution_count": 9,
   "id": "1da2074d",
   "metadata": {},
   "outputs": [],
   "source": [
    "known = {0:0,1:1}\n",
    "\n",
    "def example4():\n",
    "    known[2] = 1"
   ]
  },
  {
   "cell_type": "markdown",
   "id": "1ff7a015",
   "metadata": {},
   "source": [
    "所以可以添加、删除和替换一个全局的列表或字典的元素，但如果想要给全局变量重新赋值，则需要声明它:"
   ]
  },
  {
   "cell_type": "code",
   "execution_count": 10,
   "id": "7192042a",
   "metadata": {},
   "outputs": [],
   "source": [
    "def example5():\n",
    "    global known\n",
    "    known = dict()"
   ]
  },
  {
   "cell_type": "markdown",
   "id": "99ff527a",
   "metadata": {},
   "source": [
    "全局变量很有用，但如果使用太多，并且频繁修改，可能会让代码比较难调试。"
   ]
  },
  {
   "cell_type": "markdown",
   "id": "4dbe2dbe",
   "metadata": {},
   "source": [
    "## 调试"
   ]
  },
  {
   "cell_type": "markdown",
   "id": "658b1c05",
   "metadata": {},
   "source": [
    "在使用更大的数据集时，通过打印和手动检查输出的方式来调试已经变得很笨拙了。下面是一些调试大数据集的建议:"
   ]
  },
  {
   "cell_type": "markdown",
   "id": "598fb5e9",
   "metadata": {},
   "source": [
    "###  缩小输入"
   ]
  },
  {
   "cell_type": "markdown",
   "id": "a71d4105",
   "metadata": {},
   "source": [
    "如果可能，减小数据集的尺寸。例如，程序如果读入文本文件，可以从开头10行开始，或者使用你能找到的最小样本。你可以编辑文件本身，或者修改程序只让它读入前 *n* 行"
   ]
  },
  {
   "cell_type": "markdown",
   "id": "e01fde9f",
   "metadata": {},
   "source": [
    "如果出现了错误，可以调小 *n*，小到足够展现出错误的最低程度，并在修改之后逐渐增大 *n*。"
   ]
  },
  {
   "cell_type": "markdown",
   "id": "a1ca6f07",
   "metadata": {},
   "source": [
    "### 检查概要信息和类型"
   ]
  },
  {
   "cell_type": "markdown",
   "id": "2a3ed88b",
   "metadata": {},
   "source": [
    "与其打印和检查整个数据集，可以考虑打印出数据的概要信息: 例如，字典中条目的数量，或者一个列表中数的和。"
   ]
  },
  {
   "cell_type": "markdown",
   "id": "ab6ded0f",
   "metadata": {},
   "source": [
    "运行时错误的一个常见原因是某个值的类型不对。调试这种错误时，常常只需要打印出值的类型就足够了。"
   ]
  },
  {
   "cell_type": "markdown",
   "id": "5fe37348",
   "metadata": {},
   "source": [
    "### 编写自检查逻辑"
   ]
  },
  {
   "cell_type": "markdown",
   "id": "07dc0fd5",
   "metadata": {},
   "source": [
    "哟时候可以写代码自动检查错误。例如，如果你要计算一系列数的平均值，可以检查结果是否比列表中最大的数小，或者比最小的数大。这种检查称为\"健全检查\"(sanity check)，因为它会发现那些\"发疯\"的结果。"
   ]
  },
  {
   "cell_type": "markdown",
   "id": "1c582030",
   "metadata": {},
   "source": [
    "另一种检查可以对比两种不同的计算的结果，查看它们是否一致。这样的检查称为\"一致性检查\"。"
   ]
  },
  {
   "cell_type": "markdown",
   "id": "032b0a19",
   "metadata": {},
   "source": [
    "### 格式化输出"
   ]
  },
  {
   "cell_type": "markdown",
   "id": "d81fdf47",
   "metadata": {},
   "source": [
    "格式化调试输出，可以更容易发现错误。我们之前在6.9节中已经看到过一个例子。`pprint` 模块提供了一个 `pprint` 函数，可以将内置类型的值以更人性化的可读的格式打印出来。(`pprint` 代表\"pretty print\")"
   ]
  },
  {
   "cell_type": "markdown",
   "id": "46c281b4",
   "metadata": {},
   "source": [
    "另外，再提醒一次，花费时间构建脚手架代码，可以减少未来进行调试的时间。"
   ]
  }
 ],
 "metadata": {
  "kernelspec": {
   "display_name": "Python 3 (ipykernel)",
   "language": "python",
   "name": "python3"
  },
  "language_info": {
   "codemirror_mode": {
    "name": "ipython",
    "version": 3
   },
   "file_extension": ".py",
   "mimetype": "text/x-python",
   "name": "python",
   "nbconvert_exporter": "python",
   "pygments_lexer": "ipython3",
   "version": "3.8.10"
  }
 },
 "nbformat": 4,
 "nbformat_minor": 5
}
