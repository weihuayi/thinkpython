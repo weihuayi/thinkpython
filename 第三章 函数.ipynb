{
 "cells": [
  {
   "cell_type": "markdown",
   "metadata": {},
   "source": [
    "# 函数"
   ]
  },
  {
   "cell_type": "markdown",
   "metadata": {},
   "source": [
    "**函数：** 在程序设计中，函数是指用于进行某种计算的一系列语句的有名称的组合。定义一个函数时，需要指定函数的名称并写下一系列程序语句。之后，可以使用名称来调用这个函数。"
   ]
  },
  {
   "cell_type": "markdown",
   "metadata": {},
   "source": [
    "## 函数调用"
   ]
  },
  {
   "cell_type": "markdown",
   "metadata": {},
   "source": [
    "调用一个函数，需要知道函数名，并输入函数所需的**参数**。"
   ]
  },
  {
   "cell_type": "code",
   "execution_count": 10,
   "metadata": {},
   "outputs": [
    {
     "data": {
      "text/plain": [
       "int"
      ]
     },
     "execution_count": 10,
     "metadata": {},
     "output_type": "execute_result"
    }
   ],
   "source": [
    "type(42)"
   ]
  },
  {
   "cell_type": "markdown",
   "metadata": {},
   "source": [
    "上述语句就是函数调用的例子，其中，函数名称为type，括号中42为输入的参数。调用该函数的结果是求得参数的类型，这个结果称为**返回值**。"
   ]
  },
  {
   "cell_type": "markdown",
   "metadata": {},
   "source": [
    "## 数学函数"
   ]
  },
  {
   "cell_type": "markdown",
   "metadata": {},
   "source": [
    "**模块：** 包含一组相关的函数的文件"
   ]
  },
  {
   "cell_type": "markdown",
   "metadata": {},
   "source": [
    "Python中提供了许多功能强大的模块，可以实现不同的功能。例如Python有一个数学计算模块，提供了大多数常用的数学函数。可以通过import语句导入模块。"
   ]
  },
  {
   "cell_type": "code",
   "execution_count": 18,
   "metadata": {},
   "outputs": [],
   "source": [
    "import math"
   ]
  },
  {
   "cell_type": "markdown",
   "metadata": {},
   "source": [
    "若想使用其中的函数，需要同时指定模块名称和函数名称，并用一个句点(.) 分隔。这个格式称为**句点表示法**。"
   ]
  },
  {
   "cell_type": "code",
   "execution_count": 20,
   "metadata": {},
   "outputs": [],
   "source": [
    "radians = 0.7\n",
    "height = math.sin(radians)"
   ]
  },
  {
   "cell_type": "markdown",
   "metadata": {},
   "source": [
    "上述语句就调用math中的sin函数计算了radians的正弦值。"
   ]
  },
  {
   "cell_type": "markdown",
   "metadata": {},
   "source": [
    "## 组合"
   ]
  },
  {
   "cell_type": "markdown",
   "metadata": {},
   "source": [
    "可以将程序的基本元素: 变量，表达式和语句有机地组合起来。程序设计语言最有用的特性之一就是可以将各种小的构建块**组合**起来。例如，函数的参数可以是任意类型的表达式，包括算术操作符:"
   ]
  },
  {
   "cell_type": "code",
   "execution_count": 5,
   "metadata": {},
   "outputs": [],
   "source": [
    "degrees = 45\n",
    "x = math.sin(degrees/360.0*2*math.pi)"
   ]
  },
  {
   "cell_type": "markdown",
   "metadata": {},
   "source": [
    "甚至还包括函数调用:"
   ]
  },
  {
   "cell_type": "code",
   "execution_count": 7,
   "metadata": {},
   "outputs": [],
   "source": [
    "x = math.exp(math.log(x+1))"
   ]
  },
  {
   "cell_type": "markdown",
   "metadata": {},
   "source": [
    "基本上，在任何可以使用值的地方，都可以使用任意表达式，只有一个例外，赋值表达式的左边必须是变量名称，在左边放置任何其他的表达式都是语法错误。"
   ]
  },
  {
   "cell_type": "code",
   "execution_count": 8,
   "metadata": {},
   "outputs": [
    {
     "ename": "SyntaxError",
     "evalue": "can't assign to operator (<ipython-input-8-360fb0e45f3b>, line 3)",
     "output_type": "error",
     "traceback": [
      "\u001b[0;36m  File \u001b[0;32m\"<ipython-input-8-360fb0e45f3b>\"\u001b[0;36m, line \u001b[0;32m3\u001b[0m\n\u001b[0;31m    hours*60 = minutes # 错误\u001b[0m\n\u001b[0m                           ^\u001b[0m\n\u001b[0;31mSyntaxError\u001b[0m\u001b[0;31m:\u001b[0m can't assign to operator\n"
     ]
    }
   ],
   "source": [
    "hours = 2\n",
    "minutes = hours*60 # 正确\n",
    "hours*60 = minutes # 错误"
   ]
  },
  {
   "cell_type": "markdown",
   "metadata": {},
   "source": [
    "## 添加新函数"
   ]
  },
  {
   "cell_type": "markdown",
   "metadata": {},
   "source": [
    "除使用Python提供的函数外，也可以自己添加新的函数。"
   ]
  },
  {
   "cell_type": "markdown",
   "metadata": {},
   "source": [
    "**函数定义：** 指定新函数的名称，并提供一系列程序语句。"
   ]
  },
  {
   "cell_type": "code",
   "execution_count": 13,
   "metadata": {},
   "outputs": [],
   "source": [
    "def print_lytics():\n",
    "    print(\"I'm a lumberjack, and I'm okay.\")\n",
    "    print(\"I sleep all night and I work all day.\")"
   ]
  },
  {
   "cell_type": "markdown",
   "metadata": {},
   "source": [
    "* 函数名称书写规则：\n",
    "    1. 函数名只能包含字母，数字和下划线，但不能以数字打头；\n",
    "    1. 函数名不能包含空格，但可使用下划线来分隔其中的单词；\n",
    "    1. 不要将Python关键字作为函数名，并要尽量避免函数和变量同名。"
   ]
  },
  {
   "cell_type": "markdown",
   "metadata": {},
   "source": [
    "* 函数定义：\n",
    "    1. 函数定义的第一行称为函数头，其他部分称为函数体；\n",
    "    1. 函数名后的括号内输入要接收的参数名称，若为空括号，则表示不接收任何参数；\n",
    "    1. 函数头要以冒号结束，函数体应当整体缩进一级，缩进总是使用4个空格(一个tab键)。函数体的代码行数不限。"
   ]
  },
  {
   "cell_type": "markdown",
   "metadata": {},
   "source": [
    "定义一个函数会创建一个函数对象，类型为function"
   ]
  },
  {
   "cell_type": "code",
   "execution_count": 14,
   "metadata": {},
   "outputs": [
    {
     "name": "stdout",
     "output_type": "stream",
     "text": [
      "<function print_lytics at 0x7f9688f80730>\n"
     ]
    }
   ],
   "source": [
    "print(print_lytics)"
   ]
  },
  {
   "cell_type": "code",
   "execution_count": 7,
   "metadata": {},
   "outputs": [
    {
     "data": {
      "text/plain": [
       "function"
      ]
     },
     "execution_count": 7,
     "metadata": {},
     "output_type": "execute_result"
    }
   ],
   "source": [
    "type(print_lytics)"
   ]
  },
  {
   "cell_type": "markdown",
   "metadata": {},
   "source": [
    "## 形参和实参"
   ]
  },
  {
   "cell_type": "markdown",
   "metadata": {},
   "source": [
    "**形参：** 函数内使用的用来引用作为实参传入的值的名称。\n",
    "**实参：** 当函数调用时，提供给它的值。这个值会被赋值给对应的形参。"
   ]
  },
  {
   "cell_type": "code",
   "execution_count": 10,
   "metadata": {},
   "outputs": [
    {
     "name": "stdout",
     "output_type": "stream",
     "text": [
      "spam\n",
      "42\n"
     ]
    }
   ],
   "source": [
    "def print_twice(bruce):\n",
    "    print(bruce)\n",
    "    print(bruce)\n",
    "print('spam')\n",
    "print(42)"
   ]
  },
  {
   "cell_type": "markdown",
   "metadata": {},
   "source": [
    "上述语句中，bruce为形参，而'spam'与42都为实参。在函数内部，实参会赋值给形参。"
   ]
  },
  {
   "cell_type": "markdown",
   "metadata": {},
   "source": [
    "可以使用变量作为实参："
   ]
  },
  {
   "cell_type": "code",
   "execution_count": 16,
   "metadata": {},
   "outputs": [
    {
     "name": "stdout",
     "output_type": "stream",
     "text": [
      "A,B,C\n",
      "A,B,C\n"
     ]
    }
   ],
   "source": [
    "a = 'A,B,C'\n",
    "print_twice(a)"
   ]
  },
  {
   "cell_type": "markdown",
   "metadata": {},
   "source": [
    "## 变量和形参是局部的"
   ]
  },
  {
   "cell_type": "markdown",
   "metadata": {},
   "source": [
    "在函数体内新建一个变量时，这个变量是**局部**的，即它只存在于这个函数之内。"
   ]
  },
  {
   "cell_type": "code",
   "execution_count": 15,
   "metadata": {},
   "outputs": [],
   "source": [
    "def cat_twice(part1,part2):\n",
    "    cat = part1+part2\n",
    "    print_twice(cat)"
   ]
  },
  {
   "cell_type": "code",
   "execution_count": 16,
   "metadata": {},
   "outputs": [
    {
     "name": "stdout",
     "output_type": "stream",
     "text": [
      "Bing tiddletiddle bang\n",
      "Bing tiddletiddle bang\n"
     ]
    }
   ],
   "source": [
    "line1 = 'Bing tiddle'\n",
    "line2 = 'tiddle bang'\n",
    "cat_twice(line1,line2)"
   ]
  },
  {
   "cell_type": "markdown",
   "metadata": {},
   "source": [
    "当cat_twice结束时，变量cat会被销毁。这时再尝试打印它的话，会得到一个异常"
   ]
  },
  {
   "cell_type": "code",
   "execution_count": 14,
   "metadata": {},
   "outputs": [
    {
     "ename": "NameError",
     "evalue": "name 'cat' is not defined",
     "output_type": "error",
     "traceback": [
      "\u001b[0;31m---------------------------------------------------------------------------\u001b[0m",
      "\u001b[0;31mNameError\u001b[0m                                 Traceback (most recent call last)",
      "\u001b[0;32m<ipython-input-14-34599fba884e>\u001b[0m in \u001b[0;36m<module>\u001b[0;34m\u001b[0m\n\u001b[0;32m----> 1\u001b[0;31m \u001b[0mprint\u001b[0m\u001b[0;34m(\u001b[0m\u001b[0mcat\u001b[0m\u001b[0;34m)\u001b[0m\u001b[0;34m\u001b[0m\u001b[0;34m\u001b[0m\u001b[0m\n\u001b[0m",
      "\u001b[0;31mNameError\u001b[0m: name 'cat' is not defined"
     ]
    }
   ],
   "source": [
    "print(cat)"
   ]
  },
  {
   "cell_type": "markdown",
   "metadata": {},
   "source": [
    "由上可看出，变量cat只存在于函数cat_twice()内，在执行完毕后，变量cat就会被销毁。同理，形参也是局部的，变量part1和part2同样也只存在于函数cat_twice()中。"
   ]
  },
  {
   "cell_type": "markdown",
   "metadata": {},
   "source": [
    "## 栈图"
   ]
  },
  {
   "cell_type": "markdown",
   "metadata": {},
   "source": [
    "**栈图：**函数栈的图形表达形式，也展示他们的变量，以及这些变量引用的值。 "
   ]
  },
  {
   "cell_type": "markdown",
   "metadata": {},
   "source": [
    "要跟踪哪些变量在哪些地方使用，画一个栈图会很方便。和状态图一样，栈图可以展示每个变量的值，不同的是它会展示每个变量所属的函数。"
   ]
  },
  {
   "cell_type": "markdown",
   "metadata": {},
   "source": [
    "每个函数使用一个**帧** 包含，帧在栈图中就是一个带着函数名称的盒子，里面有函数的参数和变量。上面的函数示例栈图如下所示"
   ]
  },
  {
   "cell_type": "markdown",
   "metadata": {},
   "source": [
    "| 函数 | 帧 |\n",
    "|---|---|\n",
    "| \\_\\_main\\_\\_ | line1->'Bing tiddle' |\n",
    "| \\_\\_main\\_\\_ | line2->'tiddle bang' |\n",
    "| cat_twice | part1->'Bing tiddle' |\n",
    "| cat_twice | part2->'tiddle bang' |\n",
    "| cat_twice | cat->'Bing tiddle tiddle bang'|\n",
    "| print_twice| bruce->'Bing tiddle tiddle bang' |"
   ]
  },
  {
   "cell_type": "markdown",
   "metadata": {},
   "source": [
    "图中各个帧从上到下安排成一个帧，能够展示出那个函数被那个函数调用了。在这个例子中，print_twice()被cat_twice()调用，而cat_twice()被\\_\\_main\\_\\_()调用。\\_\\_main\\_\\_()是用于表示整个栈图的图框的特别名称。在所有函数之外新建变量时，它就是属于\\_\\_main\\_\\_()的。"
   ]
  },
  {
   "cell_type": "markdown",
   "metadata": {},
   "source": [
    "每个形参都指向与其对应的实参相同的值，所以，part1和line1的值相同，part2和line2的值相同，而bruce和cat的值相同。"
   ]
  },
  {
   "cell_type": "markdown",
   "metadata": {},
   "source": [
    "如果调用函数的过程中发生了错误，python会打印出函数名、调用它的函数的名称，以及调用这个调用者的函数名，以此类推，一直到\\_\\_main\\_\\_()"
   ]
  },
  {
   "cell_type": "markdown",
   "metadata": {},
   "source": [
    "## 有返回值函数和无返回值函数"
   ]
  },
  {
   "cell_type": "markdown",
   "metadata": {},
   "source": [
    "**有返回值函数：** 函数会返回一个结果。\n",
    "\n",
    "**无返回值函数：** 函数会执行一个动作，但不返回任何值。"
   ]
  },
  {
   "cell_type": "markdown",
   "metadata": {},
   "source": [
    "对于有返回值的函数，可以把结果赋值给一个变量："
   ]
  },
  {
   "cell_type": "code",
   "execution_count": 21,
   "metadata": {},
   "outputs": [
    {
     "name": "stdout",
     "output_type": "stream",
     "text": [
      "0.7648421872844885\n"
     ]
    }
   ],
   "source": [
    "x = math.cos(radians)\n",
    "print(x)"
   ]
  },
  {
   "cell_type": "markdown",
   "metadata": {},
   "source": [
    "在交互模式中调用函数时，python会直接显示结果，但是在脚本中，如果只是直接调用这类函数，那么它的返回值就会永远丢失掉。"
   ]
  },
  {
   "cell_type": "markdown",
   "metadata": {},
   "source": [
    "无返回值函数可能在屏幕上显示某些东西，或者有其他的效果，但是它们没有返回值。如果把该结果赋值给某个变量，则会得到一个特殊的值None"
   ]
  },
  {
   "cell_type": "code",
   "execution_count": 24,
   "metadata": {},
   "outputs": [
    {
     "name": "stdout",
     "output_type": "stream",
     "text": [
      "Bing\n",
      "Bing\n",
      "None\n"
     ]
    }
   ],
   "source": [
    "result = print_twice('Bing')\n",
    "print(result)"
   ]
  },
  {
   "cell_type": "markdown",
   "metadata": {},
   "source": [
    "值None和字符串'None'并不一样。它是一个特殊的值，有自己独特的类型"
   ]
  },
  {
   "cell_type": "code",
   "execution_count": 25,
   "metadata": {},
   "outputs": [
    {
     "name": "stdout",
     "output_type": "stream",
     "text": [
      "<class 'NoneType'>\n"
     ]
    }
   ],
   "source": [
    "print(type(None))"
   ]
  },
  {
   "cell_type": "markdown",
   "metadata": {},
   "source": [
    "到目前为止，我们自定义的函数均为无返回值函数，在之后的学习我们会接触到。"
   ]
  },
  {
   "cell_type": "markdown",
   "metadata": {},
   "source": [
    "## 为什么要有函数"
   ]
  },
  {
   "cell_type": "markdown",
   "metadata": {},
   "source": [
    "* 新建函数，可以给一组语句命名，可以让代码更易读，更易懂；\n",
    "* 函数可以通过减少重复代码使程序更短小，更具有可读性；\n",
    "* 将长段程序拆分可几个函数后，可对每一个函数单独进行调试；\n",
    "* 设计良好的函数可在多个程序中使用。"
   ]
  },
  {
   "cell_type": "markdown",
   "metadata": {},
   "source": [
    "## 调试"
   ]
  },
  {
   "cell_type": "markdown",
   "metadata": {},
   "source": [
    "调试是编程中最重要最核心的技能，虽然调试过程可能会很烦恼，但它也是最耗脑力，最有挑战，最有趣的部分。"
   ]
  },
  {
   "cell_type": "markdown",
   "metadata": {},
   "source": [
    "某种程度上，调试和刑侦工作很像，会面对一些线索，而且必须推导出事情发生的过程，以及导致现场结果的事件。"
   ]
  },
  {
   "cell_type": "markdown",
   "metadata": {},
   "source": [
    "调试也像是一种实验科学。一旦猜出错误的可能原因，就可以修改程序，再运行一次，如果猜对了，那么程序的运行结果会符合预测，这样就离正确的程序更近了一步，如果猜错了，则需要重新思考。正如夏洛克福尔摩斯所说:\"当你排除掉所有的不可能，那么剩下的，不管多么不可能，必定是真相。\""
   ]
  },
  {
   "cell_type": "markdown",
   "metadata": {},
   "source": [
    "对某些人来说，编程和调试是同一件事。也就是说，编程正是不断调试修改直到程序达到设计目的过程。这种想法的要旨是，应该从一个能做某些事的程序开始，然后做一点点修改，并调试修改，如此迭代，以确保总是有一个可以运行的程序。"
   ]
  }
 ],
 "metadata": {
  "kernelspec": {
   "display_name": "Python 3",
   "language": "python",
   "name": "python3"
  },
  "language_info": {
   "codemirror_mode": {
    "name": "ipython",
    "version": 3
   },
   "file_extension": ".py",
   "mimetype": "text/x-python",
   "name": "python",
   "nbconvert_exporter": "python",
   "pygments_lexer": "ipython3",
   "version": "3.7.3"
  }
 },
 "nbformat": 4,
 "nbformat_minor": 2
}
