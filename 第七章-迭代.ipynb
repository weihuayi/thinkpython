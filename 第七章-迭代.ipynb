{
 "cells": [
  {
   "cell_type": "markdown",
   "metadata": {},
   "source": [
    "# 重新赋值"
   ]
  },
  {
   "cell_type": "code",
   "execution_count": 6,
   "metadata": {},
   "outputs": [
    {
     "data": {
      "text/plain": [
       "5"
      ]
     },
     "execution_count": 6,
     "metadata": {},
     "output_type": "execute_result"
    }
   ],
   "source": [
    "x=5\n",
    "x"
   ]
  },
  {
   "cell_type": "code",
   "execution_count": 7,
   "metadata": {},
   "outputs": [
    {
     "data": {
      "text/plain": [
       "7"
      ]
     },
     "execution_count": 7,
     "metadata": {},
     "output_type": "execute_result"
    }
   ],
   "source": [
    "x=7\n",
    "x"
   ]
  },
  {
   "cell_type": "markdown",
   "metadata": {},
   "source": [
    "另外， 在数学中，一个相等判断的命题总是非真即假。如果现在 `a=b`，那么 `a` 总会等于 `b`。"
   ]
  },
  {
   "cell_type": "markdown",
   "metadata": {},
   "source": [
    "在 Python 中，赋值语句会让两个变量变得相等，但它们不会总保持那个状态:"
   ]
  },
  {
   "cell_type": "code",
   "execution_count": 8,
   "metadata": {},
   "outputs": [
    {
     "data": {
      "text/plain": [
       "5"
      ]
     },
     "execution_count": 8,
     "metadata": {},
     "output_type": "execute_result"
    }
   ],
   "source": [
    "a=5\n",
    "b=a # a 和 b 现在相等\n",
    "a=3 # a 和 b 不再相等\n",
    "b"
   ]
  },
  {
   "cell_type": "markdown",
   "metadata": {},
   "source": [
    "# 更新变量"
   ]
  },
  {
   "cell_type": "markdown",
   "metadata": {},
   "source": [
    "重新赋值的最常见形式是**更新**。更新是一种赋值操作，新值依赖于变量的旧值。"
   ]
  },
  {
   "cell_type": "code",
   "execution_count": 10,
   "metadata": {},
   "outputs": [
    {
     "data": {
      "text/plain": [
       "6"
      ]
     },
     "execution_count": 10,
     "metadata": {},
     "output_type": "execute_result"
    }
   ],
   "source": [
    "x = 5\n",
    "x = x+1\n",
    "x"
   ]
  },
  {
   "cell_type": "markdown",
   "metadata": {},
   "source": [
    "上述语句的意思是**\"获取x的当前值，加一，再更新x为此新值\"**。"
   ]
  },
  {
   "cell_type": "markdown",
   "metadata": {},
   "source": [
    "如果尝试更新一个并不存在的变量，则会得到错误。因此在更新变量之前，必须先对它进行**初始化**。初始化也是一种赋值操作，它给变量一个初始的值，以后可以进行更新。"
   ]
  },
  {
   "cell_type": "code",
   "execution_count": 11,
   "metadata": {},
   "outputs": [],
   "source": [
    "x = 0\n",
    "x = x+1"
   ]
  },
  {
   "cell_type": "markdown",
   "metadata": {},
   "source": [
    "通过加 1 来更新一个变量，称为**增量**；减 1 的操作称为**减量**。"
   ]
  },
  {
   "cell_type": "markdown",
   "metadata": {},
   "source": [
    "# while 语句"
   ]
  },
  {
   "cell_type": "markdown",
   "metadata": {},
   "source": [
    "计算机常被用来自动化重复处理某些任务。重复执行相同或相似的任务，而不犯错误，这是电脑的优点。在计算机程序中，重复也被称作**迭代**。"
   ]
  },
  {
   "cell_type": "markdown",
   "metadata": {},
   "source": [
    "在之前讲递归时，已经见过了 `for` 循环语句，现在来介绍另一种循环语句，即 `while` 循环语句。我们使用 `while`语句来实现 `countdown()`函数"
   ]
  },
  {
   "cell_type": "code",
   "execution_count": 13,
   "metadata": {},
   "outputs": [],
   "source": [
    "def countdown(n):\n",
    "    while n>0:\n",
    "        print(n)\n",
    "        n = n-1\n",
    "    print('Blastoff!')"
   ]
  },
  {
   "cell_type": "markdown",
   "metadata": {},
   "source": [
    "我们基本可以按照英语来理解 `while` 语句。它的意思是:\"每当 `n` 还大于 `0` 时，显示 `n` 的值，并将 `n` 减 `1`。当 `n` 变成 `0` 的时候，显示单词 Blastoff!\"。"
   ]
  },
  {
   "cell_type": "markdown",
   "metadata": {},
   "source": [
    "正式来说，`while` 语句执行的流程为:\n",
    "* 确定条件是真还是假。\n",
    "* 如果条件为假，退出 `while` 语句，并继续执行后面的语句。\n",
    "* 如果条件为真，则运行 `while` 语句的语句体，并返回第 1 步。"
   ]
  },
  {
   "cell_type": "markdown",
   "metadata": {},
   "source": [
    "这种类型的流程称为**循环**，因为第 3 步又循环返回到最顶端的第 1 步了。"
   ]
  },
  {
   "cell_type": "markdown",
   "metadata": {},
   "source": [
    "循环的语句体里面应当修改一个或多个变量的值，以致循环的条件最终能变成假，而退出循环。否则这个循环会永远重复下去，这样的情况叫做**无限循环**。"
   ]
  },
  {
   "cell_type": "markdown",
   "metadata": {},
   "source": [
    "在 `countdown()` 这个函数中，循环必然会终结:如果 `n` 是 0 或负数，该循环不运行。否则，`n` 的值都会减小，因此最终 `n` 会变成 0。"
   ]
  },
  {
   "cell_type": "markdown",
   "metadata": {},
   "source": [
    "# break语句"
   ]
  },
  {
   "cell_type": "markdown",
   "metadata": {},
   "source": [
    "有时只有在循环语句体的执行途中才能知道是不是到了退出循环的时机。这时可以使用 `break` 语句来跳出循环。"
   ]
  },
  {
   "cell_type": "code",
   "execution_count": 14,
   "metadata": {},
   "outputs": [
    {
     "name": "stdout",
     "output_type": "stream",
     "text": [
      ">done\n"
     ]
    }
   ],
   "source": [
    "while True:\n",
    "    line=input('>')\n",
    "    if line == 'done':\n",
    "        break\n",
    "    print(line)"
   ]
  },
  {
   "cell_type": "markdown",
   "metadata": {},
   "source": [
    "在上述循环中，循环的条件是 `True`, 总是为真，所以循环会一直进行，直到遇到 `break` 语句。当用户输入 `done` 时，`break`语句会退出循环。否则程序会显示出用户输入的内容，并重新回到循环的顶端。"
   ]
  },
  {
   "cell_type": "markdown",
   "metadata": {},
   "source": [
    "这种写 `while` 循环的方式很常见，因为可以把判断循环条件的逻辑放在循环中的任何地方(而不是只在顶端)，并且可以以肯定的语气来表示终结条件(当这样发生时停止循环)，而不是否定的语气(继续执行，直到那个条件发生)。"
   ]
  },
  {
   "cell_type": "markdown",
   "metadata": {},
   "source": [
    "# 平方根"
   ]
  },
  {
   "cell_type": "markdown",
   "metadata": {},
   "source": [
    "程序中常常使用循环来进行数值计算，以一个近似值开始，并迭代地优化计算结果。"
   ]
  },
  {
   "cell_type": "markdown",
   "metadata": {},
   "source": [
    "例如，计算平方根的方法之一是牛顿方法。假设你想要知道 `a` 的平方根。如果你以任意一个估计值开始，可以使用如下的方程获得一个更好的估计值:"
   ]
  },
  {
   "cell_type": "markdown",
   "metadata": {},
   "source": [
    "$$ \n",
    "y = \\frac{x+a/x}{2}\n",
    "$$"
   ]
  },
  {
   "cell_type": "markdown",
   "metadata": {},
   "source": [
    "例如，如果 `a` 是 4 而 `x` 是 3:"
   ]
  },
  {
   "cell_type": "code",
   "execution_count": 15,
   "metadata": {},
   "outputs": [
    {
     "data": {
      "text/plain": [
       "2.1666666666666665"
      ]
     },
     "execution_count": 15,
     "metadata": {},
     "output_type": "execute_result"
    }
   ],
   "source": [
    "a = 4\n",
    "x = 3\n",
    "y = (x+a/x)/2\n",
    "y"
   ]
  },
  {
   "cell_type": "markdown",
   "metadata": {},
   "source": [
    "如果使用新的估计值重复这个过程，会得到更近似的结果:"
   ]
  },
  {
   "cell_type": "code",
   "execution_count": 16,
   "metadata": {},
   "outputs": [
    {
     "data": {
      "text/plain": [
       "2.0064102564102564"
      ]
     },
     "execution_count": 16,
     "metadata": {},
     "output_type": "execute_result"
    }
   ],
   "source": [
    "x=y\n",
    "y = (x+a/x)/2\n",
    "y"
   ]
  },
  {
   "cell_type": "markdown",
   "metadata": {},
   "source": [
    "经过几次重复更新，估计值会几乎完全准确"
   ]
  },
  {
   "cell_type": "code",
   "execution_count": 17,
   "metadata": {},
   "outputs": [
    {
     "data": {
      "text/plain": [
       "2.0000102400262145"
      ]
     },
     "execution_count": 17,
     "metadata": {},
     "output_type": "execute_result"
    }
   ],
   "source": [
    "x=y\n",
    "y = (x+a/x)/2\n",
    "y"
   ]
  },
  {
   "cell_type": "code",
   "execution_count": 18,
   "metadata": {},
   "outputs": [
    {
     "data": {
      "text/plain": [
       "2.0000000000262146"
      ]
     },
     "execution_count": 18,
     "metadata": {},
     "output_type": "execute_result"
    }
   ],
   "source": [
    "x=y\n",
    "y = (x+a/x)/2\n",
    "y"
   ]
  },
  {
   "cell_type": "markdown",
   "metadata": {},
   "source": [
    "一般来说，我们并不能提前知道需要多少步才能得到正确的答案，但当估计值不再变化时，我们就知道达到目的了。因此我们将 `y==x` 当作终止条件"
   ]
  },
  {
   "cell_type": "code",
   "execution_count": 19,
   "metadata": {},
   "outputs": [
    {
     "name": "stdout",
     "output_type": "stream",
     "text": [
      "2.0000102400262145\n",
      "2.0000000000262146\n",
      "2.0\n"
     ]
    }
   ],
   "source": [
    "while True:\n",
    "    print(x)\n",
    "    y = (x+a/x)/2\n",
    "    if y==x:\n",
    "        break\n",
    "    x=y"
   ]
  },
  {
   "cell_type": "markdown",
   "metadata": {},
   "source": [
    "对一些情况而言，将等于作为终止条件是没问题的，但通常来说，测试 `float` 的相等是危险的。浮点数值只是近似正确,对大部分有理数和无理数都不能用float精确表示。"
   ]
  },
  {
   "cell_type": "markdown",
   "metadata": {},
   "source": [
    "比起判断 `x` 和 `y` 是否精确相等，更安全的方式是利用内置函数 `abs` 来计算它们之间差值的绝对值，或者说量级:"
   ]
  },
  {
   "cell_type": "code",
   "execution_count": 21,
   "metadata": {},
   "outputs": [
    {
     "name": "stdout",
     "output_type": "stream",
     "text": [
      "2.0\n"
     ]
    }
   ],
   "source": [
    "epsilon=0.0000001\n",
    "while True:\n",
    "    print(x)\n",
    "    y = (x+a/x)/2\n",
    "    if abs(y-x)<epsilon:\n",
    "        break\n",
    "    x=y"
   ]
  },
  {
   "cell_type": "markdown",
   "metadata": {},
   "source": [
    "# 算法"
   ]
  },
  {
   "cell_type": "markdown",
   "metadata": {},
   "source": [
    "上面使用的牛顿算法就是**算法**的一个例子:**它是解决一类问题的机械化过程(在这个例子中，问题是计算平方根)。**"
   ]
  },
  {
   "cell_type": "markdown",
   "metadata": {},
   "source": [
    "算法的特点之一是它们不需要任何聪明才智就能执行。它们是一个机械化的过程，其中每一步都依照一组简单的规则接着上一步进行。"
   ]
  },
  {
   "cell_type": "markdown",
   "metadata": {},
   "source": [
    "执行算法非常枯燥，但**设计算法的过程却充满趣味和智力挑战**，并且是计算机科学的一个核心部分, 也是**计算数学的核心部分。**"
   ]
  },
  {
   "cell_type": "markdown",
   "metadata": {},
   "source": [
    "# 调试"
   ]
  },
  {
   "cell_type": "markdown",
   "metadata": {},
   "source": [
    "当你开始编写更大的程序时，常常会发现自己花费更多的时间用于调试。更多的代码意味着更多的出错机会，以及更多可能隐藏着 bug 的地方。"
   ]
  },
  {
   "cell_type": "markdown",
   "metadata": {},
   "source": [
    "削减调试时间的方法之一是**二分调试**，例如，如果你的程序有100行代码，如果每次检查一行，需要100步。但如果尝试把问题分成两半，找到程序的中点，或者接近那里的地方，找一个可以检验的中间结果，添加一个print语句(或者其他的可以有检查效果的代码)并运行程序。"
   ]
  },
  {
   "cell_type": "markdown",
   "metadata": {},
   "source": [
    "如果中点检验的结果是错误的，说明错误必然出现在程序的前半部分。如果是正确的，那错误则在程序的后半部分。每进行一次这样的检查，就减少了一半需要检查的代码。"
   ]
  },
  {
   "cell_type": "markdown",
   "metadata": {},
   "source": [
    "不过在实践中，常常很难确定程序的中点在哪里，并且并不总是能够检验它，通过数代码行数来确定中点显然没有意义。相反地，应当思考程序中哪些地方可能出错，哪些地方容易加上一个检查。然后选择一个你认为在其前后发生错误概率差不多的点进行检查。"
   ]
  },
  {
   "cell_type": "code",
   "execution_count": null,
   "metadata": {},
   "outputs": [],
   "source": []
  }
 ],
 "metadata": {
  "kernelspec": {
   "display_name": "Python 3",
   "language": "python",
   "name": "python3"
  },
  "language_info": {
   "codemirror_mode": {
    "name": "ipython",
    "version": 3
   },
   "file_extension": ".py",
   "mimetype": "text/x-python",
   "name": "python",
   "nbconvert_exporter": "python",
   "pygments_lexer": "ipython3",
   "version": "3.8.10"
  }
 },
 "nbformat": 4,
 "nbformat_minor": 2
}
